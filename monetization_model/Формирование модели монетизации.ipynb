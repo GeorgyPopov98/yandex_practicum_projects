{
 "cells": [
  {
   "cell_type": "markdown",
   "metadata": {},
   "source": [
    "# Формирование модели монетизации."
   ]
  },
  {
   "cell_type": "markdown",
   "metadata": {},
   "source": [
    "Данное исследование проводится для формирования модели монетизации мобильной игры. "
   ]
  },
  {
   "cell_type": "markdown",
   "metadata": {},
   "source": [
    "## Материалы:\n",
    "* [Презентация](https://docs.google.com/presentation/d/1as_ljyiZGlH1v82b-2nVjGYQMGpmMwJFVAmcS8G6LbY/edit?usp=sharing)\n",
    "* [Дашборд](https://public.tableau.com/app/profile/georgy8624/viz/_16711380449100/Dashboard2?publish=yes)\n",
    "* [Дашборд](https://public.tableau.com/app/profile/georgy8624/viz/_16711398569360/Dashboard1?publish=yes)"
   ]
  },
  {
   "cell_type": "markdown",
   "metadata": {},
   "source": [
    "**Цель исследования**:\n",
    "\n",
    "На основе различных сценариев прохождения игры выявить самый поздний этап, на котором затраты на привлечения пользователя окупаются.\n",
    "\n",
    "**Ход исследования**:\n",
    "Данные о пользовательских активностях в игре возьмем из файла: `game_actions.csv`. В датасете представлены данные по игре пользователей на первом уровне. Завершение первого уровня требует от игрока выполнения одного из двух условий:\n",
    "\n",
    "- Победа над первым врагом\n",
    "- Реализация проекта - разработка орбитальной сборки спутников\n",
    "\n",
    "Данные о рекламе: `ad_costs.csv` и `user_source.csv`. О качестве данных ничего не известно. Поэтому перед проверкой гипотез понадобится обзор и предобработка данных. \n",
    "\n",
    "Проверим данные на ошибки и оценим их влияние на исследование. Затем, на этапе предобработки выявим возможность исправить самые критичные ошибки данных.\n",
    "\n",
    "Затем проведем исследовательский анализ данных. На этом этапе определим:\n",
    "1. Сколько пользователей в логах?\n",
    "2. Сколько пользователей доходят до реализации проекта?\n",
    "3. Сколько пользователей доходят до 2 уровня, победив другого игрока?\n",
    "4. Cтоимость привлечения одного пользователя.\n",
    "5. Окупаемость рекламы в целом, с разбивкой на источники. \n",
    "6. Анализ конверсии и удержания с разбивкой по источникам.\n",
    "\n",
    "После этого проверим несколько **гипотез**:\n",
    "1. Время прохождения уровня между пользователями, которые заканчивают уровень через реализацию проекта, и пользователями, которые заканчивают уровень победой над другим игроком, различны.\n",
    "2. Время прохождения уровня между пользователями, привлеченных из разных рекламных источников, различны.\n",
    "Таким образом, исследование пройдёт в несколько этапов:\n",
    " 1. Изучение общей информации.\n",
    " 2. Предобработка данных.\n",
    " 3. Анализ данных.\n",
    " 4. Проверка статистических гипотез.\n",
    " 5. Общий вывод. \n",
    " 6. Презентация."
   ]
  },
  {
   "cell_type": "markdown",
   "metadata": {},
   "source": [
    "### Формирование модели монетизации.\n",
    "\n",
    "_____\n",
    "###### Данное исследование разделим на несколько частей.\n",
    "\n",
    "##### Часть 1. Изучение общей информации:\n",
    "* [1. Изученеие файлов с данными, получение общей информации, загрузка библиотек.](#1-bullet)\n",
    "##### Часть 2. Предобработка данных:\n",
    "* [1. Приведение данных к нужным типам.](#2-bullet)\n",
    "* [2. Нахождение и ликвидация пропусков.](#3-bullet)\n",
    "* [3. Нахождение дубликатов.](#4-bullet)\n",
    "* [4. Нахождение и исправление аномалий и ошибок.](#5-bullet)\n",
    "##### Часть 3. Исследовательский анализ данных:\n",
    "* [1. Подсчет процента пользователей, дошедших до реализации проекта.](#6-bullet)\n",
    "* [2. Подсчет процента пользователей, победивших другого игрока.](#7-bullet)\n",
    "* [3. Анализ затрат на рекламу.](#8-bullet)\n",
    "* [4. Расчет стоимости привлечения одного пользователя.](#9-bullet)\n",
    "* [5. Оценка окупаемости рекламы для привлечения пользователей.](#10-bullet)\n",
    "* [6. Конверсия пользователей, дошедших до 2 уровня, в разрезе по каналам привлечения.](#11-bullet)\n",
    "##### Часть 4. Проверка гипотез:\n",
    "* [1. Проверка статистических гипотез.](#12-bullet)\n",
    "\n",
    "##### Общий вывод"
   ]
  },
  {
   "cell_type": "markdown",
   "metadata": {},
   "source": [
    "## Изучение общей информации."
   ]
  },
  {
   "cell_type": "markdown",
   "metadata": {},
   "source": [
    "<a id='1-bullet'></a>\n",
    "### Изученеие файлов с данными, получение общей информации, загрузка библиотек."
   ]
  },
  {
   "cell_type": "code",
   "execution_count": 1,
   "metadata": {},
   "outputs": [],
   "source": [
    "import pandas as pd #импорт библиотеки Pandas\n",
    "import matplotlib.pyplot as plt #импорт библиотеки matplotlib.pyplot\n",
    "import numpy as np #импорт библиотеки numpy\n",
    "from scipy import stats as st #импорт библиотеки stats"
   ]
  },
  {
   "cell_type": "markdown",
   "metadata": {},
   "source": [
    "Загрузим датасеты для анализа данных."
   ]
  },
  {
   "cell_type": "code",
   "execution_count": 2,
   "metadata": {},
   "outputs": [],
   "source": [
    "game_actions = pd.read_csv(\"D://Programs//game_actions.csv\")"
   ]
  },
  {
   "cell_type": "code",
   "execution_count": 3,
   "metadata": {},
   "outputs": [
    {
     "name": "stdout",
     "output_type": "stream",
     "text": [
      "<class 'pandas.core.frame.DataFrame'>\n",
      "RangeIndex: 135640 entries, 0 to 135639\n",
      "Data columns (total 5 columns):\n",
      " #   Column          Non-Null Count   Dtype \n",
      "---  ------          --------------   ----- \n",
      " 0   event_datetime  135640 non-null  object\n",
      " 1   event           135640 non-null  object\n",
      " 2   building_type   127957 non-null  object\n",
      " 3   user_id         135640 non-null  object\n",
      " 4   project_type    1866 non-null    object\n",
      "dtypes: object(5)\n",
      "memory usage: 5.2+ MB\n"
     ]
    }
   ],
   "source": [
    "game_actions.info() #получение общей информацииgame_actions"
   ]
  },
  {
   "cell_type": "markdown",
   "metadata": {},
   "source": [
    "Таблица `game_actions`:\n",
    "- `event_datetime` — время события;\n",
    "- `event` — одно из трёх событий:\n",
    "    1. `building` — объект построен,\n",
    "    2. `finished_stage_1` — первый уровень завершён,\n",
    "    3. `project` — проект завершён;\n",
    "- `building_type` — один из трёх типов здания:\n",
    "    1. `assembly_shop` — сборочный цех,\n",
    "    2. `spaceport` — космопорт,\n",
    "    3. `research_center` — исследовательский центр;\n",
    "- `user_id` — идентификатор пользователя;\n",
    "- `project_type` — тип реализованного проекта;"
   ]
  },
  {
   "cell_type": "code",
   "execution_count": 4,
   "metadata": {},
   "outputs": [
    {
     "data": {
      "text/html": [
       "<div>\n",
       "<style scoped>\n",
       "    .dataframe tbody tr th:only-of-type {\n",
       "        vertical-align: middle;\n",
       "    }\n",
       "\n",
       "    .dataframe tbody tr th {\n",
       "        vertical-align: top;\n",
       "    }\n",
       "\n",
       "    .dataframe thead th {\n",
       "        text-align: right;\n",
       "    }\n",
       "</style>\n",
       "<table border=\"1\" class=\"dataframe\">\n",
       "  <thead>\n",
       "    <tr style=\"text-align: right;\">\n",
       "      <th></th>\n",
       "      <th>event_datetime</th>\n",
       "      <th>event</th>\n",
       "      <th>building_type</th>\n",
       "      <th>user_id</th>\n",
       "      <th>project_type</th>\n",
       "    </tr>\n",
       "  </thead>\n",
       "  <tbody>\n",
       "    <tr>\n",
       "      <th>0</th>\n",
       "      <td>2020-05-04 00:00:01</td>\n",
       "      <td>building</td>\n",
       "      <td>assembly_shop</td>\n",
       "      <td>55e92310-cb8e-4754-b622-597e124b03de</td>\n",
       "      <td>NaN</td>\n",
       "    </tr>\n",
       "    <tr>\n",
       "      <th>1</th>\n",
       "      <td>2020-05-04 00:00:03</td>\n",
       "      <td>building</td>\n",
       "      <td>assembly_shop</td>\n",
       "      <td>c07b1c10-f477-44dc-81dc-ec82254b1347</td>\n",
       "      <td>NaN</td>\n",
       "    </tr>\n",
       "    <tr>\n",
       "      <th>2</th>\n",
       "      <td>2020-05-04 00:00:16</td>\n",
       "      <td>building</td>\n",
       "      <td>assembly_shop</td>\n",
       "      <td>6edd42cc-e753-4ff6-a947-2107cd560710</td>\n",
       "      <td>NaN</td>\n",
       "    </tr>\n",
       "    <tr>\n",
       "      <th>3</th>\n",
       "      <td>2020-05-04 00:00:16</td>\n",
       "      <td>building</td>\n",
       "      <td>assembly_shop</td>\n",
       "      <td>92c69003-d60a-444a-827f-8cc51bf6bf4c</td>\n",
       "      <td>NaN</td>\n",
       "    </tr>\n",
       "    <tr>\n",
       "      <th>4</th>\n",
       "      <td>2020-05-04 00:00:35</td>\n",
       "      <td>building</td>\n",
       "      <td>assembly_shop</td>\n",
       "      <td>cdc6bb92-0ccb-4490-9866-ef142f09139d</td>\n",
       "      <td>NaN</td>\n",
       "    </tr>\n",
       "  </tbody>\n",
       "</table>\n",
       "</div>"
      ],
      "text/plain": [
       "        event_datetime     event  building_type  \\\n",
       "0  2020-05-04 00:00:01  building  assembly_shop   \n",
       "1  2020-05-04 00:00:03  building  assembly_shop   \n",
       "2  2020-05-04 00:00:16  building  assembly_shop   \n",
       "3  2020-05-04 00:00:16  building  assembly_shop   \n",
       "4  2020-05-04 00:00:35  building  assembly_shop   \n",
       "\n",
       "                                user_id project_type  \n",
       "0  55e92310-cb8e-4754-b622-597e124b03de          NaN  \n",
       "1  c07b1c10-f477-44dc-81dc-ec82254b1347          NaN  \n",
       "2  6edd42cc-e753-4ff6-a947-2107cd560710          NaN  \n",
       "3  92c69003-d60a-444a-827f-8cc51bf6bf4c          NaN  \n",
       "4  cdc6bb92-0ccb-4490-9866-ef142f09139d          NaN  "
      ]
     },
     "execution_count": 4,
     "metadata": {},
     "output_type": "execute_result"
    }
   ],
   "source": [
    "game_actions.head()"
   ]
  },
  {
   "cell_type": "code",
   "execution_count": 5,
   "metadata": {},
   "outputs": [],
   "source": [
    "ad_costs = pd.read_csv(\"D://Programs//ad_costs.csv\")"
   ]
  },
  {
   "cell_type": "code",
   "execution_count": 6,
   "metadata": {},
   "outputs": [
    {
     "name": "stdout",
     "output_type": "stream",
     "text": [
      "<class 'pandas.core.frame.DataFrame'>\n",
      "RangeIndex: 28 entries, 0 to 27\n",
      "Data columns (total 3 columns):\n",
      " #   Column  Non-Null Count  Dtype  \n",
      "---  ------  --------------  -----  \n",
      " 0   source  28 non-null     object \n",
      " 1   day     28 non-null     object \n",
      " 2   cost    28 non-null     float64\n",
      "dtypes: float64(1), object(2)\n",
      "memory usage: 800.0+ bytes\n"
     ]
    }
   ],
   "source": [
    "ad_costs.info() #получение общей информации ad_costs"
   ]
  },
  {
   "cell_type": "markdown",
   "metadata": {},
   "source": [
    "Таблица `ad_costs`:\n",
    "- `day` - день, в который был совершен клик по объявлению\n",
    "- `source` - источник трафика\n",
    "- `cost` - стоимость кликов"
   ]
  },
  {
   "cell_type": "code",
   "execution_count": 7,
   "metadata": {},
   "outputs": [
    {
     "data": {
      "text/html": [
       "<div>\n",
       "<style scoped>\n",
       "    .dataframe tbody tr th:only-of-type {\n",
       "        vertical-align: middle;\n",
       "    }\n",
       "\n",
       "    .dataframe tbody tr th {\n",
       "        vertical-align: top;\n",
       "    }\n",
       "\n",
       "    .dataframe thead th {\n",
       "        text-align: right;\n",
       "    }\n",
       "</style>\n",
       "<table border=\"1\" class=\"dataframe\">\n",
       "  <thead>\n",
       "    <tr style=\"text-align: right;\">\n",
       "      <th></th>\n",
       "      <th>source</th>\n",
       "      <th>day</th>\n",
       "      <th>cost</th>\n",
       "    </tr>\n",
       "  </thead>\n",
       "  <tbody>\n",
       "    <tr>\n",
       "      <th>0</th>\n",
       "      <td>facebook_ads</td>\n",
       "      <td>2020-05-03</td>\n",
       "      <td>935.882786</td>\n",
       "    </tr>\n",
       "    <tr>\n",
       "      <th>1</th>\n",
       "      <td>facebook_ads</td>\n",
       "      <td>2020-05-04</td>\n",
       "      <td>548.354480</td>\n",
       "    </tr>\n",
       "    <tr>\n",
       "      <th>2</th>\n",
       "      <td>facebook_ads</td>\n",
       "      <td>2020-05-05</td>\n",
       "      <td>260.185754</td>\n",
       "    </tr>\n",
       "    <tr>\n",
       "      <th>3</th>\n",
       "      <td>facebook_ads</td>\n",
       "      <td>2020-05-06</td>\n",
       "      <td>177.982200</td>\n",
       "    </tr>\n",
       "    <tr>\n",
       "      <th>4</th>\n",
       "      <td>facebook_ads</td>\n",
       "      <td>2020-05-07</td>\n",
       "      <td>111.766796</td>\n",
       "    </tr>\n",
       "  </tbody>\n",
       "</table>\n",
       "</div>"
      ],
      "text/plain": [
       "         source         day        cost\n",
       "0  facebook_ads  2020-05-03  935.882786\n",
       "1  facebook_ads  2020-05-04  548.354480\n",
       "2  facebook_ads  2020-05-05  260.185754\n",
       "3  facebook_ads  2020-05-06  177.982200\n",
       "4  facebook_ads  2020-05-07  111.766796"
      ]
     },
     "execution_count": 7,
     "metadata": {},
     "output_type": "execute_result"
    }
   ],
   "source": [
    "ad_costs.head(5)"
   ]
  },
  {
   "cell_type": "code",
   "execution_count": 8,
   "metadata": {},
   "outputs": [],
   "source": [
    "user_source = pd.read_csv(\"D://Programs//user_source.csv\")"
   ]
  },
  {
   "cell_type": "code",
   "execution_count": 9,
   "metadata": {},
   "outputs": [
    {
     "name": "stdout",
     "output_type": "stream",
     "text": [
      "<class 'pandas.core.frame.DataFrame'>\n",
      "RangeIndex: 13576 entries, 0 to 13575\n",
      "Data columns (total 2 columns):\n",
      " #   Column   Non-Null Count  Dtype \n",
      "---  ------   --------------  ----- \n",
      " 0   user_id  13576 non-null  object\n",
      " 1   source   13576 non-null  object\n",
      "dtypes: object(2)\n",
      "memory usage: 212.2+ KB\n"
     ]
    }
   ],
   "source": [
    "user_source.info() #получение общей информации user_source"
   ]
  },
  {
   "cell_type": "markdown",
   "metadata": {},
   "source": [
    "Таблица `user_source`:\n",
    "- `user_id` - идентификатор пользователя\n",
    "- `source` - источников, с которого пришёл пользователь, установивший приложение"
   ]
  },
  {
   "cell_type": "code",
   "execution_count": 10,
   "metadata": {},
   "outputs": [
    {
     "data": {
      "text/html": [
       "<div>\n",
       "<style scoped>\n",
       "    .dataframe tbody tr th:only-of-type {\n",
       "        vertical-align: middle;\n",
       "    }\n",
       "\n",
       "    .dataframe tbody tr th {\n",
       "        vertical-align: top;\n",
       "    }\n",
       "\n",
       "    .dataframe thead th {\n",
       "        text-align: right;\n",
       "    }\n",
       "</style>\n",
       "<table border=\"1\" class=\"dataframe\">\n",
       "  <thead>\n",
       "    <tr style=\"text-align: right;\">\n",
       "      <th></th>\n",
       "      <th>user_id</th>\n",
       "      <th>source</th>\n",
       "    </tr>\n",
       "  </thead>\n",
       "  <tbody>\n",
       "    <tr>\n",
       "      <th>0</th>\n",
       "      <td>0001f83c-c6ac-4621-b7f0-8a28b283ac30</td>\n",
       "      <td>facebook_ads</td>\n",
       "    </tr>\n",
       "    <tr>\n",
       "      <th>1</th>\n",
       "      <td>00151b4f-ba38-44a8-a650-d7cf130a0105</td>\n",
       "      <td>yandex_direct</td>\n",
       "    </tr>\n",
       "    <tr>\n",
       "      <th>2</th>\n",
       "      <td>001aaea6-3d14-43f1-8ca8-7f48820f17aa</td>\n",
       "      <td>youtube_channel_reklama</td>\n",
       "    </tr>\n",
       "    <tr>\n",
       "      <th>3</th>\n",
       "      <td>001d39dc-366c-4021-9604-6a3b9ff01e25</td>\n",
       "      <td>instagram_new_adverts</td>\n",
       "    </tr>\n",
       "    <tr>\n",
       "      <th>4</th>\n",
       "      <td>002f508f-67b6-479f-814b-b05f00d4e995</td>\n",
       "      <td>facebook_ads</td>\n",
       "    </tr>\n",
       "  </tbody>\n",
       "</table>\n",
       "</div>"
      ],
      "text/plain": [
       "                                user_id                   source\n",
       "0  0001f83c-c6ac-4621-b7f0-8a28b283ac30             facebook_ads\n",
       "1  00151b4f-ba38-44a8-a650-d7cf130a0105            yandex_direct\n",
       "2  001aaea6-3d14-43f1-8ca8-7f48820f17aa  youtube_channel_reklama\n",
       "3  001d39dc-366c-4021-9604-6a3b9ff01e25    instagram_new_adverts\n",
       "4  002f508f-67b6-479f-814b-b05f00d4e995             facebook_ads"
      ]
     },
     "execution_count": 10,
     "metadata": {},
     "output_type": "execute_result"
    }
   ],
   "source": [
    "user_source.head()"
   ]
  },
  {
   "cell_type": "markdown",
   "metadata": {},
   "source": [
    "## Предобработка данных."
   ]
  },
  {
   "cell_type": "markdown",
   "metadata": {},
   "source": [
    "<a id='2-bullet'></a>\n",
    "### Приведение данных к нужным типам."
   ]
  },
  {
   "cell_type": "markdown",
   "metadata": {},
   "source": [
    "Приведем столбцы `event_datetime` в таблице `game_actions` и `day` в таблице `ad_costs` к типу `datetime`"
   ]
  },
  {
   "cell_type": "code",
   "execution_count": 11,
   "metadata": {},
   "outputs": [],
   "source": [
    "game_actions['event_datetime'] = pd.to_datetime(game_actions['event_datetime'], format= \"%Y/%m/%d\")"
   ]
  },
  {
   "cell_type": "code",
   "execution_count": 12,
   "metadata": {},
   "outputs": [],
   "source": [
    "ad_costs['day'] = pd.to_datetime(ad_costs['day'], format= \"%Y/%m/%d\")"
   ]
  },
  {
   "cell_type": "markdown",
   "metadata": {},
   "source": [
    "<a id='3-bullet'></a>\n",
    "### Нахождение и ликвидация пропусков."
   ]
  },
  {
   "cell_type": "code",
   "execution_count": 13,
   "metadata": {},
   "outputs": [
    {
     "data": {
      "text/plain": [
       "event_datetime         0\n",
       "event                  0\n",
       "building_type       7683\n",
       "user_id                0\n",
       "project_type      133774\n",
       "dtype: int64"
      ]
     },
     "execution_count": 13,
     "metadata": {},
     "output_type": "execute_result"
    }
   ],
   "source": [
    "game_actions.isna().sum()"
   ]
  },
  {
   "cell_type": "code",
   "execution_count": 14,
   "metadata": {},
   "outputs": [
    {
     "data": {
      "text/plain": [
       "array(['building', 'finished_stage_1', 'project'], dtype=object)"
      ]
     },
     "execution_count": 14,
     "metadata": {},
     "output_type": "execute_result"
    }
   ],
   "source": [
    "game_actions['event'].unique()"
   ]
  },
  {
   "cell_type": "code",
   "execution_count": 15,
   "metadata": {},
   "outputs": [
    {
     "data": {
      "text/plain": [
       "array(['assembly_shop', 'spaceport', nan, 'research_center'], dtype=object)"
      ]
     },
     "execution_count": 15,
     "metadata": {},
     "output_type": "execute_result"
    }
   ],
   "source": [
    "game_actions['building_type'].unique()"
   ]
  },
  {
   "cell_type": "markdown",
   "metadata": {},
   "source": [
    "Некоторые пропуски данных в столбце `building_type` объясняются тем, что не все события связаны с постройкой зданий. Посмотрим нет ли пропусков типа постройки в событиях `building`."
   ]
  },
  {
   "cell_type": "code",
   "execution_count": 16,
   "metadata": {},
   "outputs": [
    {
     "data": {
      "text/plain": [
       "event_datetime         0\n",
       "event                  0\n",
       "building_type          0\n",
       "user_id                0\n",
       "project_type      127957\n",
       "dtype: int64"
      ]
     },
     "execution_count": 16,
     "metadata": {},
     "output_type": "execute_result"
    }
   ],
   "source": [
    "game_actions.query('event == \"building\"').isna().sum()"
   ]
  },
  {
   "cell_type": "markdown",
   "metadata": {},
   "source": [
    "Пропусков данных в столбце `building_type` в событиях `building` не оказалось."
   ]
  },
  {
   "cell_type": "code",
   "execution_count": 17,
   "metadata": {},
   "outputs": [
    {
     "data": {
      "text/plain": [
       "source    0\n",
       "day       0\n",
       "cost      0\n",
       "dtype: int64"
      ]
     },
     "execution_count": 17,
     "metadata": {},
     "output_type": "execute_result"
    }
   ],
   "source": [
    "ad_costs.isna().sum()"
   ]
  },
  {
   "cell_type": "code",
   "execution_count": 18,
   "metadata": {},
   "outputs": [
    {
     "data": {
      "text/plain": [
       "user_id    0\n",
       "source     0\n",
       "dtype: int64"
      ]
     },
     "execution_count": 18,
     "metadata": {},
     "output_type": "execute_result"
    }
   ],
   "source": [
    "user_source.isna().sum()"
   ]
  },
  {
   "cell_type": "markdown",
   "metadata": {},
   "source": [
    "<a id='4-bullet'></a>\n",
    "### Нахождение дубликатов."
   ]
  },
  {
   "cell_type": "markdown",
   "metadata": {},
   "source": [
    "Проверим датасеты на наличие явных дубликатов."
   ]
  },
  {
   "cell_type": "code",
   "execution_count": 19,
   "metadata": {},
   "outputs": [
    {
     "data": {
      "text/plain": [
       "1"
      ]
     },
     "execution_count": 19,
     "metadata": {},
     "output_type": "execute_result"
    }
   ],
   "source": [
    "game_actions.duplicated().sum() #нахождение явных дубликатов"
   ]
  },
  {
   "cell_type": "code",
   "execution_count": 20,
   "metadata": {},
   "outputs": [],
   "source": [
    "game_actions = game_actions.drop_duplicates().reset_index(drop=True)\n",
    "# удаление явных дубликатов (с удалением старых индексов и формированием новых)"
   ]
  },
  {
   "cell_type": "code",
   "execution_count": 21,
   "metadata": {},
   "outputs": [
    {
     "data": {
      "text/plain": [
       "0"
      ]
     },
     "execution_count": 21,
     "metadata": {},
     "output_type": "execute_result"
    }
   ],
   "source": [
    "ad_costs.duplicated().sum() #нахождение явных дубликатов"
   ]
  },
  {
   "cell_type": "code",
   "execution_count": 22,
   "metadata": {},
   "outputs": [
    {
     "data": {
      "text/plain": [
       "0"
      ]
     },
     "execution_count": 22,
     "metadata": {},
     "output_type": "execute_result"
    }
   ],
   "source": [
    "user_source.duplicated().sum() #нахождение явных дубликатов"
   ]
  },
  {
   "cell_type": "markdown",
   "metadata": {},
   "source": [
    "Проверим также некоторые столбцы на неявные дубликаты."
   ]
  },
  {
   "cell_type": "code",
   "execution_count": 23,
   "metadata": {},
   "outputs": [
    {
     "data": {
      "text/plain": [
       "array(['facebook_ads', 'yandex_direct', 'youtube_channel_reklama',\n",
       "       'instagram_new_adverts'], dtype=object)"
      ]
     },
     "execution_count": 23,
     "metadata": {},
     "output_type": "execute_result"
    }
   ],
   "source": [
    "user_source['source'].unique()"
   ]
  },
  {
   "cell_type": "code",
   "execution_count": 24,
   "metadata": {},
   "outputs": [
    {
     "data": {
      "text/plain": [
       "array(['building', 'finished_stage_1', 'project'], dtype=object)"
      ]
     },
     "execution_count": 24,
     "metadata": {},
     "output_type": "execute_result"
    }
   ],
   "source": [
    "game_actions['event'].unique()"
   ]
  },
  {
   "cell_type": "code",
   "execution_count": 25,
   "metadata": {},
   "outputs": [
    {
     "data": {
      "text/plain": [
       "array(['assembly_shop', 'spaceport', nan, 'research_center'], dtype=object)"
      ]
     },
     "execution_count": 25,
     "metadata": {},
     "output_type": "execute_result"
    }
   ],
   "source": [
    "game_actions['building_type'].unique()"
   ]
  },
  {
   "cell_type": "code",
   "execution_count": 26,
   "metadata": {},
   "outputs": [
    {
     "data": {
      "text/plain": [
       "array([nan, 'satellite_orbital_assembly'], dtype=object)"
      ]
     },
     "execution_count": 26,
     "metadata": {},
     "output_type": "execute_result"
    }
   ],
   "source": [
    "game_actions['project_type'].unique()"
   ]
  },
  {
   "cell_type": "markdown",
   "metadata": {},
   "source": [
    "Неявных дубликатов выявлено не было."
   ]
  },
  {
   "cell_type": "markdown",
   "metadata": {},
   "source": [
    "<a id='5-bullet'></a>\n",
    "### Нахождение и исправление аномалий и ошибок."
   ]
  },
  {
   "cell_type": "code",
   "execution_count": 27,
   "metadata": {},
   "outputs": [
    {
     "data": {
      "text/plain": [
       "count     28.000000\n",
       "mean     271.556321\n",
       "std      286.867650\n",
       "min       23.314669\n",
       "25%       66.747365\n",
       "50%      160.056443\n",
       "75%      349.034473\n",
       "max      969.139394\n",
       "Name: cost, dtype: float64"
      ]
     },
     "execution_count": 27,
     "metadata": {},
     "output_type": "execute_result"
    }
   ],
   "source": [
    "ad_costs['cost'].describe()"
   ]
  },
  {
   "cell_type": "markdown",
   "metadata": {},
   "source": [
    "Аномально больших трат на релкаму обнаруженно не было."
   ]
  },
  {
   "cell_type": "markdown",
   "metadata": {},
   "source": [
    "## Исследовательский анализ данных."
   ]
  },
  {
   "cell_type": "markdown",
   "metadata": {},
   "source": [
    "<a id='6-bullet'></a>\n",
    "### Подсчет процента пользователей, дошедших до реализации проекта."
   ]
  },
  {
   "cell_type": "code",
   "execution_count": 28,
   "metadata": {},
   "outputs": [
    {
     "data": {
      "text/plain": [
       "14.0"
      ]
     },
     "execution_count": 28,
     "metadata": {},
     "output_type": "execute_result"
    }
   ],
   "source": [
    "round(\n",
    "    game_actions.query('event==\"project\"')[\"user_id\"].nunique()\n",
    "    / game_actions[\"user_id\"].nunique()\n",
    "    * 100,\n",
    "    0,\n",
    ")"
   ]
  },
  {
   "cell_type": "markdown",
   "metadata": {},
   "source": [
    "14 процентов от всех игроков дошли до 2 уровня игры через реализацию проекта."
   ]
  },
  {
   "cell_type": "markdown",
   "metadata": {},
   "source": [
    "<a id='7-bullet'></a>\n",
    "### Подсчет процента пользователей, победивших другого игрока."
   ]
  },
  {
   "cell_type": "code",
   "execution_count": 29,
   "metadata": {},
   "outputs": [
    {
     "data": {
      "text/plain": [
       "29.0"
      ]
     },
     "execution_count": 29,
     "metadata": {},
     "output_type": "execute_result"
    }
   ],
   "source": [
    "round(\n",
    "    (\n",
    "        game_actions.query('event == \"finished_stage_1\"')[\"user_id\"].nunique()\n",
    "        - game_actions.query('event == \"project\"')[\"user_id\"].nunique()\n",
    "    )\n",
    "    / game_actions[\"user_id\"].nunique()\n",
    "    * 100,\n",
    "    0,\n",
    ")"
   ]
  },
  {
   "cell_type": "markdown",
   "metadata": {},
   "source": [
    "29 процентов от всех игроков дошли до 2 уровня игры через победу другого игрока."
   ]
  },
  {
   "cell_type": "markdown",
   "metadata": {},
   "source": [
    "<a id='8-bullet'></a>\n",
    "### Анализ затрат на рекламу."
   ]
  },
  {
   "cell_type": "markdown",
   "metadata": {},
   "source": [
    "Выясним сколько всего было потрачено денег."
   ]
  },
  {
   "cell_type": "code",
   "execution_count": 30,
   "metadata": {},
   "outputs": [
    {
     "data": {
      "text/plain": [
       "7603.576986788023"
      ]
     },
     "execution_count": 30,
     "metadata": {},
     "output_type": "execute_result"
    }
   ],
   "source": [
    "ad_costs['cost'].sum()"
   ]
  },
  {
   "cell_type": "markdown",
   "metadata": {},
   "source": [
    "Всего денег на рекламу было потрачено 7603 условных единиц."
   ]
  },
  {
   "cell_type": "markdown",
   "metadata": {},
   "source": [
    "Выясним сколько было потрачено денег на каждый источник."
   ]
  },
  {
   "cell_type": "code",
   "execution_count": 31,
   "metadata": {},
   "outputs": [
    {
     "data": {
      "image/png": "[encoded data removed]",
      "text/plain": [
       "<Figure size 432x288 with 1 Axes>"
      ]
     },
     "metadata": {
      "needs_background": "light"
     },
     "output_type": "display_data"
    }
   ],
   "source": [
    "ad_costs.groupby(\"source\").sum().reset_index().plot(\n",
    "    x=\"source\",\n",
    "    y=\"cost\",\n",
    "    kind=\"bar\",\n",
    "    title=\"Количество денег на каждый источник\",\n",
    "    xlabel=\"Источник\",\n",
    "    ylabel=\"Количество денег\",\n",
    ")\n",
    "plt.show()"
   ]
  },
  {
   "cell_type": "markdown",
   "metadata": {},
   "source": [
    "Меньше всего на рекламу было потрачено на источник `youtube_channel_reklama`."
   ]
  },
  {
   "cell_type": "code",
   "execution_count": 32,
   "metadata": {},
   "outputs": [],
   "source": [
    "sum_costs=ad_costs.groupby(['day','source']).agg({'cost':'sum'}).reset_index()"
   ]
  },
  {
   "cell_type": "code",
   "execution_count": 33,
   "metadata": {},
   "outputs": [
    {
     "data": {
      "image/png": "[encoded data removed]",
      "text/plain": [
       "<Figure size 720x432 with 1 Axes>"
      ]
     },
     "metadata": {
      "needs_background": "light"
     },
     "output_type": "display_data"
    }
   ],
   "source": [
    "sum_costs.groupby(\"day\").sum().reset_index().plot(\n",
    "    x=\"day\",\n",
    "    y=\"cost\",\n",
    "    kind=\"bar\",\n",
    "    title=\"Количество трат на рекламу на каждый день\",\n",
    "    xlabel=\"Дата\",\n",
    "    ylabel=\"Количество денег\",\n",
    "    figsize=[10, 6],\n",
    ")\n",
    "plt.show()"
   ]
  },
  {
   "cell_type": "markdown",
   "metadata": {},
   "source": [
    "Расходы на рекламу постепенно снижались."
   ]
  },
  {
   "cell_type": "code",
   "execution_count": 34,
   "metadata": {},
   "outputs": [
    {
     "data": {
      "image/png": "[encoded data removed]",
      "text/plain": [
       "<Figure size 720x720 with 1 Axes>"
      ]
     },
     "metadata": {
      "needs_background": "light"
     },
     "output_type": "display_data"
    }
   ],
   "source": [
    "sum_costs.pivot_table(index='day',columns='source',values='cost').plot.area(figsize=(10,10)\n",
    "                                                                            ,title ='Расходы на привлечение по дням'\n",
    "                                                                            ,xlabel='День'\n",
    "                                                                            ,ylabel='Затраты, уе')\n",
    "plt.show()"
   ]
  },
  {
   "cell_type": "markdown",
   "metadata": {},
   "source": [
    "Больше всего денег в динамике было потрачено на `facebook_ads`."
   ]
  },
  {
   "cell_type": "markdown",
   "metadata": {},
   "source": [
    "<a id='9-bullet'></a>\n",
    "### Анализ затрат на рекламу."
   ]
  },
  {
   "cell_type": "markdown",
   "metadata": {},
   "source": [
    "Узнаем сколько стоило привлечение одного пользователя для игры."
   ]
  },
  {
   "cell_type": "code",
   "execution_count": 35,
   "metadata": {},
   "outputs": [
    {
     "data": {
      "text/plain": [
       "0.5600749106355349"
      ]
     },
     "execution_count": 35,
     "metadata": {},
     "output_type": "execute_result"
    }
   ],
   "source": [
    "ad_costs['cost'].sum()/user_source['user_id'].nunique()"
   ]
  },
  {
   "cell_type": "markdown",
   "metadata": {},
   "source": [
    "Стоимость привлчения одного клиента составил 0.56 у.е."
   ]
  },
  {
   "cell_type": "markdown",
   "metadata": {},
   "source": [
    "Далее найдем CAC для каждого рекламного источника."
   ]
  },
  {
   "cell_type": "code",
   "execution_count": 36,
   "metadata": {},
   "outputs": [],
   "source": [
    "user_source_group = user_source.groupby('source').agg({'user_id':'nunique'})"
   ]
  },
  {
   "cell_type": "code",
   "execution_count": 37,
   "metadata": {},
   "outputs": [],
   "source": [
    "ad_costs_merge = sum_costs.merge(user_source_group, how='left', on='source')"
   ]
  },
  {
   "cell_type": "code",
   "execution_count": 38,
   "metadata": {},
   "outputs": [],
   "source": [
    "ad_costs_merge['acquisition_cost'] = ad_costs_merge['cost']/ad_costs_merge['user_id']"
   ]
  },
  {
   "cell_type": "code",
   "execution_count": 39,
   "metadata": {},
   "outputs": [
    {
     "data": {
      "text/html": [
       "<style type=\"text/css\">\n",
       "</style>\n",
       "<table id=\"T_4eaf7\">\n",
       "  <thead>\n",
       "    <tr>\n",
       "      <th class=\"blank level0\" >&nbsp;</th>\n",
       "      <th id=\"T_4eaf7_level0_col0\" class=\"col_heading level0 col0\" >day</th>\n",
       "      <th id=\"T_4eaf7_level0_col1\" class=\"col_heading level0 col1\" >source</th>\n",
       "      <th id=\"T_4eaf7_level0_col2\" class=\"col_heading level0 col2\" >cost</th>\n",
       "      <th id=\"T_4eaf7_level0_col3\" class=\"col_heading level0 col3\" >user_id</th>\n",
       "      <th id=\"T_4eaf7_level0_col4\" class=\"col_heading level0 col4\" >acquisition_cost</th>\n",
       "    </tr>\n",
       "  </thead>\n",
       "  <tbody>\n",
       "    <tr>\n",
       "      <th id=\"T_4eaf7_level0_row0\" class=\"row_heading level0 row0\" >0</th>\n",
       "      <td id=\"T_4eaf7_row0_col0\" class=\"data row0 col0\" >2020-05-03 00:00:00</td>\n",
       "      <td id=\"T_4eaf7_row0_col1\" class=\"data row0 col1\" >facebook_ads</td>\n",
       "      <td id=\"T_4eaf7_row0_col2\" class=\"data row0 col2\" >935.882786</td>\n",
       "      <td id=\"T_4eaf7_row0_col3\" class=\"data row0 col3\" >2726</td>\n",
       "      <td id=\"T_4eaf7_row0_col4\" class=\"data row0 col4\" >0.34</td>\n",
       "    </tr>\n",
       "    <tr>\n",
       "      <th id=\"T_4eaf7_level0_row1\" class=\"row_heading level0 row1\" >1</th>\n",
       "      <td id=\"T_4eaf7_row1_col0\" class=\"data row1 col0\" >2020-05-03 00:00:00</td>\n",
       "      <td id=\"T_4eaf7_row1_col1\" class=\"data row1 col1\" >instagram_new_adverts</td>\n",
       "      <td id=\"T_4eaf7_row1_col2\" class=\"data row1 col2\" >943.204717</td>\n",
       "      <td id=\"T_4eaf7_row1_col3\" class=\"data row1 col3\" >3347</td>\n",
       "      <td id=\"T_4eaf7_row1_col4\" class=\"data row1 col4\" >0.28</td>\n",
       "    </tr>\n",
       "    <tr>\n",
       "      <th id=\"T_4eaf7_level0_row2\" class=\"row_heading level0 row2\" >2</th>\n",
       "      <td id=\"T_4eaf7_row2_col0\" class=\"data row2 col0\" >2020-05-03 00:00:00</td>\n",
       "      <td id=\"T_4eaf7_row2_col1\" class=\"data row2 col1\" >yandex_direct</td>\n",
       "      <td id=\"T_4eaf7_row2_col2\" class=\"data row2 col2\" >969.139394</td>\n",
       "      <td id=\"T_4eaf7_row2_col3\" class=\"data row2 col3\" >4817</td>\n",
       "      <td id=\"T_4eaf7_row2_col4\" class=\"data row2 col4\" >0.20</td>\n",
       "    </tr>\n",
       "    <tr>\n",
       "      <th id=\"T_4eaf7_level0_row3\" class=\"row_heading level0 row3\" >3</th>\n",
       "      <td id=\"T_4eaf7_row3_col0\" class=\"data row3 col0\" >2020-05-03 00:00:00</td>\n",
       "      <td id=\"T_4eaf7_row3_col1\" class=\"data row3 col1\" >youtube_channel_reklama</td>\n",
       "      <td id=\"T_4eaf7_row3_col2\" class=\"data row3 col2\" >454.224943</td>\n",
       "      <td id=\"T_4eaf7_row3_col3\" class=\"data row3 col3\" >2686</td>\n",
       "      <td id=\"T_4eaf7_row3_col4\" class=\"data row3 col4\" >0.17</td>\n",
       "    </tr>\n",
       "    <tr>\n",
       "      <th id=\"T_4eaf7_level0_row4\" class=\"row_heading level0 row4\" >4</th>\n",
       "      <td id=\"T_4eaf7_row4_col0\" class=\"data row4 col0\" >2020-05-04 00:00:00</td>\n",
       "      <td id=\"T_4eaf7_row4_col1\" class=\"data row4 col1\" >facebook_ads</td>\n",
       "      <td id=\"T_4eaf7_row4_col2\" class=\"data row4 col2\" >548.354480</td>\n",
       "      <td id=\"T_4eaf7_row4_col3\" class=\"data row4 col3\" >2726</td>\n",
       "      <td id=\"T_4eaf7_row4_col4\" class=\"data row4 col4\" >0.20</td>\n",
       "    </tr>\n",
       "  </tbody>\n",
       "</table>\n"
      ],
      "text/plain": [
       "<pandas.io.formats.style.Styler at 0x2608ab0e7f0>"
      ]
     },
     "execution_count": 39,
     "metadata": {},
     "output_type": "execute_result"
    }
   ],
   "source": [
    "ad_costs_merge.head().style.format({'acquisition_cost': '{:.2f}'})"
   ]
  },
  {
   "cell_type": "code",
   "execution_count": 40,
   "metadata": {},
   "outputs": [
    {
     "data": {
      "image/png": "[encoded data removed]",
      "text/plain": [
       "<Figure size 720x432 with 1 Axes>"
      ]
     },
     "metadata": {
      "needs_background": "light"
     },
     "output_type": "display_data"
    }
   ],
   "source": [
    "ad_costs_merge.groupby(\"source\").agg({\"acquisition_cost\": \"mean\"}).reset_index().plot(\n",
    "    x=\"source\",\n",
    "    y=\"acquisition_cost\",\n",
    "    kind=\"bar\",\n",
    "    title=\"Средний CAC для каждого источника трафика\",\n",
    "    xlabel=\"Канал\",\n",
    "    ylabel=\"САС\",\n",
    "    figsize=[10, 6],\n",
    ")\n",
    "plt.show()"
   ]
  },
  {
   "cell_type": "markdown",
   "metadata": {},
   "source": [
    "В среднем, стоимость привлечения одного клиента выше всего у канала `facebook_ads` и `instagram_new_adverts`."
   ]
  },
  {
   "cell_type": "markdown",
   "metadata": {},
   "source": [
    "<a id='10-bullet'></a>\n",
    "### Оценка окупаемости рекламы для привлечения пользователей в разрезе по рекламным каналам."
   ]
  },
  {
   "cell_type": "code",
   "execution_count": 41,
   "metadata": {},
   "outputs": [],
   "source": [
    "game_stat = game_actions.merge(\n",
    "        user_source, on='user_id', how='left'\n",
    "    )"
   ]
  },
  {
   "cell_type": "code",
   "execution_count": 42,
   "metadata": {},
   "outputs": [
    {
     "data": {
      "text/html": [
       "<div>\n",
       "<style scoped>\n",
       "    .dataframe tbody tr th:only-of-type {\n",
       "        vertical-align: middle;\n",
       "    }\n",
       "\n",
       "    .dataframe tbody tr th {\n",
       "        vertical-align: top;\n",
       "    }\n",
       "\n",
       "    .dataframe thead th {\n",
       "        text-align: right;\n",
       "    }\n",
       "</style>\n",
       "<table border=\"1\" class=\"dataframe\">\n",
       "  <thead>\n",
       "    <tr style=\"text-align: right;\">\n",
       "      <th></th>\n",
       "      <th>event_datetime</th>\n",
       "      <th>event</th>\n",
       "      <th>building_type</th>\n",
       "      <th>user_id</th>\n",
       "      <th>project_type</th>\n",
       "      <th>source</th>\n",
       "    </tr>\n",
       "  </thead>\n",
       "  <tbody>\n",
       "    <tr>\n",
       "      <th>0</th>\n",
       "      <td>2020-05-04 00:00:01</td>\n",
       "      <td>building</td>\n",
       "      <td>assembly_shop</td>\n",
       "      <td>55e92310-cb8e-4754-b622-597e124b03de</td>\n",
       "      <td>NaN</td>\n",
       "      <td>youtube_channel_reklama</td>\n",
       "    </tr>\n",
       "    <tr>\n",
       "      <th>1</th>\n",
       "      <td>2020-05-04 00:00:03</td>\n",
       "      <td>building</td>\n",
       "      <td>assembly_shop</td>\n",
       "      <td>c07b1c10-f477-44dc-81dc-ec82254b1347</td>\n",
       "      <td>NaN</td>\n",
       "      <td>facebook_ads</td>\n",
       "    </tr>\n",
       "    <tr>\n",
       "      <th>2</th>\n",
       "      <td>2020-05-04 00:00:16</td>\n",
       "      <td>building</td>\n",
       "      <td>assembly_shop</td>\n",
       "      <td>6edd42cc-e753-4ff6-a947-2107cd560710</td>\n",
       "      <td>NaN</td>\n",
       "      <td>instagram_new_adverts</td>\n",
       "    </tr>\n",
       "    <tr>\n",
       "      <th>3</th>\n",
       "      <td>2020-05-04 00:00:16</td>\n",
       "      <td>building</td>\n",
       "      <td>assembly_shop</td>\n",
       "      <td>92c69003-d60a-444a-827f-8cc51bf6bf4c</td>\n",
       "      <td>NaN</td>\n",
       "      <td>facebook_ads</td>\n",
       "    </tr>\n",
       "    <tr>\n",
       "      <th>4</th>\n",
       "      <td>2020-05-04 00:00:35</td>\n",
       "      <td>building</td>\n",
       "      <td>assembly_shop</td>\n",
       "      <td>cdc6bb92-0ccb-4490-9866-ef142f09139d</td>\n",
       "      <td>NaN</td>\n",
       "      <td>yandex_direct</td>\n",
       "    </tr>\n",
       "  </tbody>\n",
       "</table>\n",
       "</div>"
      ],
      "text/plain": [
       "       event_datetime     event  building_type  \\\n",
       "0 2020-05-04 00:00:01  building  assembly_shop   \n",
       "1 2020-05-04 00:00:03  building  assembly_shop   \n",
       "2 2020-05-04 00:00:16  building  assembly_shop   \n",
       "3 2020-05-04 00:00:16  building  assembly_shop   \n",
       "4 2020-05-04 00:00:35  building  assembly_shop   \n",
       "\n",
       "                                user_id project_type                   source  \n",
       "0  55e92310-cb8e-4754-b622-597e124b03de          NaN  youtube_channel_reklama  \n",
       "1  c07b1c10-f477-44dc-81dc-ec82254b1347          NaN             facebook_ads  \n",
       "2  6edd42cc-e753-4ff6-a947-2107cd560710          NaN    instagram_new_adverts  \n",
       "3  92c69003-d60a-444a-827f-8cc51bf6bf4c          NaN             facebook_ads  \n",
       "4  cdc6bb92-0ccb-4490-9866-ef142f09139d          NaN            yandex_direct  "
      ]
     },
     "execution_count": 42,
     "metadata": {},
     "output_type": "execute_result"
    }
   ],
   "source": [
    "game_stat.head()"
   ]
  },
  {
   "cell_type": "code",
   "execution_count": 43,
   "metadata": {},
   "outputs": [
    {
     "data": {
      "text/plain": [
       "20"
      ]
     },
     "execution_count": 43,
     "metadata": {},
     "output_type": "execute_result"
    }
   ],
   "source": [
    "game_stat.groupby('user_id').agg({'building_type':'count'}).reset_index()['building_type'].max()"
   ]
  },
  {
   "cell_type": "code",
   "execution_count": 44,
   "metadata": {},
   "outputs": [],
   "source": [
    "game_stat['event_datetime'] = game_stat['event_datetime'].dt.date"
   ]
  },
  {
   "cell_type": "code",
   "execution_count": 45,
   "metadata": {},
   "outputs": [],
   "source": [
    "result_raw  = game_stat[game_stat['building_type'].isnull() == False]"
   ]
  },
  {
   "cell_type": "code",
   "execution_count": 46,
   "metadata": {},
   "outputs": [],
   "source": [
    "result_raw = result_raw.groupby(['event_datetime','source']).agg({'building_type':'count'}).reset_index()"
   ]
  },
  {
   "cell_type": "code",
   "execution_count": 47,
   "metadata": {},
   "outputs": [],
   "source": [
    "result_raw['building_type'] = result_raw['building_type']*0.07"
   ]
  },
  {
   "cell_type": "code",
   "execution_count": 48,
   "metadata": {},
   "outputs": [],
   "source": [
    "result_raw = result_raw.rename(columns={'building_type': 'revenue','event_datetime': 'day'})"
   ]
  },
  {
   "cell_type": "code",
   "execution_count": 49,
   "metadata": {},
   "outputs": [],
   "source": [
    "result_raw['day'] = result_raw['day'].astype('datetime64')"
   ]
  },
  {
   "cell_type": "code",
   "execution_count": 50,
   "metadata": {},
   "outputs": [],
   "source": [
    "result_raw = result_raw.groupby('source').agg({'revenue':'sum'})"
   ]
  },
  {
   "cell_type": "code",
   "execution_count": 51,
   "metadata": {},
   "outputs": [],
   "source": [
    "result_raw = result_raw.merge(\n",
    "        ad_costs_merge.groupby('source').agg({'cost':'sum'}), on='source', how='left'\n",
    "    ).reset_index()"
   ]
  },
  {
   "cell_type": "code",
   "execution_count": 52,
   "metadata": {},
   "outputs": [],
   "source": [
    "result_raw['roi'] = (result_raw['revenue']-result_raw['cost'])/result_raw['cost']"
   ]
  },
  {
   "cell_type": "code",
   "execution_count": 53,
   "metadata": {},
   "outputs": [
    {
     "data": {
      "text/html": [
       "<div>\n",
       "<style scoped>\n",
       "    .dataframe tbody tr th:only-of-type {\n",
       "        vertical-align: middle;\n",
       "    }\n",
       "\n",
       "    .dataframe tbody tr th {\n",
       "        vertical-align: top;\n",
       "    }\n",
       "\n",
       "    .dataframe thead th {\n",
       "        text-align: right;\n",
       "    }\n",
       "</style>\n",
       "<table border=\"1\" class=\"dataframe\">\n",
       "  <thead>\n",
       "    <tr style=\"text-align: right;\">\n",
       "      <th></th>\n",
       "      <th>source</th>\n",
       "      <th>revenue</th>\n",
       "      <th>cost</th>\n",
       "      <th>roi</th>\n",
       "    </tr>\n",
       "  </thead>\n",
       "  <tbody>\n",
       "    <tr>\n",
       "      <th>0</th>\n",
       "      <td>facebook_ads</td>\n",
       "      <td>1829.17</td>\n",
       "      <td>2140.904643</td>\n",
       "      <td>-0.145609</td>\n",
       "    </tr>\n",
       "    <tr>\n",
       "      <th>1</th>\n",
       "      <td>instagram_new_adverts</td>\n",
       "      <td>2227.05</td>\n",
       "      <td>2161.441691</td>\n",
       "      <td>0.030354</td>\n",
       "    </tr>\n",
       "    <tr>\n",
       "      <th>2</th>\n",
       "      <td>yandex_direct</td>\n",
       "      <td>3152.24</td>\n",
       "      <td>2233.111449</td>\n",
       "      <td>0.411591</td>\n",
       "    </tr>\n",
       "    <tr>\n",
       "      <th>3</th>\n",
       "      <td>youtube_channel_reklama</td>\n",
       "      <td>1748.46</td>\n",
       "      <td>1068.119204</td>\n",
       "      <td>0.636952</td>\n",
       "    </tr>\n",
       "  </tbody>\n",
       "</table>\n",
       "</div>"
      ],
      "text/plain": [
       "                    source  revenue         cost       roi\n",
       "0             facebook_ads  1829.17  2140.904643 -0.145609\n",
       "1    instagram_new_adverts  2227.05  2161.441691  0.030354\n",
       "2            yandex_direct  3152.24  2233.111449  0.411591\n",
       "3  youtube_channel_reklama  1748.46  1068.119204  0.636952"
      ]
     },
     "execution_count": 53,
     "metadata": {},
     "output_type": "execute_result"
    }
   ],
   "source": [
    "result_raw"
   ]
  },
  {
   "cell_type": "code",
   "execution_count": 54,
   "metadata": {},
   "outputs": [
    {
     "data": {
      "image/png": "[encoded data removed]",
      "text/plain": [
       "<Figure size 720x432 with 1 Axes>"
      ]
     },
     "metadata": {
      "needs_background": "light"
     },
     "output_type": "display_data"
    }
   ],
   "source": [
    "result_raw.plot(\n",
    "    x=\"source\",\n",
    "    y=\"roi\",\n",
    "    kind=\"bar\",\n",
    "    title=\"ROI для каждого источника трафика\",\n",
    "    xlabel=\"Канал\",\n",
    "    ylabel=\"ROI\",\n",
    "    figsize=[10, 6],\n",
    ")\n",
    "plt.show()"
   ]
  },
  {
   "cell_type": "markdown",
   "metadata": {},
   "source": [
    "Исходя из графика, можно судить, что рекламная компания на `facebook_ads` оказалась убыточной. Самая удачная рекламная компания у источника `youtube_channel_reklama`"
   ]
  },
  {
   "cell_type": "code",
   "execution_count": 55,
   "metadata": {},
   "outputs": [
    {
     "data": {
      "image/png": "[encoded data removed]",
      "text/plain": [
       "<Figure size 432x288 with 1 Axes>"
      ]
     },
     "metadata": {
      "needs_background": "light"
     },
     "output_type": "display_data"
    }
   ],
   "source": [
    "game_stat.groupby('user_id').agg({'building_type':'count'}).reset_index().hist(bins=20)\n",
    "plt.title('Распределение количества построек')\n",
    "plt.xlabel('Количество построек')\n",
    "plt.ylabel('Количество пользователей')\n",
    "plt.show()"
   ]
  },
  {
   "cell_type": "markdown",
   "metadata": {},
   "source": [
    "Судя по гистограмме большое количество пользователей, заканчивают игру после 7 построек. Возможно, следует снизить количество показа рекламы, чтобы удерживать большее количество пользователей."
   ]
  },
  {
   "cell_type": "markdown",
   "metadata": {},
   "source": [
    "<a id='11-bullet'></a>\n",
    "### Конверсия пользователей, дошедших до 2 уровня, в разрезе по каналам привлечения."
   ]
  },
  {
   "cell_type": "code",
   "execution_count": 56,
   "metadata": {},
   "outputs": [],
   "source": [
    "convers = game_stat[game_stat['event']!='building'].groupby('source').agg({'user_id':'nunique'}).reset_index()"
   ]
  },
  {
   "cell_type": "code",
   "execution_count": 57,
   "metadata": {},
   "outputs": [],
   "source": [
    "convers[\"conversion\"] = round(\n",
    "    convers[\"user_id\"]\n",
    "    / game_stat.groupby(\"source\").agg({\"user_id\": \"nunique\"}).reset_index()[\"user_id\"],\n",
    "    2,\n",
    ")"
   ]
  },
  {
   "cell_type": "code",
   "execution_count": 58,
   "metadata": {},
   "outputs": [
    {
     "data": {
      "text/html": [
       "<div>\n",
       "<style scoped>\n",
       "    .dataframe tbody tr th:only-of-type {\n",
       "        vertical-align: middle;\n",
       "    }\n",
       "\n",
       "    .dataframe tbody tr th {\n",
       "        vertical-align: top;\n",
       "    }\n",
       "\n",
       "    .dataframe thead th {\n",
       "        text-align: right;\n",
       "    }\n",
       "</style>\n",
       "<table border=\"1\" class=\"dataframe\">\n",
       "  <thead>\n",
       "    <tr style=\"text-align: right;\">\n",
       "      <th></th>\n",
       "      <th>source</th>\n",
       "      <th>user_id</th>\n",
       "      <th>conversion</th>\n",
       "    </tr>\n",
       "  </thead>\n",
       "  <tbody>\n",
       "    <tr>\n",
       "      <th>0</th>\n",
       "      <td>facebook_ads</td>\n",
       "      <td>1150</td>\n",
       "      <td>0.42</td>\n",
       "    </tr>\n",
       "    <tr>\n",
       "      <th>1</th>\n",
       "      <td>instagram_new_adverts</td>\n",
       "      <td>1466</td>\n",
       "      <td>0.44</td>\n",
       "    </tr>\n",
       "    <tr>\n",
       "      <th>2</th>\n",
       "      <td>yandex_direct</td>\n",
       "      <td>2042</td>\n",
       "      <td>0.42</td>\n",
       "    </tr>\n",
       "    <tr>\n",
       "      <th>3</th>\n",
       "      <td>youtube_channel_reklama</td>\n",
       "      <td>1159</td>\n",
       "      <td>0.43</td>\n",
       "    </tr>\n",
       "  </tbody>\n",
       "</table>\n",
       "</div>"
      ],
      "text/plain": [
       "                    source  user_id  conversion\n",
       "0             facebook_ads     1150        0.42\n",
       "1    instagram_new_adverts     1466        0.44\n",
       "2            yandex_direct     2042        0.42\n",
       "3  youtube_channel_reklama     1159        0.43"
      ]
     },
     "execution_count": 58,
     "metadata": {},
     "output_type": "execute_result"
    }
   ],
   "source": [
    "convers"
   ]
  },
  {
   "cell_type": "code",
   "execution_count": 59,
   "metadata": {},
   "outputs": [
    {
     "data": {
      "image/png": "[encoded data removed]",
      "text/plain": [
       "<Figure size 720x432 with 1 Axes>"
      ]
     },
     "metadata": {
      "needs_background": "light"
     },
     "output_type": "display_data"
    }
   ],
   "source": [
    "convers.plot(\n",
    "    x=\"source\",\n",
    "    y=\"conversion\",\n",
    "    kind=\"bar\",\n",
    "    title=\"Конверсия пользователей, дошедших до 2 уровня, в разрезе по каналам привлечения\",\n",
    "    xlabel=\"Канал\",\n",
    "    ylabel=\"Конверсия\",\n",
    "    figsize=[10, 6],\n",
    ")\n",
    "plt.show()"
   ]
  },
  {
   "cell_type": "markdown",
   "metadata": {},
   "source": [
    "Больше всего конверсия пользователей, дошедших до 2 уровня, у канала `youtube_channel_reklama`."
   ]
  },
  {
   "cell_type": "markdown",
   "metadata": {},
   "source": [
    "Также посмотрим конверсию пользователей с разибкой по стратегиям прохождения 1 уровня."
   ]
  },
  {
   "cell_type": "code",
   "execution_count": 60,
   "metadata": {},
   "outputs": [],
   "source": [
    "convers_win = (\n",
    "    game_stat.query('event == \"finished_stage_1\" and event != \"project\"')\n",
    "    .groupby(\"source\")\n",
    "    .agg({\"user_id\": \"nunique\"})\n",
    "    .reset_index()\n",
    ")"
   ]
  },
  {
   "cell_type": "code",
   "execution_count": 61,
   "metadata": {},
   "outputs": [],
   "source": [
    "convers_project = (\n",
    "    game_stat.query('event != \"finished_stage_1\" and event == \"project\"')\n",
    "    .groupby(\"source\")\n",
    "    .agg({\"user_id\": \"nunique\"})\n",
    "    .reset_index()\n",
    ")"
   ]
  },
  {
   "cell_type": "code",
   "execution_count": 62,
   "metadata": {},
   "outputs": [
    {
     "data": {
      "text/html": [
       "<div>\n",
       "<style scoped>\n",
       "    .dataframe tbody tr th:only-of-type {\n",
       "        vertical-align: middle;\n",
       "    }\n",
       "\n",
       "    .dataframe tbody tr th {\n",
       "        vertical-align: top;\n",
       "    }\n",
       "\n",
       "    .dataframe thead th {\n",
       "        text-align: right;\n",
       "    }\n",
       "</style>\n",
       "<table border=\"1\" class=\"dataframe\">\n",
       "  <thead>\n",
       "    <tr style=\"text-align: right;\">\n",
       "      <th></th>\n",
       "      <th>source</th>\n",
       "      <th>user_id</th>\n",
       "    </tr>\n",
       "  </thead>\n",
       "  <tbody>\n",
       "    <tr>\n",
       "      <th>0</th>\n",
       "      <td>facebook_ads</td>\n",
       "      <td>391</td>\n",
       "    </tr>\n",
       "    <tr>\n",
       "      <th>1</th>\n",
       "      <td>instagram_new_adverts</td>\n",
       "      <td>476</td>\n",
       "    </tr>\n",
       "    <tr>\n",
       "      <th>2</th>\n",
       "      <td>yandex_direct</td>\n",
       "      <td>620</td>\n",
       "    </tr>\n",
       "    <tr>\n",
       "      <th>3</th>\n",
       "      <td>youtube_channel_reklama</td>\n",
       "      <td>379</td>\n",
       "    </tr>\n",
       "  </tbody>\n",
       "</table>\n",
       "</div>"
      ],
      "text/plain": [
       "                    source  user_id\n",
       "0             facebook_ads      391\n",
       "1    instagram_new_adverts      476\n",
       "2            yandex_direct      620\n",
       "3  youtube_channel_reklama      379"
      ]
     },
     "execution_count": 62,
     "metadata": {},
     "output_type": "execute_result"
    }
   ],
   "source": [
    "convers_project"
   ]
  },
  {
   "cell_type": "code",
   "execution_count": 63,
   "metadata": {},
   "outputs": [],
   "source": [
    "convers_project[\"conversion_project\"] = round(\n",
    "    convers_project[\"user_id\"]\n",
    "    / game_stat.groupby(\"source\").agg({\"user_id\": \"nunique\"}).reset_index()[\"user_id\"],\n",
    "    2,\n",
    ")"
   ]
  },
  {
   "cell_type": "code",
   "execution_count": 64,
   "metadata": {},
   "outputs": [],
   "source": [
    "convers_project = convers_project.rename(columns={\"user_id\": \"count_users\"})"
   ]
  },
  {
   "cell_type": "code",
   "execution_count": 65,
   "metadata": {},
   "outputs": [],
   "source": [
    "convers_win['count_users'] = convers_win['user_id'] - convers_project['count_users']"
   ]
  },
  {
   "cell_type": "code",
   "execution_count": 66,
   "metadata": {},
   "outputs": [],
   "source": [
    "convers_win[\"conversion_win\"] = round(\n",
    "    convers_win[\"count_users\"]\n",
    "    / game_stat.groupby(\"source\").agg({\"user_id\": \"nunique\"}).reset_index()[\"user_id\"],\n",
    "    2,\n",
    ")"
   ]
  },
  {
   "cell_type": "code",
   "execution_count": 67,
   "metadata": {},
   "outputs": [
    {
     "data": {
      "image/png": "[encoded data removed]",
      "text/plain": [
       "<Figure size 720x432 with 1 Axes>"
      ]
     },
     "metadata": {
      "needs_background": "light"
     },
     "output_type": "display_data"
    }
   ],
   "source": [
    "convers_win.plot(\n",
    "    x=\"source\",\n",
    "    y=\"conversion_win\",\n",
    "    kind=\"bar\",\n",
    "    title=\"Конверсия пользователей, дошедших до 2 уровня победой над другим игроком, в разрезе по каналам привлечения\",\n",
    "    xlabel=\"Канал\",\n",
    "    ylabel=\"Конверсия\",\n",
    "    figsize=[10, 6],\n",
    ")\n",
    "plt.show()"
   ]
  },
  {
   "cell_type": "code",
   "execution_count": 68,
   "metadata": {},
   "outputs": [
    {
     "data": {
      "image/png": "[encoded data removed]",
      "text/plain": [
       "<Figure size 720x432 with 1 Axes>"
      ]
     },
     "metadata": {
      "needs_background": "light"
     },
     "output_type": "display_data"
    }
   ],
   "source": [
    "convers_project.plot(\n",
    "    x=\"source\",\n",
    "    y=\"conversion_project\",\n",
    "    kind=\"bar\",\n",
    "    title=\"Конверсия пользователей, дошедших до 2 уровня завершением проекта, в разрезе по каналам привлечения\",\n",
    "    xlabel=\"Канал\",\n",
    "    ylabel=\"Конверсия\",\n",
    "    figsize=[10, 6],\n",
    ")\n",
    "plt.show()"
   ]
  },
  {
   "cell_type": "markdown",
   "metadata": {},
   "source": [
    "Конверсия пользователей, которые завершили 1 уровень победой над другим игроком, выше, чем у тех пользователей, которые дошли до 2 уровня завершением проекта."
   ]
  },
  {
   "cell_type": "markdown",
   "metadata": {},
   "source": [
    "### Вывод"
   ]
  },
  {
   "cell_type": "markdown",
   "metadata": {},
   "source": [
    "57 процентов игроков доходят до 2 уровня: 14% через реализацию проекта и 43% через победу над другим игроком. ROI выше всего у канала `youtube_channel_reklama`. Это может быть связано с меньшими затратами на рекламу для этого источника."
   ]
  },
  {
   "cell_type": "markdown",
   "metadata": {},
   "source": [
    "## Проверка гипотез."
   ]
  },
  {
   "cell_type": "markdown",
   "metadata": {},
   "source": [
    "<a id='12-bullet'></a>\n",
    "### Проверка статистических гипотез."
   ]
  },
  {
   "cell_type": "markdown",
   "metadata": {},
   "source": [
    "Проверим некоторые гипотезы:\n",
    "* Время прохождения уровня между пользователями, которые заканчивают уровень через реализацию проекта, и пользователями, которые заканчивают уровень победой над другим игроком, различны.\n",
    "* Время прохождения уровня между пользователями, привлеченных из разных рекламных источников, различны."
   ]
  },
  {
   "cell_type": "markdown",
   "metadata": {},
   "source": [
    "Проверим первую гипотезу. Нулевая гипотеза будет выглядеть следующим образом: средние двух генеральных совокупностей равны между собой. Алтернативная: средние двух генеральных совокупностей не равны между собой. Чтобы подтвердить или опровергнуть нулевую гипотезу проведем t-тест для проверки равенства среднего двух генеральных совокупностей по взятым из них выборкам."
   ]
  },
  {
   "cell_type": "code",
   "execution_count": 69,
   "metadata": {},
   "outputs": [],
   "source": [
    "winners = game_stat[game_stat['event']!='building']"
   ]
  },
  {
   "cell_type": "code",
   "execution_count": 70,
   "metadata": {},
   "outputs": [
    {
     "data": {
      "text/html": [
       "<div>\n",
       "<style scoped>\n",
       "    .dataframe tbody tr th:only-of-type {\n",
       "        vertical-align: middle;\n",
       "    }\n",
       "\n",
       "    .dataframe tbody tr th {\n",
       "        vertical-align: top;\n",
       "    }\n",
       "\n",
       "    .dataframe thead th {\n",
       "        text-align: right;\n",
       "    }\n",
       "</style>\n",
       "<table border=\"1\" class=\"dataframe\">\n",
       "  <thead>\n",
       "    <tr style=\"text-align: right;\">\n",
       "      <th></th>\n",
       "      <th>event_datetime</th>\n",
       "      <th>event</th>\n",
       "      <th>building_type</th>\n",
       "      <th>user_id</th>\n",
       "      <th>project_type</th>\n",
       "      <th>source</th>\n",
       "    </tr>\n",
       "  </thead>\n",
       "  <tbody>\n",
       "    <tr>\n",
       "      <th>6659</th>\n",
       "      <td>2020-05-04</td>\n",
       "      <td>finished_stage_1</td>\n",
       "      <td>NaN</td>\n",
       "      <td>ced7b368-818f-48f6-9461-2346de0892c5</td>\n",
       "      <td>NaN</td>\n",
       "      <td>instagram_new_adverts</td>\n",
       "    </tr>\n",
       "    <tr>\n",
       "      <th>13134</th>\n",
       "      <td>2020-05-05</td>\n",
       "      <td>finished_stage_1</td>\n",
       "      <td>NaN</td>\n",
       "      <td>7ef7fc89-2779-46ea-b328-9e5035b83af5</td>\n",
       "      <td>NaN</td>\n",
       "      <td>facebook_ads</td>\n",
       "    </tr>\n",
       "    <tr>\n",
       "      <th>15274</th>\n",
       "      <td>2020-05-05</td>\n",
       "      <td>finished_stage_1</td>\n",
       "      <td>NaN</td>\n",
       "      <td>70db22b3-c2f4-43bc-94ea-51c8d2904a29</td>\n",
       "      <td>NaN</td>\n",
       "      <td>youtube_channel_reklama</td>\n",
       "    </tr>\n",
       "    <tr>\n",
       "      <th>16284</th>\n",
       "      <td>2020-05-05</td>\n",
       "      <td>finished_stage_1</td>\n",
       "      <td>NaN</td>\n",
       "      <td>903fc9ef-ba97-4b12-9d5c-ac8d602fbd8b</td>\n",
       "      <td>NaN</td>\n",
       "      <td>youtube_channel_reklama</td>\n",
       "    </tr>\n",
       "    <tr>\n",
       "      <th>19650</th>\n",
       "      <td>2020-05-06</td>\n",
       "      <td>finished_stage_1</td>\n",
       "      <td>NaN</td>\n",
       "      <td>58e077ba-feb1-4556-a5a0-d96bd04efa39</td>\n",
       "      <td>NaN</td>\n",
       "      <td>facebook_ads</td>\n",
       "    </tr>\n",
       "  </tbody>\n",
       "</table>\n",
       "</div>"
      ],
      "text/plain": [
       "      event_datetime             event building_type  \\\n",
       "6659      2020-05-04  finished_stage_1           NaN   \n",
       "13134     2020-05-05  finished_stage_1           NaN   \n",
       "15274     2020-05-05  finished_stage_1           NaN   \n",
       "16284     2020-05-05  finished_stage_1           NaN   \n",
       "19650     2020-05-06  finished_stage_1           NaN   \n",
       "\n",
       "                                    user_id project_type  \\\n",
       "6659   ced7b368-818f-48f6-9461-2346de0892c5          NaN   \n",
       "13134  7ef7fc89-2779-46ea-b328-9e5035b83af5          NaN   \n",
       "15274  70db22b3-c2f4-43bc-94ea-51c8d2904a29          NaN   \n",
       "16284  903fc9ef-ba97-4b12-9d5c-ac8d602fbd8b          NaN   \n",
       "19650  58e077ba-feb1-4556-a5a0-d96bd04efa39          NaN   \n",
       "\n",
       "                        source  \n",
       "6659     instagram_new_adverts  \n",
       "13134             facebook_ads  \n",
       "15274  youtube_channel_reklama  \n",
       "16284  youtube_channel_reklama  \n",
       "19650             facebook_ads  "
      ]
     },
     "execution_count": 70,
     "metadata": {},
     "output_type": "execute_result"
    }
   ],
   "source": [
    "winners.head()"
   ]
  },
  {
   "cell_type": "code",
   "execution_count": 71,
   "metadata": {},
   "outputs": [],
   "source": [
    "first_action = (\n",
    "    game_actions.sort_values(by=[\"user_id\", \"event_datetime\"])\n",
    "    .groupby(\"user_id\")\n",
    "    .agg(\n",
    "        {\n",
    "            \"event_datetime\": \"first\",\n",
    "        }\n",
    "    )\n",
    "    .rename(columns={\"event_datetime\": \"first_ts\"})\n",
    "    .reset_index()\n",
    ")"
   ]
  },
  {
   "cell_type": "code",
   "execution_count": 72,
   "metadata": {},
   "outputs": [],
   "source": [
    "last_action = (\n",
    "    game_actions.sort_values(by=[\"user_id\", \"event_datetime\"])\n",
    "    .groupby(\"user_id\")\n",
    "    .agg(\n",
    "        {\n",
    "            \"event_datetime\": \"last\",\n",
    "        }\n",
    "    )\n",
    "    .rename(columns={\"event_datetime\": \"last_ts\"})\n",
    "    .reset_index()\n",
    ")"
   ]
  },
  {
   "cell_type": "code",
   "execution_count": 73,
   "metadata": {},
   "outputs": [],
   "source": [
    "sessions = last_action.merge(first_action, how='left', on='user_id')"
   ]
  },
  {
   "cell_type": "code",
   "execution_count": 74,
   "metadata": {},
   "outputs": [],
   "source": [
    "sessions['time_finish'] = (sessions['last_ts'] - sessions['first_ts']).dt.days"
   ]
  },
  {
   "cell_type": "code",
   "execution_count": 75,
   "metadata": {},
   "outputs": [
    {
     "data": {
      "text/html": [
       "<div>\n",
       "<style scoped>\n",
       "    .dataframe tbody tr th:only-of-type {\n",
       "        vertical-align: middle;\n",
       "    }\n",
       "\n",
       "    .dataframe tbody tr th {\n",
       "        vertical-align: top;\n",
       "    }\n",
       "\n",
       "    .dataframe thead th {\n",
       "        text-align: right;\n",
       "    }\n",
       "</style>\n",
       "<table border=\"1\" class=\"dataframe\">\n",
       "  <thead>\n",
       "    <tr style=\"text-align: right;\">\n",
       "      <th></th>\n",
       "      <th>user_id</th>\n",
       "      <th>last_ts</th>\n",
       "      <th>first_ts</th>\n",
       "      <th>time_finish</th>\n",
       "    </tr>\n",
       "  </thead>\n",
       "  <tbody>\n",
       "    <tr>\n",
       "      <th>0</th>\n",
       "      <td>0001f83c-c6ac-4621-b7f0-8a28b283ac30</td>\n",
       "      <td>2020-05-20 11:26:06</td>\n",
       "      <td>2020-05-06 01:07:37</td>\n",
       "      <td>14</td>\n",
       "    </tr>\n",
       "    <tr>\n",
       "      <th>1</th>\n",
       "      <td>00151b4f-ba38-44a8-a650-d7cf130a0105</td>\n",
       "      <td>2020-05-18 10:46:52</td>\n",
       "      <td>2020-05-06 03:09:12</td>\n",
       "      <td>12</td>\n",
       "    </tr>\n",
       "    <tr>\n",
       "      <th>2</th>\n",
       "      <td>001aaea6-3d14-43f1-8ca8-7f48820f17aa</td>\n",
       "      <td>2020-05-14 09:21:27</td>\n",
       "      <td>2020-05-05 18:08:52</td>\n",
       "      <td>8</td>\n",
       "    </tr>\n",
       "    <tr>\n",
       "      <th>3</th>\n",
       "      <td>001d39dc-366c-4021-9604-6a3b9ff01e25</td>\n",
       "      <td>2020-05-12 07:40:47</td>\n",
       "      <td>2020-05-05 21:02:05</td>\n",
       "      <td>6</td>\n",
       "    </tr>\n",
       "    <tr>\n",
       "      <th>4</th>\n",
       "      <td>002f508f-67b6-479f-814b-b05f00d4e995</td>\n",
       "      <td>2020-05-22 02:46:45</td>\n",
       "      <td>2020-05-05 13:49:58</td>\n",
       "      <td>16</td>\n",
       "    </tr>\n",
       "  </tbody>\n",
       "</table>\n",
       "</div>"
      ],
      "text/plain": [
       "                                user_id             last_ts  \\\n",
       "0  0001f83c-c6ac-4621-b7f0-8a28b283ac30 2020-05-20 11:26:06   \n",
       "1  00151b4f-ba38-44a8-a650-d7cf130a0105 2020-05-18 10:46:52   \n",
       "2  001aaea6-3d14-43f1-8ca8-7f48820f17aa 2020-05-14 09:21:27   \n",
       "3  001d39dc-366c-4021-9604-6a3b9ff01e25 2020-05-12 07:40:47   \n",
       "4  002f508f-67b6-479f-814b-b05f00d4e995 2020-05-22 02:46:45   \n",
       "\n",
       "             first_ts  time_finish  \n",
       "0 2020-05-06 01:07:37           14  \n",
       "1 2020-05-06 03:09:12           12  \n",
       "2 2020-05-05 18:08:52            8  \n",
       "3 2020-05-05 21:02:05            6  \n",
       "4 2020-05-05 13:49:58           16  "
      ]
     },
     "execution_count": 75,
     "metadata": {},
     "output_type": "execute_result"
    }
   ],
   "source": [
    "sessions.head()"
   ]
  },
  {
   "cell_type": "code",
   "execution_count": 76,
   "metadata": {},
   "outputs": [],
   "source": [
    "winners = winners.merge(sessions,how='left',on = 'user_id')"
   ]
  },
  {
   "cell_type": "code",
   "execution_count": 77,
   "metadata": {},
   "outputs": [
    {
     "data": {
      "text/html": [
       "<div>\n",
       "<style scoped>\n",
       "    .dataframe tbody tr th:only-of-type {\n",
       "        vertical-align: middle;\n",
       "    }\n",
       "\n",
       "    .dataframe tbody tr th {\n",
       "        vertical-align: top;\n",
       "    }\n",
       "\n",
       "    .dataframe thead th {\n",
       "        text-align: right;\n",
       "    }\n",
       "</style>\n",
       "<table border=\"1\" class=\"dataframe\">\n",
       "  <thead>\n",
       "    <tr style=\"text-align: right;\">\n",
       "      <th></th>\n",
       "      <th>event_datetime</th>\n",
       "      <th>event</th>\n",
       "      <th>building_type</th>\n",
       "      <th>user_id</th>\n",
       "      <th>project_type</th>\n",
       "      <th>source</th>\n",
       "      <th>last_ts</th>\n",
       "      <th>first_ts</th>\n",
       "      <th>time_finish</th>\n",
       "    </tr>\n",
       "  </thead>\n",
       "  <tbody>\n",
       "    <tr>\n",
       "      <th>0</th>\n",
       "      <td>2020-05-04</td>\n",
       "      <td>finished_stage_1</td>\n",
       "      <td>NaN</td>\n",
       "      <td>ced7b368-818f-48f6-9461-2346de0892c5</td>\n",
       "      <td>NaN</td>\n",
       "      <td>instagram_new_adverts</td>\n",
       "      <td>2020-05-04 19:47:29</td>\n",
       "      <td>2020-05-04 00:13:21</td>\n",
       "      <td>0</td>\n",
       "    </tr>\n",
       "    <tr>\n",
       "      <th>1</th>\n",
       "      <td>2020-05-05</td>\n",
       "      <td>finished_stage_1</td>\n",
       "      <td>NaN</td>\n",
       "      <td>7ef7fc89-2779-46ea-b328-9e5035b83af5</td>\n",
       "      <td>NaN</td>\n",
       "      <td>facebook_ads</td>\n",
       "      <td>2020-05-05 13:22:09</td>\n",
       "      <td>2020-05-04 00:22:48</td>\n",
       "      <td>1</td>\n",
       "    </tr>\n",
       "    <tr>\n",
       "      <th>2</th>\n",
       "      <td>2020-05-05</td>\n",
       "      <td>finished_stage_1</td>\n",
       "      <td>NaN</td>\n",
       "      <td>70db22b3-c2f4-43bc-94ea-51c8d2904a29</td>\n",
       "      <td>NaN</td>\n",
       "      <td>youtube_channel_reklama</td>\n",
       "      <td>2020-05-05 18:54:37</td>\n",
       "      <td>2020-05-04 13:41:55</td>\n",
       "      <td>1</td>\n",
       "    </tr>\n",
       "    <tr>\n",
       "      <th>3</th>\n",
       "      <td>2020-05-05</td>\n",
       "      <td>finished_stage_1</td>\n",
       "      <td>NaN</td>\n",
       "      <td>903fc9ef-ba97-4b12-9d5c-ac8d602fbd8b</td>\n",
       "      <td>NaN</td>\n",
       "      <td>youtube_channel_reklama</td>\n",
       "      <td>2020-05-05 21:27:29</td>\n",
       "      <td>2020-05-04 00:57:02</td>\n",
       "      <td>1</td>\n",
       "    </tr>\n",
       "    <tr>\n",
       "      <th>4</th>\n",
       "      <td>2020-05-06</td>\n",
       "      <td>finished_stage_1</td>\n",
       "      <td>NaN</td>\n",
       "      <td>58e077ba-feb1-4556-a5a0-d96bd04efa39</td>\n",
       "      <td>NaN</td>\n",
       "      <td>facebook_ads</td>\n",
       "      <td>2020-05-06 06:02:22</td>\n",
       "      <td>2020-05-04 19:23:40</td>\n",
       "      <td>1</td>\n",
       "    </tr>\n",
       "  </tbody>\n",
       "</table>\n",
       "</div>"
      ],
      "text/plain": [
       "  event_datetime             event building_type  \\\n",
       "0     2020-05-04  finished_stage_1           NaN   \n",
       "1     2020-05-05  finished_stage_1           NaN   \n",
       "2     2020-05-05  finished_stage_1           NaN   \n",
       "3     2020-05-05  finished_stage_1           NaN   \n",
       "4     2020-05-06  finished_stage_1           NaN   \n",
       "\n",
       "                                user_id project_type                   source  \\\n",
       "0  ced7b368-818f-48f6-9461-2346de0892c5          NaN    instagram_new_adverts   \n",
       "1  7ef7fc89-2779-46ea-b328-9e5035b83af5          NaN             facebook_ads   \n",
       "2  70db22b3-c2f4-43bc-94ea-51c8d2904a29          NaN  youtube_channel_reklama   \n",
       "3  903fc9ef-ba97-4b12-9d5c-ac8d602fbd8b          NaN  youtube_channel_reklama   \n",
       "4  58e077ba-feb1-4556-a5a0-d96bd04efa39          NaN             facebook_ads   \n",
       "\n",
       "              last_ts            first_ts  time_finish  \n",
       "0 2020-05-04 19:47:29 2020-05-04 00:13:21            0  \n",
       "1 2020-05-05 13:22:09 2020-05-04 00:22:48            1  \n",
       "2 2020-05-05 18:54:37 2020-05-04 13:41:55            1  \n",
       "3 2020-05-05 21:27:29 2020-05-04 00:57:02            1  \n",
       "4 2020-05-06 06:02:22 2020-05-04 19:23:40            1  "
      ]
     },
     "execution_count": 77,
     "metadata": {},
     "output_type": "execute_result"
    }
   ],
   "source": [
    "winners.head()"
   ]
  },
  {
   "cell_type": "code",
   "execution_count": 78,
   "metadata": {},
   "outputs": [
    {
     "name": "stdout",
     "output_type": "stream",
     "text": [
      "p-значение: 1.443946833041278e-51\n",
      "Отвергаем нулевую гипотезу\n"
     ]
    }
   ],
   "source": [
    "results=st.ttest_ind(\n",
    "    winners.query('event==\"finished_stage_1\"')['time_finish'], \n",
    "    winners.query('event==\"project\"')['time_finish'])\n",
    "alpha = 0.01\n",
    "print('p-значение:', results.pvalue)\n",
    "\n",
    "if results.pvalue < alpha:\n",
    "    print(\"Отвергаем нулевую гипотезу\")\n",
    "else:\n",
    "    print(\"Не получилось отвергнуть нулевую гипотезу\")"
   ]
  },
  {
   "cell_type": "code",
   "execution_count": 79,
   "metadata": {},
   "outputs": [
    {
     "data": {
      "text/plain": [
       "-0.12349035938852782"
      ]
     },
     "execution_count": 79,
     "metadata": {},
     "output_type": "execute_result"
    }
   ],
   "source": [
    "(\n",
    "    winners.query('event==\"finished_stage_1\"')[\"time_finish\"].mean()\n",
    "    / winners.query('event==\"project\"')[\"time_finish\"].mean()\n",
    ") - 1"
   ]
  },
  {
   "cell_type": "markdown",
   "metadata": {},
   "source": [
    "Среднее время прохождения 1 уровня у игроков, победивших другого игрока, на 12 процентов меньше, чем у игроков, завершивших 1 уровень через реализацию проекта."
   ]
  },
  {
   "cell_type": "markdown",
   "metadata": {},
   "source": [
    "Далее проверим следущую гипотезу. Нулевая гипотеза будет выглядеть следующим образом: средние двух генеральных совокупностей равны между собой. Алтернативная: средние двух генеральных совокупностей не равны между собой. Чтобы подтвердить или опровергнуть нулевую гипотезу проведем t-тест для проверки равенства среднего двух генеральных совокупностей по взятым из них выборкам."
   ]
  },
  {
   "cell_type": "code",
   "execution_count": 80,
   "metadata": {},
   "outputs": [],
   "source": [
    "def stat_diff(first_group, second_group, alpha):\n",
    "    results=st.ttest_ind(\n",
    "        winners.query('source==@first_group')['time_finish'], \n",
    "        winners.query('source==@second_group')['time_finish'])\n",
    "    alpha = alpha\n",
    "    print('p-значение:', results.pvalue)\n",
    "\n",
    "    if results.pvalue < alpha:\n",
    "        print(\"Отвергаем нулевую гипотезу\")\n",
    "    else:\n",
    "        print(\"Не получилось отвергнуть нулевую гипотезу\")"
   ]
  },
  {
   "cell_type": "code",
   "execution_count": 81,
   "metadata": {},
   "outputs": [
    {
     "name": "stdout",
     "output_type": "stream",
     "text": [
      "p-значение: 0.6380589494635842\n",
      "Не получилось отвергнуть нулевую гипотезу\n"
     ]
    }
   ],
   "source": [
    "stat_diff('instagram_new_adverts', 'facebook_ads', 0.05)"
   ]
  },
  {
   "cell_type": "code",
   "execution_count": 82,
   "metadata": {},
   "outputs": [
    {
     "data": {
      "text/plain": [
       "0.005427781982971336"
      ]
     },
     "execution_count": 82,
     "metadata": {},
     "output_type": "execute_result"
    }
   ],
   "source": [
    "(\n",
    "    winners.query('source==\"instagram_new_adverts\"')[\"time_finish\"].mean()\n",
    "    / winners.query('source==\"facebook_ads\"')[\"time_finish\"].mean()\n",
    ") - 1\n"
   ]
  },
  {
   "cell_type": "markdown",
   "metadata": {},
   "source": [
    "Среднее время прохождения уровня практически не различается между источниками `instagram_new_adverts` и `facebook_ads`."
   ]
  },
  {
   "cell_type": "code",
   "execution_count": 83,
   "metadata": {},
   "outputs": [
    {
     "name": "stdout",
     "output_type": "stream",
     "text": [
      "p-значение: 0.9838810313132648\n",
      "Не получилось отвергнуть нулевую гипотезу\n"
     ]
    }
   ],
   "source": [
    "stat_diff('instagram_new_adverts', 'youtube_channel_reklama', 0.05)"
   ]
  },
  {
   "cell_type": "code",
   "execution_count": 84,
   "metadata": {},
   "outputs": [
    {
     "data": {
      "text/plain": [
       "-0.0002309884696269915"
      ]
     },
     "execution_count": 84,
     "metadata": {},
     "output_type": "execute_result"
    }
   ],
   "source": [
    "(\n",
    "    winners.query('source==\"instagram_new_adverts\"')[\"time_finish\"].mean()\n",
    "    / winners.query('source==\"youtube_channel_reklama\"')[\"time_finish\"].mean()\n",
    ") - 1\n"
   ]
  },
  {
   "cell_type": "markdown",
   "metadata": {},
   "source": [
    "Среднее время прохождения уровня практически не различается между источниками `instagram_new_adverts` и `youtube_channel_reklama`."
   ]
  },
  {
   "cell_type": "code",
   "execution_count": 85,
   "metadata": {},
   "outputs": [
    {
     "name": "stdout",
     "output_type": "stream",
     "text": [
      "p-значение: 0.290201801303946\n",
      "Не получилось отвергнуть нулевую гипотезу\n"
     ]
    }
   ],
   "source": [
    "stat_diff('instagram_new_adverts', 'yandex_direct', 0.05)"
   ]
  },
  {
   "cell_type": "code",
   "execution_count": 86,
   "metadata": {},
   "outputs": [
    {
     "data": {
      "text/plain": [
       "0.0109140237344858"
      ]
     },
     "execution_count": 86,
     "metadata": {},
     "output_type": "execute_result"
    }
   ],
   "source": [
    "(\n",
    "    winners.query('source==\"instagram_new_adverts\"')[\"time_finish\"].mean()\n",
    "    / winners.query('source==\"yandex_direct\"')[\"time_finish\"].mean()\n",
    ") - 1"
   ]
  },
  {
   "cell_type": "markdown",
   "metadata": {},
   "source": [
    "Среднее время прохождения уровня практически не различается между источниками `instagram_new_adverts` и `yandex_direct`."
   ]
  },
  {
   "cell_type": "code",
   "execution_count": 87,
   "metadata": {},
   "outputs": [
    {
     "name": "stdout",
     "output_type": "stream",
     "text": [
      "p-значение: 0.623768856906332\n",
      "Не получилось отвергнуть нулевую гипотезу\n"
     ]
    }
   ],
   "source": [
    "stat_diff('facebook_ads', 'yandex_direct', 0.05)"
   ]
  },
  {
   "cell_type": "code",
   "execution_count": 88,
   "metadata": {},
   "outputs": [
    {
     "data": {
      "text/plain": [
       "0.005456624383995079"
      ]
     },
     "execution_count": 88,
     "metadata": {},
     "output_type": "execute_result"
    }
   ],
   "source": [
    "(\n",
    "    winners.query('source==\"facebook_ads\"')[\"time_finish\"].mean()\n",
    "    / winners.query('source==\"yandex_direct\"')[\"time_finish\"].mean()\n",
    ") - 1"
   ]
  },
  {
   "cell_type": "markdown",
   "metadata": {},
   "source": [
    "Среднее время прохождения уровня практически не различается между источниками `facebook_ads` и `yandex_direct`."
   ]
  },
  {
   "cell_type": "code",
   "execution_count": 89,
   "metadata": {},
   "outputs": [
    {
     "name": "stdout",
     "output_type": "stream",
     "text": [
      "p-значение: 0.6425981516125452\n",
      "Не получилось отвергнуть нулевую гипотезу\n"
     ]
    }
   ],
   "source": [
    "stat_diff('facebook_ads', 'youtube_channel_reklama', 0.05)"
   ]
  },
  {
   "cell_type": "code",
   "execution_count": 90,
   "metadata": {},
   "outputs": [
    {
     "data": {
      "text/plain": [
       "-0.0056282216923005945"
      ]
     },
     "execution_count": 90,
     "metadata": {},
     "output_type": "execute_result"
    }
   ],
   "source": [
    "(\n",
    "    winners.query('source==\"facebook_ads\"')[\"time_finish\"].mean()\n",
    "    / winners.query('source==\"youtube_channel_reklama\"')[\"time_finish\"].mean()\n",
    ") - 1"
   ]
  },
  {
   "cell_type": "markdown",
   "metadata": {},
   "source": [
    "Среднее время прохождения уровня практически не различается между источниками `facebook_ads` и `youtube_channel_reklama`."
   ]
  },
  {
   "cell_type": "code",
   "execution_count": 91,
   "metadata": {},
   "outputs": [
    {
     "name": "stdout",
     "output_type": "stream",
     "text": [
      "p-значение: 0.31507396375179886\n",
      "Не получилось отвергнуть нулевую гипотезу\n"
     ]
    }
   ],
   "source": [
    "stat_diff('yandex_direct', 'youtube_channel_reklama', 0.05)"
   ]
  },
  {
   "cell_type": "code",
   "execution_count": 92,
   "metadata": {},
   "outputs": [
    {
     "data": {
      "text/plain": [
       "-0.011024688492243029"
      ]
     },
     "execution_count": 92,
     "metadata": {},
     "output_type": "execute_result"
    }
   ],
   "source": [
    "(\n",
    "    winners.query('source==\"yandex_direct\"')[\"time_finish\"].mean()\n",
    "    / winners.query('source==\"youtube_channel_reklama\"')[\"time_finish\"].mean()\n",
    ") - 1"
   ]
  },
  {
   "cell_type": "markdown",
   "metadata": {},
   "source": [
    "При уровне значимости в 0.05 есть риск получить ложноположительный результат при множественной проверке гипотез. Поэтому следует понизить уровень значимости. Далее изменим уровень значимости до 0.01. "
   ]
  },
  {
   "cell_type": "code",
   "execution_count": 93,
   "metadata": {},
   "outputs": [
    {
     "name": "stdout",
     "output_type": "stream",
     "text": [
      "p-значение: 0.6380589494635842\n",
      "Не получилось отвергнуть нулевую гипотезу\n"
     ]
    }
   ],
   "source": [
    "stat_diff('instagram_new_adverts', 'facebook_ads', 0.01)"
   ]
  },
  {
   "cell_type": "code",
   "execution_count": 94,
   "metadata": {},
   "outputs": [
    {
     "name": "stdout",
     "output_type": "stream",
     "text": [
      "p-значение: 0.9838810313132648\n",
      "Не получилось отвергнуть нулевую гипотезу\n"
     ]
    }
   ],
   "source": [
    "stat_diff('instagram_new_adverts', 'youtube_channel_reklama', 0.01)"
   ]
  },
  {
   "cell_type": "code",
   "execution_count": 95,
   "metadata": {},
   "outputs": [
    {
     "name": "stdout",
     "output_type": "stream",
     "text": [
      "p-значение: 0.290201801303946\n",
      "Не получилось отвергнуть нулевую гипотезу\n"
     ]
    }
   ],
   "source": [
    "stat_diff('instagram_new_adverts', 'yandex_direct', 0.01)"
   ]
  },
  {
   "cell_type": "code",
   "execution_count": 96,
   "metadata": {},
   "outputs": [
    {
     "name": "stdout",
     "output_type": "stream",
     "text": [
      "p-значение: 0.623768856906332\n",
      "Не получилось отвергнуть нулевую гипотезу\n"
     ]
    }
   ],
   "source": [
    "stat_diff('facebook_ads', 'yandex_direct', 0.01)"
   ]
  },
  {
   "cell_type": "code",
   "execution_count": 97,
   "metadata": {},
   "outputs": [
    {
     "name": "stdout",
     "output_type": "stream",
     "text": [
      "p-значение: 0.6425981516125452\n",
      "Не получилось отвергнуть нулевую гипотезу\n"
     ]
    }
   ],
   "source": [
    "stat_diff('facebook_ads', 'youtube_channel_reklama', 0.01)"
   ]
  },
  {
   "cell_type": "code",
   "execution_count": 98,
   "metadata": {},
   "outputs": [
    {
     "name": "stdout",
     "output_type": "stream",
     "text": [
      "p-значение: 0.31507396375179886\n",
      "Не получилось отвергнуть нулевую гипотезу\n"
     ]
    }
   ],
   "source": [
    "stat_diff('yandex_direct', 'youtube_channel_reklama', 0.01)"
   ]
  },
  {
   "cell_type": "markdown",
   "metadata": {},
   "source": [
    "Среднее время прохождения уровня практически не различается между источниками `yandex_direct` и `youtube_channel_reklama`."
   ]
  },
  {
   "cell_type": "markdown",
   "metadata": {},
   "source": [
    "### Вывод"
   ]
  },
  {
   "cell_type": "markdown",
   "metadata": {},
   "source": [
    "Среднее время прохождения 1 уровня у игроков, победивших другого игрока, на 12 процентов меньше, чем у игроков, завершивших 1 уровень через реализацию проекта. Источник привлечения пользователей не влияет на время прохождения игроками первого уровня."
   ]
  },
  {
   "cell_type": "markdown",
   "metadata": {},
   "source": [
    "## Вывод"
   ]
  },
  {
   "cell_type": "markdown",
   "metadata": {},
   "source": [
    "Исходя из данных, приведенных выше можно сделать вывод, что затраты на рекламу окупаются у источников `yandex_direct`, `youtube_channel_reklama` и `instagram_new_adverts`. Время прохождения 1 уровня меньше всего у пользователей, победивших другого игрока, чем у игроков, выполнивших реализацию проекта. Источник привлчения не влияет на время прохождения 1 уровня.\n",
    "\n",
    "Судя по распределению построек пользователей, многие пользователи не строят больше 7 строений. Также можно заметить, что конверсия пользователей, завершивших 1 уровень победой над другим игроком, выше, чем у исследователей. Из этого можно сделать вывод, что если показывать рекламу меньше, то с увеличением конверсии можно увеличить и окупаемость рекламы.\n",
    "\n",
    "Также стоит больше вкладывать средств в `yandex_direct` и `youtube_channel_reklama`, так как у них больше всего показатель ROI"
   ]
  }
 ],
 "metadata": {
  "ExecuteTimeLog": [
   {
    "duration": 379,
    "start_time": "2022-12-07T15:14:39.925Z"
   },
   {
    "duration": 129,
    "start_time": "2022-12-07T15:16:39.371Z"
   },
   {
    "duration": 63,
    "start_time": "2022-12-07T15:16:52.038Z"
   },
   {
    "duration": 68,
    "start_time": "2022-12-07T15:17:11.443Z"
   },
   {
    "duration": 15,
    "start_time": "2022-12-07T15:19:20.911Z"
   },
   {
    "duration": 822,
    "start_time": "2022-12-07T15:20:31.247Z"
   },
   {
    "duration": 36,
    "start_time": "2022-12-07T15:20:59.287Z"
   },
   {
    "duration": 17,
    "start_time": "2022-12-07T15:23:16.239Z"
   },
   {
    "duration": 81,
    "start_time": "2022-12-07T15:23:54.887Z"
   },
   {
    "duration": 10,
    "start_time": "2022-12-07T15:24:09.687Z"
   },
   {
    "duration": 9,
    "start_time": "2022-12-07T15:25:50.105Z"
   },
   {
    "duration": 161,
    "start_time": "2022-12-07T15:26:21.776Z"
   },
   {
    "duration": 12,
    "start_time": "2022-12-07T15:26:40.411Z"
   },
   {
    "duration": 7,
    "start_time": "2022-12-07T15:28:50.036Z"
   },
   {
    "duration": 31,
    "start_time": "2022-12-07T15:37:28.692Z"
   },
   {
    "duration": 5,
    "start_time": "2022-12-07T15:37:38.803Z"
   },
   {
    "duration": 49,
    "start_time": "2022-12-07T15:41:06.493Z"
   },
   {
    "duration": 6,
    "start_time": "2022-12-07T15:41:07.998Z"
   },
   {
    "duration": 3,
    "start_time": "2022-12-07T15:44:09.253Z"
   },
   {
    "duration": 6,
    "start_time": "2022-12-07T15:44:18.024Z"
   },
   {
    "duration": 26,
    "start_time": "2022-12-07T15:45:39.506Z"
   },
   {
    "duration": 10,
    "start_time": "2022-12-07T15:46:32.849Z"
   },
   {
    "duration": 5,
    "start_time": "2022-12-07T15:46:54.863Z"
   },
   {
    "duration": 9,
    "start_time": "2022-12-07T15:46:59.905Z"
   },
   {
    "duration": 30,
    "start_time": "2022-12-07T15:51:43.206Z"
   },
   {
    "duration": 23,
    "start_time": "2022-12-07T15:52:05.850Z"
   },
   {
    "duration": 35,
    "start_time": "2022-12-07T15:52:26.092Z"
   },
   {
    "duration": 1802,
    "start_time": "2022-12-07T15:52:40.901Z"
   },
   {
    "duration": 37,
    "start_time": "2022-12-07T15:52:48.664Z"
   },
   {
    "duration": 10,
    "start_time": "2022-12-07T15:55:44.696Z"
   },
   {
    "duration": 13,
    "start_time": "2022-12-07T15:56:11.957Z"
   },
   {
    "duration": 11,
    "start_time": "2022-12-07T15:56:33.985Z"
   },
   {
    "duration": 13,
    "start_time": "2022-12-07T15:57:07.150Z"
   },
   {
    "duration": 7,
    "start_time": "2022-12-07T16:09:30.265Z"
   },
   {
    "duration": 8,
    "start_time": "2022-12-07T16:09:59.304Z"
   },
   {
    "duration": 64,
    "start_time": "2022-12-07T16:10:40.415Z"
   },
   {
    "duration": 59,
    "start_time": "2022-12-07T16:10:53.376Z"
   },
   {
    "duration": 63,
    "start_time": "2022-12-07T16:12:15.281Z"
   },
   {
    "duration": 1711,
    "start_time": "2022-12-07T16:13:13.096Z"
   },
   {
    "duration": 5,
    "start_time": "2022-12-07T16:15:55.027Z"
   },
   {
    "duration": 10,
    "start_time": "2022-12-07T16:16:41.263Z"
   },
   {
    "duration": 52,
    "start_time": "2022-12-07T22:54:14.827Z"
   },
   {
    "duration": 425,
    "start_time": "2022-12-07T22:54:22.817Z"
   },
   {
    "duration": 329,
    "start_time": "2022-12-07T22:54:23.244Z"
   },
   {
    "duration": 32,
    "start_time": "2022-12-07T22:54:23.575Z"
   },
   {
    "duration": 29,
    "start_time": "2022-12-07T22:54:23.609Z"
   },
   {
    "duration": 76,
    "start_time": "2022-12-07T22:54:23.639Z"
   },
   {
    "duration": 11,
    "start_time": "2022-12-07T22:54:23.717Z"
   },
   {
    "duration": 32,
    "start_time": "2022-12-07T22:54:23.729Z"
   },
   {
    "duration": 100,
    "start_time": "2022-12-07T22:54:23.763Z"
   },
   {
    "duration": 12,
    "start_time": "2022-12-07T22:54:23.865Z"
   },
   {
    "duration": 18,
    "start_time": "2022-12-07T22:54:23.881Z"
   },
   {
    "duration": 46,
    "start_time": "2022-12-07T22:54:23.902Z"
   },
   {
    "duration": 7,
    "start_time": "2022-12-07T22:54:23.950Z"
   },
   {
    "duration": 33,
    "start_time": "2022-12-07T22:54:23.959Z"
   },
   {
    "duration": 18,
    "start_time": "2022-12-07T22:54:23.995Z"
   },
   {
    "duration": 11,
    "start_time": "2022-12-07T22:54:24.015Z"
   },
   {
    "duration": 67,
    "start_time": "2022-12-07T22:54:24.028Z"
   },
   {
    "duration": 6,
    "start_time": "2022-12-07T22:54:24.096Z"
   },
   {
    "duration": 37,
    "start_time": "2022-12-07T22:54:24.104Z"
   },
   {
    "duration": 65,
    "start_time": "2022-12-07T22:54:24.143Z"
   },
   {
    "duration": 73,
    "start_time": "2022-12-07T22:54:24.210Z"
   },
   {
    "duration": 73,
    "start_time": "2022-12-07T22:54:31.520Z"
   },
   {
    "duration": 5,
    "start_time": "2022-12-07T22:55:00.938Z"
   },
   {
    "duration": 10,
    "start_time": "2022-12-07T22:55:12.364Z"
   },
   {
    "duration": 5,
    "start_time": "2022-12-07T22:57:36.640Z"
   },
   {
    "duration": 10,
    "start_time": "2022-12-07T22:59:31.347Z"
   },
   {
    "duration": 11,
    "start_time": "2022-12-07T22:59:52.928Z"
   },
   {
    "duration": 11,
    "start_time": "2022-12-07T23:00:17.130Z"
   },
   {
    "duration": 529,
    "start_time": "2022-12-07T23:04:00.828Z"
   },
   {
    "duration": 78,
    "start_time": "2022-12-07T23:04:37.884Z"
   },
   {
    "duration": 10,
    "start_time": "2022-12-07T23:05:21.405Z"
   },
   {
    "duration": 5,
    "start_time": "2022-12-07T23:05:43.357Z"
   },
   {
    "duration": 9,
    "start_time": "2022-12-07T23:06:48.998Z"
   },
   {
    "duration": 13,
    "start_time": "2022-12-07T23:12:43.922Z"
   },
   {
    "duration": 8,
    "start_time": "2022-12-07T23:13:13.885Z"
   },
   {
    "duration": 11,
    "start_time": "2022-12-07T23:14:24.014Z"
   },
   {
    "duration": 34,
    "start_time": "2022-12-07T23:14:42.744Z"
   },
   {
    "duration": 32,
    "start_time": "2022-12-07T23:15:27.757Z"
   },
   {
    "duration": 35,
    "start_time": "2022-12-07T23:15:39.022Z"
   },
   {
    "duration": 36,
    "start_time": "2022-12-07T23:17:38.282Z"
   },
   {
    "duration": 34,
    "start_time": "2022-12-07T23:18:10.853Z"
   },
   {
    "duration": 36,
    "start_time": "2022-12-07T23:18:22.396Z"
   },
   {
    "duration": 4,
    "start_time": "2022-12-07T23:20:57.105Z"
   },
   {
    "duration": 52,
    "start_time": "2022-12-07T23:21:51.935Z"
   },
   {
    "duration": 8,
    "start_time": "2022-12-07T23:22:53.780Z"
   },
   {
    "duration": 180,
    "start_time": "2022-12-07T23:23:06.224Z"
   },
   {
    "duration": 154,
    "start_time": "2022-12-07T23:23:33.580Z"
   },
   {
    "duration": 154,
    "start_time": "2022-12-07T23:24:10.621Z"
   },
   {
    "duration": 3,
    "start_time": "2022-12-07T23:24:36.723Z"
   },
   {
    "duration": 205,
    "start_time": "2022-12-07T23:24:43.412Z"
   },
   {
    "duration": 149,
    "start_time": "2022-12-07T23:29:36.445Z"
   },
   {
    "duration": 36,
    "start_time": "2022-12-07T23:30:19.512Z"
   },
   {
    "duration": 34,
    "start_time": "2022-12-07T23:30:37.337Z"
   },
   {
    "duration": 814,
    "start_time": "2022-12-09T14:31:55.656Z"
   },
   {
    "duration": 324,
    "start_time": "2022-12-09T14:31:56.472Z"
   },
   {
    "duration": 34,
    "start_time": "2022-12-09T14:31:56.805Z"
   },
   {
    "duration": 11,
    "start_time": "2022-12-09T14:31:56.841Z"
   },
   {
    "duration": 66,
    "start_time": "2022-12-09T14:31:56.855Z"
   },
   {
    "duration": 10,
    "start_time": "2022-12-09T14:31:56.923Z"
   },
   {
    "duration": 9,
    "start_time": "2022-12-09T14:31:56.934Z"
   },
   {
    "duration": 84,
    "start_time": "2022-12-09T14:31:56.945Z"
   },
   {
    "duration": 10,
    "start_time": "2022-12-09T14:31:57.031Z"
   },
   {
    "duration": 11,
    "start_time": "2022-12-09T14:31:57.042Z"
   },
   {
    "duration": 33,
    "start_time": "2022-12-09T14:31:57.054Z"
   },
   {
    "duration": 4,
    "start_time": "2022-12-09T14:31:57.089Z"
   },
   {
    "duration": 34,
    "start_time": "2022-12-09T14:31:57.094Z"
   },
   {
    "duration": 11,
    "start_time": "2022-12-09T14:31:57.130Z"
   },
   {
    "duration": 8,
    "start_time": "2022-12-09T14:31:57.142Z"
   },
   {
    "duration": 51,
    "start_time": "2022-12-09T14:31:57.152Z"
   },
   {
    "duration": 8,
    "start_time": "2022-12-09T14:31:57.204Z"
   },
   {
    "duration": 9,
    "start_time": "2022-12-09T14:31:57.213Z"
   },
   {
    "duration": 57,
    "start_time": "2022-12-09T14:31:57.223Z"
   },
   {
    "duration": 74,
    "start_time": "2022-12-09T14:31:57.297Z"
   },
   {
    "duration": 5,
    "start_time": "2022-12-09T14:31:57.373Z"
   },
   {
    "duration": 19,
    "start_time": "2022-12-09T14:31:57.379Z"
   },
   {
    "duration": 5,
    "start_time": "2022-12-09T14:31:57.400Z"
   },
   {
    "duration": 22,
    "start_time": "2022-12-09T14:31:57.407Z"
   },
   {
    "duration": 10,
    "start_time": "2022-12-09T14:31:57.431Z"
   },
   {
    "duration": 11,
    "start_time": "2022-12-09T14:31:57.443Z"
   },
   {
    "duration": 10,
    "start_time": "2022-12-09T14:31:57.455Z"
   },
   {
    "duration": 59,
    "start_time": "2022-12-09T14:31:57.466Z"
   },
   {
    "duration": 33,
    "start_time": "2022-12-09T14:31:57.527Z"
   },
   {
    "duration": 4,
    "start_time": "2022-12-09T14:31:57.562Z"
   },
   {
    "duration": 188,
    "start_time": "2022-12-09T14:31:57.568Z"
   },
   {
    "duration": 9,
    "start_time": "2022-12-09T14:31:57.757Z"
   },
   {
    "duration": 195,
    "start_time": "2022-12-09T14:33:06.868Z"
   },
   {
    "duration": 192,
    "start_time": "2022-12-09T14:33:21.738Z"
   },
   {
    "duration": 182,
    "start_time": "2022-12-09T14:34:19.568Z"
   },
   {
    "duration": 321,
    "start_time": "2022-12-09T14:35:05.014Z"
   },
   {
    "duration": 45,
    "start_time": "2022-12-10T12:48:41.947Z"
   },
   {
    "duration": 699,
    "start_time": "2022-12-10T12:48:47.349Z"
   },
   {
    "duration": 304,
    "start_time": "2022-12-10T12:48:48.050Z"
   },
   {
    "duration": 32,
    "start_time": "2022-12-10T12:48:48.356Z"
   },
   {
    "duration": 10,
    "start_time": "2022-12-10T12:48:48.390Z"
   },
   {
    "duration": 60,
    "start_time": "2022-12-10T12:48:48.401Z"
   },
   {
    "duration": 9,
    "start_time": "2022-12-10T12:48:48.463Z"
   },
   {
    "duration": 15,
    "start_time": "2022-12-10T12:48:48.473Z"
   },
   {
    "duration": 82,
    "start_time": "2022-12-10T12:48:48.490Z"
   },
   {
    "duration": 9,
    "start_time": "2022-12-10T12:48:48.574Z"
   },
   {
    "duration": 9,
    "start_time": "2022-12-10T12:48:48.584Z"
   },
   {
    "duration": 38,
    "start_time": "2022-12-10T12:48:48.595Z"
   },
   {
    "duration": 3,
    "start_time": "2022-12-10T12:48:48.634Z"
   },
   {
    "duration": 31,
    "start_time": "2022-12-10T12:48:48.638Z"
   },
   {
    "duration": 28,
    "start_time": "2022-12-10T12:48:48.671Z"
   },
   {
    "duration": 10,
    "start_time": "2022-12-10T12:48:48.700Z"
   },
   {
    "duration": 47,
    "start_time": "2022-12-10T12:48:48.711Z"
   },
   {
    "duration": 6,
    "start_time": "2022-12-10T12:48:48.759Z"
   },
   {
    "duration": 17,
    "start_time": "2022-12-10T12:48:48.766Z"
   },
   {
    "duration": 64,
    "start_time": "2022-12-10T12:48:48.785Z"
   },
   {
    "duration": 66,
    "start_time": "2022-12-10T12:48:48.851Z"
   },
   {
    "duration": 6,
    "start_time": "2022-12-10T12:48:48.918Z"
   },
   {
    "duration": 11,
    "start_time": "2022-12-10T12:48:48.925Z"
   },
   {
    "duration": 4,
    "start_time": "2022-12-10T12:48:48.938Z"
   },
   {
    "duration": 14,
    "start_time": "2022-12-10T12:48:48.943Z"
   },
   {
    "duration": 10,
    "start_time": "2022-12-10T12:48:48.958Z"
   },
   {
    "duration": 44,
    "start_time": "2022-12-10T12:48:48.970Z"
   },
   {
    "duration": 14,
    "start_time": "2022-12-10T12:48:49.016Z"
   },
   {
    "duration": 36,
    "start_time": "2022-12-10T12:48:49.031Z"
   },
   {
    "duration": 47,
    "start_time": "2022-12-10T12:48:49.068Z"
   },
   {
    "duration": 4,
    "start_time": "2022-12-10T12:48:49.117Z"
   },
   {
    "duration": 157,
    "start_time": "2022-12-10T12:48:49.123Z"
   },
   {
    "duration": 7,
    "start_time": "2022-12-10T12:48:49.282Z"
   },
   {
    "duration": 157,
    "start_time": "2022-12-10T12:48:49.298Z"
   },
   {
    "duration": 217,
    "start_time": "2022-12-10T12:48:49.457Z"
   },
   {
    "duration": 6,
    "start_time": "2022-12-10T12:48:49.675Z"
   },
   {
    "duration": 7,
    "start_time": "2022-12-10T12:49:29.034Z"
   },
   {
    "duration": 75,
    "start_time": "2022-12-11T19:55:02.570Z"
   },
   {
    "duration": 923,
    "start_time": "2022-12-11T19:55:08.285Z"
   },
   {
    "duration": 1055,
    "start_time": "2022-12-11T19:55:09.212Z"
   },
   {
    "duration": 46,
    "start_time": "2022-12-11T19:55:10.270Z"
   },
   {
    "duration": 14,
    "start_time": "2022-12-11T19:55:10.318Z"
   },
   {
    "duration": 86,
    "start_time": "2022-12-11T19:55:10.335Z"
   },
   {
    "duration": 13,
    "start_time": "2022-12-11T19:55:10.423Z"
   },
   {
    "duration": 17,
    "start_time": "2022-12-11T19:55:10.439Z"
   },
   {
    "duration": 146,
    "start_time": "2022-12-11T19:55:10.458Z"
   },
   {
    "duration": 13,
    "start_time": "2022-12-11T19:55:10.606Z"
   },
   {
    "duration": 18,
    "start_time": "2022-12-11T19:55:10.621Z"
   },
   {
    "duration": 55,
    "start_time": "2022-12-11T19:55:10.641Z"
   },
   {
    "duration": 4,
    "start_time": "2022-12-11T19:55:10.702Z"
   },
   {
    "duration": 33,
    "start_time": "2022-12-11T19:55:10.709Z"
   },
   {
    "duration": 22,
    "start_time": "2022-12-11T19:55:10.751Z"
   },
   {
    "duration": 10,
    "start_time": "2022-12-11T19:55:10.775Z"
   },
   {
    "duration": 77,
    "start_time": "2022-12-11T19:55:10.787Z"
   },
   {
    "duration": 7,
    "start_time": "2022-12-11T19:55:10.866Z"
   },
   {
    "duration": 9,
    "start_time": "2022-12-11T19:55:10.875Z"
   },
   {
    "duration": 87,
    "start_time": "2022-12-11T19:55:10.886Z"
   },
   {
    "duration": 94,
    "start_time": "2022-12-11T19:55:10.976Z"
   },
   {
    "duration": 7,
    "start_time": "2022-12-11T19:55:11.072Z"
   },
   {
    "duration": 13,
    "start_time": "2022-12-11T19:55:11.081Z"
   },
   {
    "duration": 5,
    "start_time": "2022-12-11T19:55:11.095Z"
   },
   {
    "duration": 16,
    "start_time": "2022-12-11T19:55:11.102Z"
   },
   {
    "duration": 47,
    "start_time": "2022-12-11T19:55:11.120Z"
   },
   {
    "duration": 14,
    "start_time": "2022-12-11T19:55:11.169Z"
   },
   {
    "duration": 10,
    "start_time": "2022-12-11T19:55:11.184Z"
   },
   {
    "duration": 73,
    "start_time": "2022-12-11T19:55:11.196Z"
   },
   {
    "duration": 39,
    "start_time": "2022-12-11T19:55:11.271Z"
   },
   {
    "duration": 5,
    "start_time": "2022-12-11T19:55:11.313Z"
   },
   {
    "duration": 214,
    "start_time": "2022-12-11T19:55:11.319Z"
   },
   {
    "duration": 10,
    "start_time": "2022-12-11T19:55:11.534Z"
   },
   {
    "duration": 234,
    "start_time": "2022-12-11T19:55:11.551Z"
   },
   {
    "duration": 313,
    "start_time": "2022-12-11T19:55:11.787Z"
   },
   {
    "duration": 6,
    "start_time": "2022-12-11T19:55:12.103Z"
   },
   {
    "duration": 10,
    "start_time": "2022-12-11T20:03:50.557Z"
   },
   {
    "duration": 11,
    "start_time": "2022-12-11T20:03:56.078Z"
   },
   {
    "duration": 16,
    "start_time": "2022-12-11T20:07:07.124Z"
   },
   {
    "duration": 16,
    "start_time": "2022-12-11T20:07:14.509Z"
   },
   {
    "duration": 5,
    "start_time": "2022-12-11T20:08:34.494Z"
   },
   {
    "duration": 12,
    "start_time": "2022-12-11T20:08:35.267Z"
   },
   {
    "duration": 11,
    "start_time": "2022-12-11T20:09:40.088Z"
   },
   {
    "duration": 7,
    "start_time": "2022-12-11T20:09:59.688Z"
   },
   {
    "duration": 12,
    "start_time": "2022-12-11T20:10:01.436Z"
   },
   {
    "duration": 4,
    "start_time": "2022-12-11T20:12:46.460Z"
   },
   {
    "duration": 13,
    "start_time": "2022-12-11T20:13:02.216Z"
   },
   {
    "duration": 663,
    "start_time": "2022-12-11T20:14:50.802Z"
   },
   {
    "duration": 245,
    "start_time": "2022-12-11T20:14:51.467Z"
   },
   {
    "duration": 42,
    "start_time": "2022-12-11T20:14:51.714Z"
   },
   {
    "duration": 14,
    "start_time": "2022-12-11T20:14:51.758Z"
   },
   {
    "duration": 17,
    "start_time": "2022-12-11T20:14:51.773Z"
   },
   {
    "duration": 12,
    "start_time": "2022-12-11T20:14:51.792Z"
   },
   {
    "duration": 16,
    "start_time": "2022-12-11T20:14:51.805Z"
   },
   {
    "duration": 46,
    "start_time": "2022-12-11T20:14:51.823Z"
   },
   {
    "duration": 12,
    "start_time": "2022-12-11T20:14:51.871Z"
   },
   {
    "duration": 8,
    "start_time": "2022-12-11T20:14:51.886Z"
   },
   {
    "duration": 59,
    "start_time": "2022-12-11T20:14:51.895Z"
   },
   {
    "duration": 5,
    "start_time": "2022-12-11T20:14:51.955Z"
   },
   {
    "duration": 32,
    "start_time": "2022-12-11T20:14:51.961Z"
   },
   {
    "duration": 12,
    "start_time": "2022-12-11T20:14:51.995Z"
   },
   {
    "duration": 11,
    "start_time": "2022-12-11T20:14:52.008Z"
   },
   {
    "duration": 47,
    "start_time": "2022-12-11T20:14:52.051Z"
   },
   {
    "duration": 6,
    "start_time": "2022-12-11T20:14:52.100Z"
   },
   {
    "duration": 12,
    "start_time": "2022-12-11T20:14:52.109Z"
   },
   {
    "duration": 90,
    "start_time": "2022-12-11T20:14:52.122Z"
   },
   {
    "duration": 87,
    "start_time": "2022-12-11T20:14:52.214Z"
   },
   {
    "duration": 6,
    "start_time": "2022-12-11T20:14:52.303Z"
   },
   {
    "duration": 22,
    "start_time": "2022-12-11T20:14:52.311Z"
   },
   {
    "duration": 6,
    "start_time": "2022-12-11T20:14:52.334Z"
   },
   {
    "duration": 13,
    "start_time": "2022-12-11T20:14:52.351Z"
   },
   {
    "duration": 40,
    "start_time": "2022-12-11T20:14:52.367Z"
   },
   {
    "duration": 24,
    "start_time": "2022-12-11T20:14:52.409Z"
   },
   {
    "duration": 15,
    "start_time": "2022-12-11T20:14:52.435Z"
   },
   {
    "duration": 45,
    "start_time": "2022-12-11T20:14:52.454Z"
   },
   {
    "duration": 53,
    "start_time": "2022-12-11T20:14:52.501Z"
   },
   {
    "duration": 5,
    "start_time": "2022-12-11T20:14:52.556Z"
   },
   {
    "duration": 197,
    "start_time": "2022-12-11T20:14:52.563Z"
   },
   {
    "duration": 10,
    "start_time": "2022-12-11T20:14:52.761Z"
   },
   {
    "duration": 215,
    "start_time": "2022-12-11T20:14:52.773Z"
   },
   {
    "duration": 286,
    "start_time": "2022-12-11T20:14:52.990Z"
   },
   {
    "duration": 10,
    "start_time": "2022-12-11T20:14:53.278Z"
   },
   {
    "duration": 15,
    "start_time": "2022-12-11T20:14:53.289Z"
   },
   {
    "duration": 6,
    "start_time": "2022-12-11T20:14:53.306Z"
   },
   {
    "duration": 13,
    "start_time": "2022-12-11T20:14:53.313Z"
   },
   {
    "duration": 1400,
    "start_time": "2022-12-11T20:14:53.328Z"
   },
   {
    "duration": 12,
    "start_time": "2022-12-11T20:15:48.495Z"
   },
   {
    "duration": 181,
    "start_time": "2022-12-11T20:16:09.305Z"
   },
   {
    "duration": 244,
    "start_time": "2022-12-11T20:16:20.222Z"
   },
   {
    "duration": 796,
    "start_time": "2022-12-12T12:39:42.293Z"
   },
   {
    "duration": 314,
    "start_time": "2022-12-12T12:39:43.092Z"
   },
   {
    "duration": 36,
    "start_time": "2022-12-12T12:39:43.408Z"
   },
   {
    "duration": 11,
    "start_time": "2022-12-12T12:39:43.446Z"
   },
   {
    "duration": 58,
    "start_time": "2022-12-12T12:39:43.459Z"
   },
   {
    "duration": 13,
    "start_time": "2022-12-12T12:39:43.519Z"
   },
   {
    "duration": 13,
    "start_time": "2022-12-12T12:39:43.533Z"
   },
   {
    "duration": 79,
    "start_time": "2022-12-12T12:39:43.548Z"
   },
   {
    "duration": 11,
    "start_time": "2022-12-12T12:39:43.629Z"
   },
   {
    "duration": 48,
    "start_time": "2022-12-12T12:39:43.641Z"
   },
   {
    "duration": 50,
    "start_time": "2022-12-12T12:39:43.691Z"
   },
   {
    "duration": 7,
    "start_time": "2022-12-12T12:39:43.743Z"
   },
   {
    "duration": 55,
    "start_time": "2022-12-12T12:39:43.752Z"
   },
   {
    "duration": 18,
    "start_time": "2022-12-12T12:39:43.811Z"
   },
   {
    "duration": 56,
    "start_time": "2022-12-12T12:39:43.831Z"
   },
   {
    "duration": 65,
    "start_time": "2022-12-12T12:39:43.889Z"
   },
   {
    "duration": 6,
    "start_time": "2022-12-12T12:39:43.957Z"
   },
   {
    "duration": 20,
    "start_time": "2022-12-12T12:39:43.965Z"
   },
   {
    "duration": 83,
    "start_time": "2022-12-12T12:39:43.986Z"
   },
   {
    "duration": 73,
    "start_time": "2022-12-12T12:39:44.070Z"
   },
   {
    "duration": 7,
    "start_time": "2022-12-12T12:39:44.144Z"
   },
   {
    "duration": 24,
    "start_time": "2022-12-12T12:39:44.153Z"
   },
   {
    "duration": 8,
    "start_time": "2022-12-12T12:39:44.178Z"
   },
   {
    "duration": 23,
    "start_time": "2022-12-12T12:39:44.189Z"
   },
   {
    "duration": 21,
    "start_time": "2022-12-12T12:39:44.213Z"
   },
   {
    "duration": 14,
    "start_time": "2022-12-12T12:39:44.236Z"
   },
   {
    "duration": 12,
    "start_time": "2022-12-12T12:39:44.252Z"
   },
   {
    "duration": 43,
    "start_time": "2022-12-12T12:39:44.265Z"
   },
   {
    "duration": 45,
    "start_time": "2022-12-12T12:39:44.309Z"
   },
   {
    "duration": 5,
    "start_time": "2022-12-12T12:39:44.355Z"
   },
   {
    "duration": 167,
    "start_time": "2022-12-12T12:39:44.361Z"
   },
   {
    "duration": 9,
    "start_time": "2022-12-12T12:39:44.529Z"
   },
   {
    "duration": 231,
    "start_time": "2022-12-12T12:39:44.540Z"
   },
   {
    "duration": 295,
    "start_time": "2022-12-12T12:39:44.773Z"
   },
   {
    "duration": 10,
    "start_time": "2022-12-12T12:39:45.070Z"
   },
   {
    "duration": 13,
    "start_time": "2022-12-12T12:39:45.081Z"
   },
   {
    "duration": 5,
    "start_time": "2022-12-12T12:39:45.095Z"
   },
   {
    "duration": 18,
    "start_time": "2022-12-12T12:39:45.120Z"
   },
   {
    "duration": 35,
    "start_time": "2022-12-12T12:39:45.140Z"
   },
   {
    "duration": 171,
    "start_time": "2022-12-12T12:39:45.177Z"
   },
   {
    "duration": 63,
    "start_time": "2022-12-12T14:10:58.899Z"
   },
   {
    "duration": 36,
    "start_time": "2022-12-12T14:18:42.493Z"
   },
   {
    "duration": 10,
    "start_time": "2022-12-12T14:19:26.139Z"
   },
   {
    "duration": 38,
    "start_time": "2022-12-12T16:15:03.521Z"
   },
   {
    "duration": 12,
    "start_time": "2022-12-12T16:15:22.964Z"
   },
   {
    "duration": 45,
    "start_time": "2022-12-12T16:19:38.378Z"
   },
   {
    "duration": 51,
    "start_time": "2022-12-12T16:19:46.459Z"
   },
   {
    "duration": 53,
    "start_time": "2022-12-12T16:19:55.548Z"
   },
   {
    "duration": 97,
    "start_time": "2022-12-12T16:20:06.666Z"
   },
   {
    "duration": 100,
    "start_time": "2022-12-12T16:20:19.523Z"
   },
   {
    "duration": 26,
    "start_time": "2022-12-12T16:21:13.867Z"
   },
   {
    "duration": 44,
    "start_time": "2022-12-12T16:21:32.981Z"
   },
   {
    "duration": 10,
    "start_time": "2022-12-12T16:21:44.410Z"
   },
   {
    "duration": 45,
    "start_time": "2022-12-12T16:21:49.702Z"
   },
   {
    "duration": 45,
    "start_time": "2022-12-12T16:22:42.967Z"
   },
   {
    "duration": 47,
    "start_time": "2022-12-12T16:23:41.702Z"
   },
   {
    "duration": 18,
    "start_time": "2022-12-12T16:24:19.262Z"
   },
   {
    "duration": 35,
    "start_time": "2022-12-12T16:24:34.337Z"
   },
   {
    "duration": 8,
    "start_time": "2022-12-12T16:24:50.069Z"
   },
   {
    "duration": 18,
    "start_time": "2022-12-12T16:24:59.760Z"
   },
   {
    "duration": 23,
    "start_time": "2022-12-12T16:25:06.843Z"
   },
   {
    "duration": 22,
    "start_time": "2022-12-12T16:25:13.806Z"
   },
   {
    "duration": 17,
    "start_time": "2022-12-12T16:25:19.816Z"
   },
   {
    "duration": 32,
    "start_time": "2022-12-12T16:29:20.405Z"
   },
   {
    "duration": 16,
    "start_time": "2022-12-12T16:29:45.726Z"
   },
   {
    "duration": 23,
    "start_time": "2022-12-12T16:31:12.723Z"
   },
   {
    "duration": 35,
    "start_time": "2022-12-12T16:31:17.236Z"
   },
   {
    "duration": 3,
    "start_time": "2022-12-12T16:32:18.748Z"
   },
   {
    "duration": 31,
    "start_time": "2022-12-12T16:32:25.758Z"
   },
   {
    "duration": 9,
    "start_time": "2022-12-12T16:33:36.169Z"
   },
   {
    "duration": 25,
    "start_time": "2022-12-12T16:33:44.841Z"
   },
   {
    "duration": 9,
    "start_time": "2022-12-12T16:34:07.926Z"
   },
   {
    "duration": 18,
    "start_time": "2022-12-12T16:34:13.834Z"
   },
   {
    "duration": 26,
    "start_time": "2022-12-12T17:05:01.618Z"
   },
   {
    "duration": 21,
    "start_time": "2022-12-12T17:05:10.992Z"
   },
   {
    "duration": 59,
    "start_time": "2022-12-12T17:05:20.602Z"
   },
   {
    "duration": 15,
    "start_time": "2022-12-12T17:05:47.151Z"
   },
   {
    "duration": 56,
    "start_time": "2022-12-12T17:07:05.495Z"
   },
   {
    "duration": 7,
    "start_time": "2022-12-12T17:07:15.310Z"
   },
   {
    "duration": 24,
    "start_time": "2022-12-12T17:08:25.195Z"
   },
   {
    "duration": 35,
    "start_time": "2022-12-12T17:12:06.916Z"
   },
   {
    "duration": 35,
    "start_time": "2022-12-12T17:12:23.499Z"
   },
   {
    "duration": 31,
    "start_time": "2022-12-12T19:34:04.597Z"
   },
   {
    "duration": 11,
    "start_time": "2022-12-12T19:34:09.330Z"
   },
   {
    "duration": 5,
    "start_time": "2022-12-12T19:37:07.483Z"
   },
   {
    "duration": 7,
    "start_time": "2022-12-12T19:37:17.762Z"
   },
   {
    "duration": 11,
    "start_time": "2022-12-12T19:39:47.190Z"
   },
   {
    "duration": 3,
    "start_time": "2022-12-12T19:40:00.527Z"
   },
   {
    "duration": 11,
    "start_time": "2022-12-12T19:40:05.522Z"
   },
   {
    "duration": 577,
    "start_time": "2022-12-12T19:42:46.766Z"
   },
   {
    "duration": 210,
    "start_time": "2022-12-12T19:42:47.345Z"
   },
   {
    "duration": 33,
    "start_time": "2022-12-12T19:42:47.557Z"
   },
   {
    "duration": 17,
    "start_time": "2022-12-12T19:42:47.592Z"
   },
   {
    "duration": 26,
    "start_time": "2022-12-12T19:42:47.610Z"
   },
   {
    "duration": 9,
    "start_time": "2022-12-12T19:42:47.637Z"
   },
   {
    "duration": 17,
    "start_time": "2022-12-12T19:42:47.647Z"
   },
   {
    "duration": 36,
    "start_time": "2022-12-12T19:42:47.665Z"
   },
   {
    "duration": 9,
    "start_time": "2022-12-12T19:42:47.703Z"
   },
   {
    "duration": 20,
    "start_time": "2022-12-12T19:42:47.714Z"
   },
   {
    "duration": 57,
    "start_time": "2022-12-12T19:42:47.736Z"
   },
   {
    "duration": 3,
    "start_time": "2022-12-12T19:42:47.795Z"
   },
   {
    "duration": 31,
    "start_time": "2022-12-12T19:42:47.800Z"
   },
   {
    "duration": 31,
    "start_time": "2022-12-12T19:42:47.834Z"
   },
   {
    "duration": 8,
    "start_time": "2022-12-12T19:42:47.867Z"
   },
   {
    "duration": 40,
    "start_time": "2022-12-12T19:42:47.877Z"
   },
   {
    "duration": 5,
    "start_time": "2022-12-12T19:42:47.919Z"
   },
   {
    "duration": 10,
    "start_time": "2022-12-12T19:42:47.925Z"
   },
   {
    "duration": 52,
    "start_time": "2022-12-12T19:42:47.936Z"
   },
   {
    "duration": 72,
    "start_time": "2022-12-12T19:42:47.989Z"
   },
   {
    "duration": 5,
    "start_time": "2022-12-12T19:42:48.062Z"
   },
   {
    "duration": 15,
    "start_time": "2022-12-12T19:42:48.068Z"
   },
   {
    "duration": 4,
    "start_time": "2022-12-12T19:42:48.084Z"
   },
   {
    "duration": 13,
    "start_time": "2022-12-12T19:42:48.089Z"
   },
   {
    "duration": 23,
    "start_time": "2022-12-12T19:42:48.104Z"
   },
   {
    "duration": 12,
    "start_time": "2022-12-12T19:42:48.128Z"
   },
   {
    "duration": 10,
    "start_time": "2022-12-12T19:42:48.141Z"
   },
   {
    "duration": 34,
    "start_time": "2022-12-12T19:42:48.152Z"
   },
   {
    "duration": 48,
    "start_time": "2022-12-12T19:42:48.187Z"
   },
   {
    "duration": 4,
    "start_time": "2022-12-12T19:42:48.236Z"
   },
   {
    "duration": 149,
    "start_time": "2022-12-12T19:42:48.242Z"
   },
   {
    "duration": 7,
    "start_time": "2022-12-12T19:42:48.393Z"
   },
   {
    "duration": 180,
    "start_time": "2022-12-12T19:42:48.402Z"
   },
   {
    "duration": 222,
    "start_time": "2022-12-12T19:42:48.584Z"
   },
   {
    "duration": 16,
    "start_time": "2022-12-12T19:42:48.808Z"
   },
   {
    "duration": 11,
    "start_time": "2022-12-12T19:42:48.825Z"
   },
   {
    "duration": 5,
    "start_time": "2022-12-12T19:42:48.838Z"
   },
   {
    "duration": 12,
    "start_time": "2022-12-12T19:42:48.845Z"
   },
   {
    "duration": 11,
    "start_time": "2022-12-12T19:42:48.859Z"
   },
   {
    "duration": 172,
    "start_time": "2022-12-12T19:42:48.872Z"
   },
   {
    "duration": 38,
    "start_time": "2022-12-12T19:42:49.049Z"
   },
   {
    "duration": 10,
    "start_time": "2022-12-12T19:42:49.089Z"
   },
   {
    "duration": 61,
    "start_time": "2022-12-12T19:42:49.101Z"
   },
   {
    "duration": 44,
    "start_time": "2022-12-12T19:42:49.164Z"
   },
   {
    "duration": 42,
    "start_time": "2022-12-12T19:42:49.210Z"
   },
   {
    "duration": 3,
    "start_time": "2022-12-12T19:42:49.254Z"
   },
   {
    "duration": 9,
    "start_time": "2022-12-12T19:42:49.259Z"
   },
   {
    "duration": 13,
    "start_time": "2022-12-12T19:42:49.270Z"
   },
   {
    "duration": 87,
    "start_time": "2022-12-12T19:42:49.285Z"
   },
   {
    "duration": 14,
    "start_time": "2022-12-12T19:49:32.158Z"
   },
   {
    "duration": 13,
    "start_time": "2022-12-12T19:50:05.067Z"
   },
   {
    "duration": 14,
    "start_time": "2022-12-12T19:58:03.092Z"
   },
   {
    "duration": 14,
    "start_time": "2022-12-12T19:58:26.418Z"
   },
   {
    "duration": 12,
    "start_time": "2022-12-12T19:58:45.790Z"
   },
   {
    "duration": 13,
    "start_time": "2022-12-12T19:58:53.706Z"
   },
   {
    "duration": 66,
    "start_time": "2022-12-12T20:06:05.451Z"
   },
   {
    "duration": 23,
    "start_time": "2022-12-12T20:07:25.411Z"
   },
   {
    "duration": 17,
    "start_time": "2022-12-12T20:07:33.081Z"
   },
   {
    "duration": 14,
    "start_time": "2022-12-12T20:08:14.893Z"
   },
   {
    "duration": 13,
    "start_time": "2022-12-12T20:08:37.420Z"
   },
   {
    "duration": 9,
    "start_time": "2022-12-12T20:08:47.947Z"
   },
   {
    "duration": 16,
    "start_time": "2022-12-12T20:08:57.196Z"
   },
   {
    "duration": 16,
    "start_time": "2022-12-12T20:09:24.548Z"
   },
   {
    "duration": 14,
    "start_time": "2022-12-12T20:09:55.960Z"
   },
   {
    "duration": 12,
    "start_time": "2022-12-12T20:10:13.971Z"
   },
   {
    "duration": 8,
    "start_time": "2022-12-12T20:12:16.332Z"
   },
   {
    "duration": 13,
    "start_time": "2022-12-12T20:12:25.619Z"
   },
   {
    "duration": 6,
    "start_time": "2022-12-12T20:12:58.283Z"
   },
   {
    "duration": 9,
    "start_time": "2022-12-12T20:13:02.773Z"
   },
   {
    "duration": 8,
    "start_time": "2022-12-12T20:13:09.052Z"
   },
   {
    "duration": 17,
    "start_time": "2022-12-12T20:13:14.546Z"
   },
   {
    "duration": 609,
    "start_time": "2022-12-12T20:21:22.591Z"
   },
   {
    "duration": 211,
    "start_time": "2022-12-12T20:21:23.202Z"
   },
   {
    "duration": 35,
    "start_time": "2022-12-12T20:21:23.415Z"
   },
   {
    "duration": 11,
    "start_time": "2022-12-12T20:21:23.451Z"
   },
   {
    "duration": 17,
    "start_time": "2022-12-12T20:21:23.464Z"
   },
   {
    "duration": 9,
    "start_time": "2022-12-12T20:21:23.483Z"
   },
   {
    "duration": 15,
    "start_time": "2022-12-12T20:21:23.494Z"
   },
   {
    "duration": 36,
    "start_time": "2022-12-12T20:21:23.511Z"
   },
   {
    "duration": 10,
    "start_time": "2022-12-12T20:21:23.549Z"
   },
   {
    "duration": 7,
    "start_time": "2022-12-12T20:21:23.561Z"
   },
   {
    "duration": 31,
    "start_time": "2022-12-12T20:21:23.570Z"
   },
   {
    "duration": 19,
    "start_time": "2022-12-12T20:21:23.603Z"
   },
   {
    "duration": 33,
    "start_time": "2022-12-12T20:21:23.623Z"
   },
   {
    "duration": 21,
    "start_time": "2022-12-12T20:21:23.659Z"
   },
   {
    "duration": 9,
    "start_time": "2022-12-12T20:21:23.681Z"
   },
   {
    "duration": 41,
    "start_time": "2022-12-12T20:21:23.692Z"
   },
   {
    "duration": 6,
    "start_time": "2022-12-12T20:21:23.734Z"
   },
   {
    "duration": 9,
    "start_time": "2022-12-12T20:21:23.741Z"
   },
   {
    "duration": 57,
    "start_time": "2022-12-12T20:21:23.751Z"
   },
   {
    "duration": 66,
    "start_time": "2022-12-12T20:21:23.821Z"
   },
   {
    "duration": 5,
    "start_time": "2022-12-12T20:21:23.889Z"
   },
   {
    "duration": 12,
    "start_time": "2022-12-12T20:21:23.895Z"
   },
   {
    "duration": 4,
    "start_time": "2022-12-12T20:21:23.922Z"
   },
   {
    "duration": 13,
    "start_time": "2022-12-12T20:21:23.927Z"
   },
   {
    "duration": 17,
    "start_time": "2022-12-12T20:21:23.941Z"
   },
   {
    "duration": 16,
    "start_time": "2022-12-12T20:21:23.960Z"
   },
   {
    "duration": 12,
    "start_time": "2022-12-12T20:21:23.978Z"
   },
   {
    "duration": 45,
    "start_time": "2022-12-12T20:21:23.992Z"
   },
   {
    "duration": 30,
    "start_time": "2022-12-12T20:21:24.039Z"
   },
   {
    "duration": 4,
    "start_time": "2022-12-12T20:21:24.071Z"
   },
   {
    "duration": 155,
    "start_time": "2022-12-12T20:21:24.076Z"
   },
   {
    "duration": 7,
    "start_time": "2022-12-12T20:21:24.233Z"
   },
   {
    "duration": 179,
    "start_time": "2022-12-12T20:21:24.242Z"
   },
   {
    "duration": 227,
    "start_time": "2022-12-12T20:21:24.423Z"
   },
   {
    "duration": 8,
    "start_time": "2022-12-12T20:21:24.652Z"
   },
   {
    "duration": 9,
    "start_time": "2022-12-12T20:21:24.661Z"
   },
   {
    "duration": 5,
    "start_time": "2022-12-12T20:21:24.671Z"
   },
   {
    "duration": 4,
    "start_time": "2022-12-12T20:21:24.677Z"
   },
   {
    "duration": 12,
    "start_time": "2022-12-12T20:21:24.682Z"
   },
   {
    "duration": 170,
    "start_time": "2022-12-12T20:21:24.696Z"
   },
   {
    "duration": 35,
    "start_time": "2022-12-12T20:21:24.869Z"
   },
   {
    "duration": 18,
    "start_time": "2022-12-12T20:21:24.906Z"
   },
   {
    "duration": 38,
    "start_time": "2022-12-12T20:21:24.926Z"
   },
   {
    "duration": 43,
    "start_time": "2022-12-12T20:21:24.966Z"
   },
   {
    "duration": 41,
    "start_time": "2022-12-12T20:21:25.010Z"
   },
   {
    "duration": 3,
    "start_time": "2022-12-12T20:21:25.053Z"
   },
   {
    "duration": 12,
    "start_time": "2022-12-12T20:21:25.057Z"
   },
   {
    "duration": 11,
    "start_time": "2022-12-12T20:21:25.070Z"
   },
   {
    "duration": 82,
    "start_time": "2022-12-12T20:21:25.083Z"
   },
   {
    "duration": 0,
    "start_time": "2022-12-12T20:21:25.167Z"
   },
   {
    "duration": 9,
    "start_time": "2022-12-12T20:21:50.310Z"
   },
   {
    "duration": 14,
    "start_time": "2022-12-12T20:21:51.241Z"
   },
   {
    "duration": 578,
    "start_time": "2022-12-12T20:23:38.782Z"
   },
   {
    "duration": 206,
    "start_time": "2022-12-12T20:23:39.362Z"
   },
   {
    "duration": 31,
    "start_time": "2022-12-12T20:23:39.570Z"
   },
   {
    "duration": 20,
    "start_time": "2022-12-12T20:23:39.603Z"
   },
   {
    "duration": 14,
    "start_time": "2022-12-12T20:23:39.624Z"
   },
   {
    "duration": 12,
    "start_time": "2022-12-12T20:23:39.640Z"
   },
   {
    "duration": 12,
    "start_time": "2022-12-12T20:23:39.653Z"
   },
   {
    "duration": 51,
    "start_time": "2022-12-12T20:23:39.666Z"
   },
   {
    "duration": 13,
    "start_time": "2022-12-12T20:23:39.719Z"
   },
   {
    "duration": 19,
    "start_time": "2022-12-12T20:23:39.735Z"
   },
   {
    "duration": 38,
    "start_time": "2022-12-12T20:23:39.755Z"
   },
   {
    "duration": 3,
    "start_time": "2022-12-12T20:23:39.795Z"
   },
   {
    "duration": 27,
    "start_time": "2022-12-12T20:23:39.799Z"
   },
   {
    "duration": 14,
    "start_time": "2022-12-12T20:23:39.827Z"
   },
   {
    "duration": 10,
    "start_time": "2022-12-12T20:23:39.843Z"
   },
   {
    "duration": 45,
    "start_time": "2022-12-12T20:23:39.854Z"
   },
   {
    "duration": 5,
    "start_time": "2022-12-12T20:23:39.900Z"
   },
   {
    "duration": 16,
    "start_time": "2022-12-12T20:23:39.907Z"
   },
   {
    "duration": 51,
    "start_time": "2022-12-12T20:23:39.925Z"
   },
   {
    "duration": 80,
    "start_time": "2022-12-12T20:23:39.978Z"
   },
   {
    "duration": 5,
    "start_time": "2022-12-12T20:23:40.059Z"
   },
   {
    "duration": 22,
    "start_time": "2022-12-12T20:23:40.066Z"
   },
   {
    "duration": 11,
    "start_time": "2022-12-12T20:23:40.090Z"
   },
   {
    "duration": 19,
    "start_time": "2022-12-12T20:23:40.102Z"
   },
   {
    "duration": 8,
    "start_time": "2022-12-12T20:23:40.122Z"
   },
   {
    "duration": 11,
    "start_time": "2022-12-12T20:23:40.131Z"
   },
   {
    "duration": 14,
    "start_time": "2022-12-12T20:23:40.143Z"
   },
   {
    "duration": 31,
    "start_time": "2022-12-12T20:23:40.160Z"
   },
   {
    "duration": 43,
    "start_time": "2022-12-12T20:23:40.193Z"
   },
   {
    "duration": 4,
    "start_time": "2022-12-12T20:23:40.237Z"
   },
   {
    "duration": 155,
    "start_time": "2022-12-12T20:23:40.242Z"
   },
   {
    "duration": 8,
    "start_time": "2022-12-12T20:23:40.398Z"
   },
   {
    "duration": 184,
    "start_time": "2022-12-12T20:23:40.407Z"
   },
   {
    "duration": 228,
    "start_time": "2022-12-12T20:23:40.593Z"
   },
   {
    "duration": 8,
    "start_time": "2022-12-12T20:23:40.822Z"
   },
   {
    "duration": 19,
    "start_time": "2022-12-12T20:23:40.832Z"
   },
   {
    "duration": 5,
    "start_time": "2022-12-12T20:23:40.852Z"
   },
   {
    "duration": 9,
    "start_time": "2022-12-12T20:23:40.858Z"
   },
   {
    "duration": 16,
    "start_time": "2022-12-12T20:23:40.868Z"
   },
   {
    "duration": 157,
    "start_time": "2022-12-12T20:23:40.885Z"
   },
   {
    "duration": 36,
    "start_time": "2022-12-12T20:23:41.044Z"
   },
   {
    "duration": 9,
    "start_time": "2022-12-12T20:23:41.081Z"
   },
   {
    "duration": 55,
    "start_time": "2022-12-12T20:23:41.092Z"
   },
   {
    "duration": 62,
    "start_time": "2022-12-12T20:23:41.148Z"
   },
   {
    "duration": 35,
    "start_time": "2022-12-12T20:23:41.211Z"
   },
   {
    "duration": 4,
    "start_time": "2022-12-12T20:23:41.247Z"
   },
   {
    "duration": 8,
    "start_time": "2022-12-12T20:23:41.252Z"
   },
   {
    "duration": 20,
    "start_time": "2022-12-12T20:23:41.262Z"
   },
   {
    "duration": 823,
    "start_time": "2022-12-12T20:23:41.284Z"
   },
   {
    "duration": 0,
    "start_time": "2022-12-12T20:23:42.108Z"
   },
   {
    "duration": 619,
    "start_time": "2022-12-12T20:24:32.132Z"
   },
   {
    "duration": 214,
    "start_time": "2022-12-12T20:24:32.753Z"
   },
   {
    "duration": 37,
    "start_time": "2022-12-12T20:24:32.968Z"
   },
   {
    "duration": 18,
    "start_time": "2022-12-12T20:24:33.007Z"
   },
   {
    "duration": 14,
    "start_time": "2022-12-12T20:24:33.027Z"
   },
   {
    "duration": 9,
    "start_time": "2022-12-12T20:24:33.042Z"
   },
   {
    "duration": 9,
    "start_time": "2022-12-12T20:24:33.053Z"
   },
   {
    "duration": 37,
    "start_time": "2022-12-12T20:24:33.063Z"
   },
   {
    "duration": 9,
    "start_time": "2022-12-12T20:24:33.102Z"
   },
   {
    "duration": 13,
    "start_time": "2022-12-12T20:24:33.112Z"
   },
   {
    "duration": 37,
    "start_time": "2022-12-12T20:24:33.126Z"
   },
   {
    "duration": 4,
    "start_time": "2022-12-12T20:24:33.164Z"
   },
   {
    "duration": 28,
    "start_time": "2022-12-12T20:24:33.169Z"
   },
   {
    "duration": 24,
    "start_time": "2022-12-12T20:24:33.200Z"
   },
   {
    "duration": 10,
    "start_time": "2022-12-12T20:24:33.225Z"
   },
   {
    "duration": 48,
    "start_time": "2022-12-12T20:24:33.236Z"
   },
   {
    "duration": 5,
    "start_time": "2022-12-12T20:24:33.286Z"
   },
   {
    "duration": 10,
    "start_time": "2022-12-12T20:24:33.293Z"
   },
   {
    "duration": 68,
    "start_time": "2022-12-12T20:24:33.305Z"
   },
   {
    "duration": 78,
    "start_time": "2022-12-12T20:24:33.375Z"
   },
   {
    "duration": 5,
    "start_time": "2022-12-12T20:24:33.455Z"
   },
   {
    "duration": 13,
    "start_time": "2022-12-12T20:24:33.462Z"
   },
   {
    "duration": 11,
    "start_time": "2022-12-12T20:24:33.476Z"
   },
   {
    "duration": 16,
    "start_time": "2022-12-12T20:24:33.488Z"
   },
   {
    "duration": 19,
    "start_time": "2022-12-12T20:24:33.505Z"
   },
   {
    "duration": 12,
    "start_time": "2022-12-12T20:24:33.525Z"
   },
   {
    "duration": 13,
    "start_time": "2022-12-12T20:24:33.538Z"
   },
   {
    "duration": 39,
    "start_time": "2022-12-12T20:24:33.552Z"
   },
   {
    "duration": 41,
    "start_time": "2022-12-12T20:24:33.593Z"
   },
   {
    "duration": 4,
    "start_time": "2022-12-12T20:24:33.636Z"
   },
   {
    "duration": 150,
    "start_time": "2022-12-12T20:24:33.642Z"
   },
   {
    "duration": 9,
    "start_time": "2022-12-12T20:24:33.794Z"
   },
   {
    "duration": 174,
    "start_time": "2022-12-12T20:24:33.804Z"
   },
   {
    "duration": 241,
    "start_time": "2022-12-12T20:24:33.980Z"
   },
   {
    "duration": 9,
    "start_time": "2022-12-12T20:24:34.222Z"
   },
   {
    "duration": 14,
    "start_time": "2022-12-12T20:24:34.233Z"
   },
   {
    "duration": 4,
    "start_time": "2022-12-12T20:24:34.249Z"
   },
   {
    "duration": 10,
    "start_time": "2022-12-12T20:24:34.254Z"
   },
   {
    "duration": 10,
    "start_time": "2022-12-12T20:24:34.265Z"
   },
   {
    "duration": 168,
    "start_time": "2022-12-12T20:24:34.277Z"
   },
   {
    "duration": 39,
    "start_time": "2022-12-12T20:24:34.449Z"
   },
   {
    "duration": 11,
    "start_time": "2022-12-12T20:24:34.490Z"
   },
   {
    "duration": 38,
    "start_time": "2022-12-12T20:24:34.520Z"
   },
   {
    "duration": 52,
    "start_time": "2022-12-12T20:24:34.560Z"
   },
   {
    "duration": 36,
    "start_time": "2022-12-12T20:24:34.614Z"
   },
   {
    "duration": 3,
    "start_time": "2022-12-12T20:24:34.652Z"
   },
   {
    "duration": 6,
    "start_time": "2022-12-12T20:24:34.657Z"
   },
   {
    "duration": 9,
    "start_time": "2022-12-12T20:24:34.665Z"
   },
   {
    "duration": 12,
    "start_time": "2022-12-12T20:24:34.675Z"
   },
   {
    "duration": 804,
    "start_time": "2022-12-12T20:24:34.689Z"
   },
   {
    "duration": 0,
    "start_time": "2022-12-12T20:24:35.494Z"
   },
   {
    "duration": 598,
    "start_time": "2022-12-12T20:25:32.052Z"
   },
   {
    "duration": 233,
    "start_time": "2022-12-12T20:25:32.652Z"
   },
   {
    "duration": 36,
    "start_time": "2022-12-12T20:25:32.887Z"
   },
   {
    "duration": 11,
    "start_time": "2022-12-12T20:25:32.924Z"
   },
   {
    "duration": 17,
    "start_time": "2022-12-12T20:25:32.938Z"
   },
   {
    "duration": 9,
    "start_time": "2022-12-12T20:25:32.956Z"
   },
   {
    "duration": 12,
    "start_time": "2022-12-12T20:25:32.967Z"
   },
   {
    "duration": 29,
    "start_time": "2022-12-12T20:25:32.980Z"
   },
   {
    "duration": 11,
    "start_time": "2022-12-12T20:25:33.011Z"
   },
   {
    "duration": 10,
    "start_time": "2022-12-12T20:25:33.024Z"
   },
   {
    "duration": 36,
    "start_time": "2022-12-12T20:25:33.035Z"
   },
   {
    "duration": 3,
    "start_time": "2022-12-12T20:25:33.073Z"
   },
   {
    "duration": 28,
    "start_time": "2022-12-12T20:25:33.078Z"
   },
   {
    "duration": 10,
    "start_time": "2022-12-12T20:25:33.120Z"
   },
   {
    "duration": 12,
    "start_time": "2022-12-12T20:25:33.132Z"
   },
   {
    "duration": 45,
    "start_time": "2022-12-12T20:25:33.145Z"
   },
   {
    "duration": 6,
    "start_time": "2022-12-12T20:25:33.191Z"
   },
   {
    "duration": 24,
    "start_time": "2022-12-12T20:25:33.199Z"
   },
   {
    "duration": 53,
    "start_time": "2022-12-12T20:25:33.225Z"
   },
   {
    "duration": 79,
    "start_time": "2022-12-12T20:25:33.280Z"
   },
   {
    "duration": 5,
    "start_time": "2022-12-12T20:25:33.360Z"
   },
   {
    "duration": 12,
    "start_time": "2022-12-12T20:25:33.367Z"
   },
   {
    "duration": 5,
    "start_time": "2022-12-12T20:25:33.381Z"
   },
   {
    "duration": 12,
    "start_time": "2022-12-12T20:25:33.387Z"
   },
   {
    "duration": 10,
    "start_time": "2022-12-12T20:25:33.420Z"
   },
   {
    "duration": 13,
    "start_time": "2022-12-12T20:25:33.431Z"
   },
   {
    "duration": 10,
    "start_time": "2022-12-12T20:25:33.445Z"
   },
   {
    "duration": 33,
    "start_time": "2022-12-12T20:25:33.456Z"
   },
   {
    "duration": 51,
    "start_time": "2022-12-12T20:25:33.490Z"
   },
   {
    "duration": 6,
    "start_time": "2022-12-12T20:25:33.542Z"
   },
   {
    "duration": 148,
    "start_time": "2022-12-12T20:25:33.549Z"
   },
   {
    "duration": 8,
    "start_time": "2022-12-12T20:25:33.698Z"
   },
   {
    "duration": 177,
    "start_time": "2022-12-12T20:25:33.707Z"
   },
   {
    "duration": 231,
    "start_time": "2022-12-12T20:25:33.885Z"
   },
   {
    "duration": 10,
    "start_time": "2022-12-12T20:25:34.117Z"
   },
   {
    "duration": 9,
    "start_time": "2022-12-12T20:25:34.129Z"
   },
   {
    "duration": 4,
    "start_time": "2022-12-12T20:25:34.140Z"
   },
   {
    "duration": 8,
    "start_time": "2022-12-12T20:25:34.146Z"
   },
   {
    "duration": 21,
    "start_time": "2022-12-12T20:25:34.156Z"
   },
   {
    "duration": 157,
    "start_time": "2022-12-12T20:25:34.178Z"
   },
   {
    "duration": 37,
    "start_time": "2022-12-12T20:25:34.338Z"
   },
   {
    "duration": 9,
    "start_time": "2022-12-12T20:25:34.377Z"
   },
   {
    "duration": 56,
    "start_time": "2022-12-12T20:25:34.387Z"
   },
   {
    "duration": 47,
    "start_time": "2022-12-12T20:25:34.444Z"
   },
   {
    "duration": 42,
    "start_time": "2022-12-12T20:25:34.493Z"
   },
   {
    "duration": 3,
    "start_time": "2022-12-12T20:25:34.537Z"
   },
   {
    "duration": 6,
    "start_time": "2022-12-12T20:25:34.542Z"
   },
   {
    "duration": 27,
    "start_time": "2022-12-12T20:25:34.550Z"
   },
   {
    "duration": 14,
    "start_time": "2022-12-12T20:25:34.579Z"
   },
   {
    "duration": 5,
    "start_time": "2022-12-12T20:25:34.595Z"
   },
   {
    "duration": 18,
    "start_time": "2022-12-12T20:25:34.602Z"
   },
   {
    "duration": 68,
    "start_time": "2022-12-13T20:24:48.707Z"
   },
   {
    "duration": 849,
    "start_time": "2022-12-13T20:24:54.814Z"
   },
   {
    "duration": 349,
    "start_time": "2022-12-13T20:24:55.665Z"
   },
   {
    "duration": 40,
    "start_time": "2022-12-13T20:24:56.016Z"
   },
   {
    "duration": 15,
    "start_time": "2022-12-13T20:24:56.058Z"
   },
   {
    "duration": 62,
    "start_time": "2022-12-13T20:24:56.075Z"
   },
   {
    "duration": 12,
    "start_time": "2022-12-13T20:24:56.139Z"
   },
   {
    "duration": 15,
    "start_time": "2022-12-13T20:24:56.152Z"
   },
   {
    "duration": 86,
    "start_time": "2022-12-13T20:24:56.169Z"
   },
   {
    "duration": 13,
    "start_time": "2022-12-13T20:24:56.257Z"
   },
   {
    "duration": 12,
    "start_time": "2022-12-13T20:24:56.272Z"
   },
   {
    "duration": 73,
    "start_time": "2022-12-13T20:24:56.286Z"
   },
   {
    "duration": 5,
    "start_time": "2022-12-13T20:24:56.361Z"
   },
   {
    "duration": 31,
    "start_time": "2022-12-13T20:24:56.368Z"
   },
   {
    "duration": 14,
    "start_time": "2022-12-13T20:24:56.402Z"
   },
   {
    "duration": 39,
    "start_time": "2022-12-13T20:24:56.417Z"
   },
   {
    "duration": 47,
    "start_time": "2022-12-13T20:24:56.458Z"
   },
   {
    "duration": 7,
    "start_time": "2022-12-13T20:24:56.506Z"
   },
   {
    "duration": 11,
    "start_time": "2022-12-13T20:24:56.514Z"
   },
   {
    "duration": 86,
    "start_time": "2022-12-13T20:24:56.527Z"
   },
   {
    "duration": 91,
    "start_time": "2022-12-13T20:24:56.615Z"
   },
   {
    "duration": 5,
    "start_time": "2022-12-13T20:24:56.708Z"
   },
   {
    "duration": 13,
    "start_time": "2022-12-13T20:24:56.715Z"
   },
   {
    "duration": 5,
    "start_time": "2022-12-13T20:24:56.729Z"
   },
   {
    "duration": 33,
    "start_time": "2022-12-13T20:24:56.735Z"
   },
   {
    "duration": 11,
    "start_time": "2022-12-13T20:24:56.771Z"
   },
   {
    "duration": 21,
    "start_time": "2022-12-13T20:24:56.783Z"
   },
   {
    "duration": 16,
    "start_time": "2022-12-13T20:24:56.806Z"
   },
   {
    "duration": 57,
    "start_time": "2022-12-13T20:24:56.824Z"
   },
   {
    "duration": 35,
    "start_time": "2022-12-13T20:24:56.883Z"
   },
   {
    "duration": 5,
    "start_time": "2022-12-13T20:24:56.920Z"
   },
   {
    "duration": 217,
    "start_time": "2022-12-13T20:24:56.927Z"
   },
   {
    "duration": 15,
    "start_time": "2022-12-13T20:24:57.146Z"
   },
   {
    "duration": 198,
    "start_time": "2022-12-13T20:24:57.163Z"
   },
   {
    "duration": 267,
    "start_time": "2022-12-13T20:24:57.364Z"
   },
   {
    "duration": 25,
    "start_time": "2022-12-13T20:24:57.633Z"
   },
   {
    "duration": 11,
    "start_time": "2022-12-13T20:24:57.660Z"
   },
   {
    "duration": 7,
    "start_time": "2022-12-13T20:24:57.673Z"
   },
   {
    "duration": 6,
    "start_time": "2022-12-13T20:24:57.682Z"
   },
   {
    "duration": 12,
    "start_time": "2022-12-13T20:24:57.689Z"
   },
   {
    "duration": 257,
    "start_time": "2022-12-13T20:24:57.703Z"
   },
   {
    "duration": 36,
    "start_time": "2022-12-13T20:24:57.964Z"
   },
   {
    "duration": 11,
    "start_time": "2022-12-13T20:24:58.002Z"
   },
   {
    "duration": 62,
    "start_time": "2022-12-13T20:24:58.015Z"
   },
   {
    "duration": 44,
    "start_time": "2022-12-13T20:24:58.078Z"
   },
   {
    "duration": 49,
    "start_time": "2022-12-13T20:24:58.124Z"
   },
   {
    "duration": 3,
    "start_time": "2022-12-13T20:24:58.175Z"
   },
   {
    "duration": 16,
    "start_time": "2022-12-13T20:24:58.180Z"
   },
   {
    "duration": 9,
    "start_time": "2022-12-13T20:24:58.198Z"
   },
   {
    "duration": 17,
    "start_time": "2022-12-13T20:24:58.208Z"
   },
   {
    "duration": 29,
    "start_time": "2022-12-13T20:24:58.227Z"
   },
   {
    "duration": 79,
    "start_time": "2022-12-13T20:24:58.257Z"
   },
   {
    "duration": 15,
    "start_time": "2022-12-13T20:25:11.163Z"
   },
   {
    "duration": 16,
    "start_time": "2022-12-13T20:25:21.754Z"
   },
   {
    "duration": 27,
    "start_time": "2022-12-13T20:25:31.438Z"
   },
   {
    "duration": 4,
    "start_time": "2022-12-13T20:26:17.128Z"
   },
   {
    "duration": 29,
    "start_time": "2022-12-13T20:28:45.142Z"
   },
   {
    "duration": 34,
    "start_time": "2022-12-13T20:42:46.103Z"
   },
   {
    "duration": 15,
    "start_time": "2022-12-13T20:44:59.860Z"
   },
   {
    "duration": 30,
    "start_time": "2022-12-13T20:45:04.175Z"
   },
   {
    "duration": 11,
    "start_time": "2022-12-13T20:45:23.598Z"
   },
   {
    "duration": 14,
    "start_time": "2022-12-13T20:45:47.782Z"
   },
   {
    "duration": 13,
    "start_time": "2022-12-13T20:47:50.740Z"
   },
   {
    "duration": 9,
    "start_time": "2022-12-13T20:49:03.187Z"
   },
   {
    "duration": 746,
    "start_time": "2022-12-13T20:52:59.614Z"
   },
   {
    "duration": 280,
    "start_time": "2022-12-13T20:53:00.365Z"
   },
   {
    "duration": 53,
    "start_time": "2022-12-13T20:53:00.647Z"
   },
   {
    "duration": 21,
    "start_time": "2022-12-13T20:53:00.702Z"
   },
   {
    "duration": 27,
    "start_time": "2022-12-13T20:53:00.725Z"
   },
   {
    "duration": 17,
    "start_time": "2022-12-13T20:53:00.754Z"
   },
   {
    "duration": 27,
    "start_time": "2022-12-13T20:53:00.773Z"
   },
   {
    "duration": 59,
    "start_time": "2022-12-13T20:53:00.801Z"
   },
   {
    "duration": 18,
    "start_time": "2022-12-13T20:53:00.862Z"
   },
   {
    "duration": 36,
    "start_time": "2022-12-13T20:53:00.884Z"
   },
   {
    "duration": 94,
    "start_time": "2022-12-13T20:53:00.922Z"
   },
   {
    "duration": 6,
    "start_time": "2022-12-13T20:53:01.018Z"
   },
   {
    "duration": 45,
    "start_time": "2022-12-13T20:53:01.026Z"
   },
   {
    "duration": 18,
    "start_time": "2022-12-13T20:53:01.075Z"
   },
   {
    "duration": 25,
    "start_time": "2022-12-13T20:53:01.095Z"
   },
   {
    "duration": 74,
    "start_time": "2022-12-13T20:53:01.122Z"
   },
   {
    "duration": 7,
    "start_time": "2022-12-13T20:53:01.198Z"
   },
   {
    "duration": 21,
    "start_time": "2022-12-13T20:53:01.207Z"
   },
   {
    "duration": 91,
    "start_time": "2022-12-13T20:53:01.229Z"
   },
   {
    "duration": 104,
    "start_time": "2022-12-13T20:53:01.321Z"
   },
   {
    "duration": 5,
    "start_time": "2022-12-13T20:53:01.427Z"
   },
   {
    "duration": 30,
    "start_time": "2022-12-13T20:53:01.434Z"
   },
   {
    "duration": 25,
    "start_time": "2022-12-13T20:53:01.466Z"
   },
   {
    "duration": 25,
    "start_time": "2022-12-13T20:53:01.493Z"
   },
   {
    "duration": 21,
    "start_time": "2022-12-13T20:53:01.519Z"
   },
   {
    "duration": 49,
    "start_time": "2022-12-13T20:53:01.541Z"
   },
   {
    "duration": 37,
    "start_time": "2022-12-13T20:53:01.592Z"
   },
   {
    "duration": 79,
    "start_time": "2022-12-13T20:53:01.630Z"
   },
   {
    "duration": 37,
    "start_time": "2022-12-13T20:53:01.710Z"
   },
   {
    "duration": 5,
    "start_time": "2022-12-13T20:53:01.749Z"
   },
   {
    "duration": 219,
    "start_time": "2022-12-13T20:53:01.756Z"
   },
   {
    "duration": 12,
    "start_time": "2022-12-13T20:53:01.979Z"
   },
   {
    "duration": 236,
    "start_time": "2022-12-13T20:53:01.993Z"
   },
   {
    "duration": 306,
    "start_time": "2022-12-13T20:53:02.231Z"
   },
   {
    "duration": 27,
    "start_time": "2022-12-13T20:53:02.539Z"
   },
   {
    "duration": 16,
    "start_time": "2022-12-13T20:53:02.569Z"
   },
   {
    "duration": 8,
    "start_time": "2022-12-13T20:53:02.587Z"
   },
   {
    "duration": 14,
    "start_time": "2022-12-13T20:53:02.597Z"
   },
   {
    "duration": 16,
    "start_time": "2022-12-13T20:53:02.613Z"
   },
   {
    "duration": 218,
    "start_time": "2022-12-13T20:53:02.631Z"
   },
   {
    "duration": 56,
    "start_time": "2022-12-13T20:53:02.854Z"
   },
   {
    "duration": 10,
    "start_time": "2022-12-13T20:53:02.912Z"
   },
   {
    "duration": 79,
    "start_time": "2022-12-13T20:53:02.924Z"
   },
   {
    "duration": 66,
    "start_time": "2022-12-13T20:53:03.004Z"
   },
   {
    "duration": 40,
    "start_time": "2022-12-13T20:53:03.072Z"
   },
   {
    "duration": 4,
    "start_time": "2022-12-13T20:53:03.114Z"
   },
   {
    "duration": 25,
    "start_time": "2022-12-13T20:53:03.120Z"
   },
   {
    "duration": 14,
    "start_time": "2022-12-13T20:53:03.147Z"
   },
   {
    "duration": 17,
    "start_time": "2022-12-13T20:53:03.167Z"
   },
   {
    "duration": 8,
    "start_time": "2022-12-13T20:53:03.186Z"
   },
   {
    "duration": 23,
    "start_time": "2022-12-13T20:53:03.195Z"
   },
   {
    "duration": 9,
    "start_time": "2022-12-13T20:53:03.220Z"
   },
   {
    "duration": 8,
    "start_time": "2022-12-13T20:53:03.230Z"
   },
   {
    "duration": 7,
    "start_time": "2022-12-13T20:53:03.239Z"
   },
   {
    "duration": 8,
    "start_time": "2022-12-13T20:53:03.247Z"
   },
   {
    "duration": 9,
    "start_time": "2022-12-13T20:53:20.138Z"
   },
   {
    "duration": 768,
    "start_time": "2022-12-13T20:54:25.624Z"
   },
   {
    "duration": 284,
    "start_time": "2022-12-13T20:54:26.395Z"
   },
   {
    "duration": 41,
    "start_time": "2022-12-13T20:54:26.682Z"
   },
   {
    "duration": 39,
    "start_time": "2022-12-13T20:54:26.725Z"
   },
   {
    "duration": 17,
    "start_time": "2022-12-13T20:54:26.769Z"
   },
   {
    "duration": 13,
    "start_time": "2022-12-13T20:54:26.788Z"
   },
   {
    "duration": 11,
    "start_time": "2022-12-13T20:54:26.803Z"
   },
   {
    "duration": 36,
    "start_time": "2022-12-13T20:54:26.816Z"
   },
   {
    "duration": 13,
    "start_time": "2022-12-13T20:54:26.854Z"
   },
   {
    "duration": 15,
    "start_time": "2022-12-13T20:54:26.869Z"
   },
   {
    "duration": 44,
    "start_time": "2022-12-13T20:54:26.886Z"
   },
   {
    "duration": 4,
    "start_time": "2022-12-13T20:54:26.932Z"
   },
   {
    "duration": 39,
    "start_time": "2022-12-13T20:54:26.959Z"
   },
   {
    "duration": 13,
    "start_time": "2022-12-13T20:54:27.002Z"
   },
   {
    "duration": 15,
    "start_time": "2022-12-13T20:54:27.017Z"
   },
   {
    "duration": 58,
    "start_time": "2022-12-13T20:54:27.057Z"
   },
   {
    "duration": 6,
    "start_time": "2022-12-13T20:54:27.117Z"
   },
   {
    "duration": 35,
    "start_time": "2022-12-13T20:54:27.125Z"
   },
   {
    "duration": 79,
    "start_time": "2022-12-13T20:54:27.163Z"
   },
   {
    "duration": 96,
    "start_time": "2022-12-13T20:54:27.244Z"
   },
   {
    "duration": 7,
    "start_time": "2022-12-13T20:54:27.342Z"
   },
   {
    "duration": 15,
    "start_time": "2022-12-13T20:54:27.357Z"
   },
   {
    "duration": 9,
    "start_time": "2022-12-13T20:54:27.373Z"
   },
   {
    "duration": 19,
    "start_time": "2022-12-13T20:54:27.383Z"
   },
   {
    "duration": 14,
    "start_time": "2022-12-13T20:54:27.404Z"
   },
   {
    "duration": 41,
    "start_time": "2022-12-13T20:54:27.421Z"
   },
   {
    "duration": 24,
    "start_time": "2022-12-13T20:54:27.471Z"
   },
   {
    "duration": 66,
    "start_time": "2022-12-13T20:54:27.497Z"
   },
   {
    "duration": 45,
    "start_time": "2022-12-13T20:54:27.566Z"
   },
   {
    "duration": 4,
    "start_time": "2022-12-13T20:54:27.613Z"
   },
   {
    "duration": 242,
    "start_time": "2022-12-13T20:54:27.620Z"
   },
   {
    "duration": 11,
    "start_time": "2022-12-13T20:54:27.864Z"
   },
   {
    "duration": 222,
    "start_time": "2022-12-13T20:54:27.877Z"
   },
   {
    "duration": 275,
    "start_time": "2022-12-13T20:54:28.101Z"
   },
   {
    "duration": 13,
    "start_time": "2022-12-13T20:54:28.378Z"
   },
   {
    "duration": 12,
    "start_time": "2022-12-13T20:54:28.393Z"
   },
   {
    "duration": 6,
    "start_time": "2022-12-13T20:54:28.407Z"
   },
   {
    "duration": 10,
    "start_time": "2022-12-13T20:54:28.414Z"
   },
   {
    "duration": 37,
    "start_time": "2022-12-13T20:54:28.426Z"
   },
   {
    "duration": 226,
    "start_time": "2022-12-13T20:54:28.466Z"
   },
   {
    "duration": 62,
    "start_time": "2022-12-13T20:54:28.699Z"
   },
   {
    "duration": 19,
    "start_time": "2022-12-13T20:54:28.763Z"
   },
   {
    "duration": 47,
    "start_time": "2022-12-13T20:54:28.784Z"
   },
   {
    "duration": 62,
    "start_time": "2022-12-13T20:54:28.833Z"
   },
   {
    "duration": 97,
    "start_time": "2022-12-13T20:54:28.897Z"
   },
   {
    "duration": 4,
    "start_time": "2022-12-13T20:54:28.996Z"
   },
   {
    "duration": 12,
    "start_time": "2022-12-13T20:54:29.002Z"
   },
   {
    "duration": 13,
    "start_time": "2022-12-13T20:54:29.015Z"
   },
   {
    "duration": 31,
    "start_time": "2022-12-13T20:54:29.029Z"
   },
   {
    "duration": 6,
    "start_time": "2022-12-13T20:54:29.066Z"
   },
   {
    "duration": 6,
    "start_time": "2022-12-13T20:54:29.075Z"
   },
   {
    "duration": 7,
    "start_time": "2022-12-13T20:54:29.083Z"
   },
   {
    "duration": 7,
    "start_time": "2022-12-13T20:54:29.092Z"
   },
   {
    "duration": 6,
    "start_time": "2022-12-13T20:54:29.100Z"
   },
   {
    "duration": 5,
    "start_time": "2022-12-13T20:54:29.108Z"
   },
   {
    "duration": 6,
    "start_time": "2022-12-13T20:54:29.115Z"
   },
   {
    "duration": 708,
    "start_time": "2022-12-13T20:55:20.895Z"
   },
   {
    "duration": 260,
    "start_time": "2022-12-13T20:55:21.605Z"
   },
   {
    "duration": 41,
    "start_time": "2022-12-13T20:55:21.867Z"
   },
   {
    "duration": 12,
    "start_time": "2022-12-13T20:55:21.910Z"
   },
   {
    "duration": 16,
    "start_time": "2022-12-13T20:55:21.924Z"
   },
   {
    "duration": 25,
    "start_time": "2022-12-13T20:55:21.942Z"
   },
   {
    "duration": 11,
    "start_time": "2022-12-13T20:55:21.969Z"
   },
   {
    "duration": 36,
    "start_time": "2022-12-13T20:55:21.981Z"
   },
   {
    "duration": 12,
    "start_time": "2022-12-13T20:55:22.018Z"
   },
   {
    "duration": 16,
    "start_time": "2022-12-13T20:55:22.055Z"
   },
   {
    "duration": 41,
    "start_time": "2022-12-13T20:55:22.075Z"
   },
   {
    "duration": 5,
    "start_time": "2022-12-13T20:55:22.119Z"
   },
   {
    "duration": 64,
    "start_time": "2022-12-13T20:55:22.126Z"
   },
   {
    "duration": 14,
    "start_time": "2022-12-13T20:55:22.192Z"
   },
   {
    "duration": 20,
    "start_time": "2022-12-13T20:55:22.208Z"
   },
   {
    "duration": 69,
    "start_time": "2022-12-13T20:55:22.230Z"
   },
   {
    "duration": 7,
    "start_time": "2022-12-13T20:55:22.300Z"
   },
   {
    "duration": 9,
    "start_time": "2022-12-13T20:55:22.309Z"
   },
   {
    "duration": 96,
    "start_time": "2022-12-13T20:55:22.319Z"
   },
   {
    "duration": 103,
    "start_time": "2022-12-13T20:55:22.417Z"
   },
   {
    "duration": 7,
    "start_time": "2022-12-13T20:55:22.522Z"
   },
   {
    "duration": 34,
    "start_time": "2022-12-13T20:55:22.531Z"
   },
   {
    "duration": 13,
    "start_time": "2022-12-13T20:55:22.568Z"
   },
   {
    "duration": 34,
    "start_time": "2022-12-13T20:55:22.583Z"
   },
   {
    "duration": 11,
    "start_time": "2022-12-13T20:55:22.619Z"
   },
   {
    "duration": 27,
    "start_time": "2022-12-13T20:55:22.631Z"
   },
   {
    "duration": 18,
    "start_time": "2022-12-13T20:55:22.660Z"
   },
   {
    "duration": 35,
    "start_time": "2022-12-13T20:55:22.681Z"
   },
   {
    "duration": 54,
    "start_time": "2022-12-13T20:55:22.718Z"
   },
   {
    "duration": 5,
    "start_time": "2022-12-13T20:55:22.774Z"
   },
   {
    "duration": 200,
    "start_time": "2022-12-13T20:55:22.781Z"
   },
   {
    "duration": 22,
    "start_time": "2022-12-13T20:55:22.983Z"
   },
   {
    "duration": 240,
    "start_time": "2022-12-13T20:55:23.007Z"
   },
   {
    "duration": 290,
    "start_time": "2022-12-13T20:55:23.249Z"
   },
   {
    "duration": 17,
    "start_time": "2022-12-13T20:55:23.541Z"
   },
   {
    "duration": 16,
    "start_time": "2022-12-13T20:55:23.560Z"
   },
   {
    "duration": 6,
    "start_time": "2022-12-13T20:55:23.579Z"
   },
   {
    "duration": 9,
    "start_time": "2022-12-13T20:55:23.587Z"
   },
   {
    "duration": 16,
    "start_time": "2022-12-13T20:55:23.598Z"
   },
   {
    "duration": 242,
    "start_time": "2022-12-13T20:55:23.617Z"
   },
   {
    "duration": 58,
    "start_time": "2022-12-13T20:55:23.862Z"
   },
   {
    "duration": 11,
    "start_time": "2022-12-13T20:55:23.922Z"
   },
   {
    "duration": 54,
    "start_time": "2022-12-13T20:55:23.957Z"
   },
   {
    "duration": 70,
    "start_time": "2022-12-13T20:55:24.013Z"
   },
   {
    "duration": 101,
    "start_time": "2022-12-13T20:55:24.086Z"
   },
   {
    "duration": 5,
    "start_time": "2022-12-13T20:55:24.189Z"
   },
   {
    "duration": 11,
    "start_time": "2022-12-13T20:55:24.196Z"
   },
   {
    "duration": 11,
    "start_time": "2022-12-13T20:55:24.208Z"
   },
   {
    "duration": 16,
    "start_time": "2022-12-13T20:55:24.221Z"
   },
   {
    "duration": 19,
    "start_time": "2022-12-13T20:55:24.239Z"
   },
   {
    "duration": 15,
    "start_time": "2022-12-13T20:55:24.262Z"
   },
   {
    "duration": 6,
    "start_time": "2022-12-13T20:55:24.280Z"
   },
   {
    "duration": 9,
    "start_time": "2022-12-13T20:55:24.288Z"
   },
   {
    "duration": 6,
    "start_time": "2022-12-13T20:55:24.299Z"
   },
   {
    "duration": 7,
    "start_time": "2022-12-13T20:55:24.307Z"
   },
   {
    "duration": 10,
    "start_time": "2022-12-13T20:55:24.316Z"
   },
   {
    "duration": 13,
    "start_time": "2022-12-13T20:55:31.803Z"
   },
   {
    "duration": 754,
    "start_time": "2022-12-13T21:03:06.376Z"
   },
   {
    "duration": 276,
    "start_time": "2022-12-13T21:03:07.132Z"
   },
   {
    "duration": 53,
    "start_time": "2022-12-13T21:03:07.410Z"
   },
   {
    "duration": 19,
    "start_time": "2022-12-13T21:03:07.466Z"
   },
   {
    "duration": 21,
    "start_time": "2022-12-13T21:03:07.487Z"
   },
   {
    "duration": 15,
    "start_time": "2022-12-13T21:03:07.510Z"
   },
   {
    "duration": 18,
    "start_time": "2022-12-13T21:03:07.528Z"
   },
   {
    "duration": 44,
    "start_time": "2022-12-13T21:03:07.557Z"
   },
   {
    "duration": 12,
    "start_time": "2022-12-13T21:03:07.602Z"
   },
   {
    "duration": 13,
    "start_time": "2022-12-13T21:03:07.616Z"
   },
   {
    "duration": 61,
    "start_time": "2022-12-13T21:03:07.631Z"
   },
   {
    "duration": 4,
    "start_time": "2022-12-13T21:03:07.694Z"
   },
   {
    "duration": 59,
    "start_time": "2022-12-13T21:03:07.701Z"
   },
   {
    "duration": 17,
    "start_time": "2022-12-13T21:03:07.765Z"
   },
   {
    "duration": 11,
    "start_time": "2022-12-13T21:03:07.784Z"
   },
   {
    "duration": 88,
    "start_time": "2022-12-13T21:03:07.797Z"
   },
   {
    "duration": 8,
    "start_time": "2022-12-13T21:03:07.887Z"
   },
   {
    "duration": 12,
    "start_time": "2022-12-13T21:03:07.898Z"
   },
   {
    "duration": 101,
    "start_time": "2022-12-13T21:03:07.912Z"
   },
   {
    "duration": 106,
    "start_time": "2022-12-13T21:03:08.015Z"
   },
   {
    "duration": 6,
    "start_time": "2022-12-13T21:03:08.124Z"
   },
   {
    "duration": 32,
    "start_time": "2022-12-13T21:03:08.132Z"
   },
   {
    "duration": 13,
    "start_time": "2022-12-13T21:03:08.167Z"
   },
   {
    "duration": 21,
    "start_time": "2022-12-13T21:03:08.183Z"
   },
   {
    "duration": 11,
    "start_time": "2022-12-13T21:03:08.207Z"
   },
   {
    "duration": 42,
    "start_time": "2022-12-13T21:03:08.220Z"
   },
   {
    "duration": 26,
    "start_time": "2022-12-13T21:03:08.266Z"
   },
   {
    "duration": 67,
    "start_time": "2022-12-13T21:03:08.294Z"
   },
   {
    "duration": 43,
    "start_time": "2022-12-13T21:03:08.364Z"
   },
   {
    "duration": 5,
    "start_time": "2022-12-13T21:03:08.409Z"
   },
   {
    "duration": 233,
    "start_time": "2022-12-13T21:03:08.416Z"
   },
   {
    "duration": 19,
    "start_time": "2022-12-13T21:03:08.663Z"
   },
   {
    "duration": 294,
    "start_time": "2022-12-13T21:03:08.684Z"
   },
   {
    "duration": 330,
    "start_time": "2022-12-13T21:03:08.980Z"
   },
   {
    "duration": 10,
    "start_time": "2022-12-13T21:03:09.312Z"
   },
   {
    "duration": 37,
    "start_time": "2022-12-13T21:03:09.325Z"
   },
   {
    "duration": 8,
    "start_time": "2022-12-13T21:03:09.364Z"
   },
   {
    "duration": 11,
    "start_time": "2022-12-13T21:03:09.377Z"
   },
   {
    "duration": 19,
    "start_time": "2022-12-13T21:03:09.390Z"
   },
   {
    "duration": 222,
    "start_time": "2022-12-13T21:03:09.412Z"
   },
   {
    "duration": 65,
    "start_time": "2022-12-13T21:03:09.639Z"
   },
   {
    "duration": 11,
    "start_time": "2022-12-13T21:03:09.706Z"
   },
   {
    "duration": 83,
    "start_time": "2022-12-13T21:03:09.719Z"
   },
   {
    "duration": 80,
    "start_time": "2022-12-13T21:03:09.804Z"
   },
   {
    "duration": 45,
    "start_time": "2022-12-13T21:03:09.886Z"
   },
   {
    "duration": 4,
    "start_time": "2022-12-13T21:03:09.932Z"
   },
   {
    "duration": 26,
    "start_time": "2022-12-13T21:03:09.938Z"
   },
   {
    "duration": 18,
    "start_time": "2022-12-13T21:03:09.971Z"
   },
   {
    "duration": 22,
    "start_time": "2022-12-13T21:03:09.991Z"
   },
   {
    "duration": 8,
    "start_time": "2022-12-13T21:03:10.015Z"
   },
   {
    "duration": 10,
    "start_time": "2022-12-13T21:03:10.025Z"
   },
   {
    "duration": 5,
    "start_time": "2022-12-13T21:03:10.038Z"
   },
   {
    "duration": 6,
    "start_time": "2022-12-13T21:03:10.046Z"
   },
   {
    "duration": 17,
    "start_time": "2022-12-13T21:03:10.054Z"
   },
   {
    "duration": 8,
    "start_time": "2022-12-13T21:03:10.075Z"
   },
   {
    "duration": 9,
    "start_time": "2022-12-13T21:03:10.084Z"
   },
   {
    "duration": 12,
    "start_time": "2022-12-13T21:05:32.261Z"
   },
   {
    "duration": 8,
    "start_time": "2022-12-13T21:05:38.439Z"
   },
   {
    "duration": 21,
    "start_time": "2022-12-13T21:10:17.869Z"
   },
   {
    "duration": 8,
    "start_time": "2022-12-13T21:10:22.010Z"
   },
   {
    "duration": 5,
    "start_time": "2022-12-13T21:11:37.789Z"
   },
   {
    "duration": 16,
    "start_time": "2022-12-13T21:11:42.462Z"
   },
   {
    "duration": 823,
    "start_time": "2022-12-13T21:13:11.114Z"
   },
   {
    "duration": 14,
    "start_time": "2022-12-13T21:13:25.545Z"
   },
   {
    "duration": 722,
    "start_time": "2022-12-13T21:13:49.105Z"
   },
   {
    "duration": 378,
    "start_time": "2022-12-13T21:13:49.829Z"
   },
   {
    "duration": 54,
    "start_time": "2022-12-13T21:13:50.209Z"
   },
   {
    "duration": 18,
    "start_time": "2022-12-13T21:13:50.266Z"
   },
   {
    "duration": 27,
    "start_time": "2022-12-13T21:13:50.286Z"
   },
   {
    "duration": 24,
    "start_time": "2022-12-13T21:13:50.315Z"
   },
   {
    "duration": 27,
    "start_time": "2022-12-13T21:13:50.341Z"
   },
   {
    "duration": 51,
    "start_time": "2022-12-13T21:13:50.371Z"
   },
   {
    "duration": 17,
    "start_time": "2022-12-13T21:13:50.424Z"
   },
   {
    "duration": 8,
    "start_time": "2022-12-13T21:13:50.445Z"
   },
   {
    "duration": 57,
    "start_time": "2022-12-13T21:13:50.458Z"
   },
   {
    "duration": 4,
    "start_time": "2022-12-13T21:13:50.517Z"
   },
   {
    "duration": 43,
    "start_time": "2022-12-13T21:13:50.523Z"
   },
   {
    "duration": 21,
    "start_time": "2022-12-13T21:13:50.570Z"
   },
   {
    "duration": 11,
    "start_time": "2022-12-13T21:13:50.592Z"
   },
   {
    "duration": 81,
    "start_time": "2022-12-13T21:13:50.606Z"
   },
   {
    "duration": 7,
    "start_time": "2022-12-13T21:13:50.689Z"
   },
   {
    "duration": 13,
    "start_time": "2022-12-13T21:13:50.698Z"
   },
   {
    "duration": 95,
    "start_time": "2022-12-13T21:13:50.712Z"
   },
   {
    "duration": 98,
    "start_time": "2022-12-13T21:13:50.809Z"
   },
   {
    "duration": 6,
    "start_time": "2022-12-13T21:13:50.909Z"
   },
   {
    "duration": 17,
    "start_time": "2022-12-13T21:13:50.917Z"
   },
   {
    "duration": 6,
    "start_time": "2022-12-13T21:13:50.936Z"
   },
   {
    "duration": 21,
    "start_time": "2022-12-13T21:13:50.955Z"
   },
   {
    "duration": 22,
    "start_time": "2022-12-13T21:13:50.979Z"
   },
   {
    "duration": 23,
    "start_time": "2022-12-13T21:13:51.003Z"
   },
   {
    "duration": 15,
    "start_time": "2022-12-13T21:13:51.028Z"
   },
   {
    "duration": 49,
    "start_time": "2022-12-13T21:13:51.060Z"
   },
   {
    "duration": 70,
    "start_time": "2022-12-13T21:13:51.110Z"
   },
   {
    "duration": 6,
    "start_time": "2022-12-13T21:13:51.183Z"
   },
   {
    "duration": 221,
    "start_time": "2022-12-13T21:13:51.191Z"
   },
   {
    "duration": 9,
    "start_time": "2022-12-13T21:13:51.414Z"
   },
   {
    "duration": 222,
    "start_time": "2022-12-13T21:13:51.424Z"
   },
   {
    "duration": 308,
    "start_time": "2022-12-13T21:13:51.648Z"
   },
   {
    "duration": 20,
    "start_time": "2022-12-13T21:13:51.959Z"
   },
   {
    "duration": 13,
    "start_time": "2022-12-13T21:13:51.981Z"
   },
   {
    "duration": 7,
    "start_time": "2022-12-13T21:13:51.995Z"
   },
   {
    "duration": 13,
    "start_time": "2022-12-13T21:13:52.004Z"
   },
   {
    "duration": 50,
    "start_time": "2022-12-13T21:13:52.019Z"
   },
   {
    "duration": 221,
    "start_time": "2022-12-13T21:13:52.073Z"
   },
   {
    "duration": 40,
    "start_time": "2022-12-13T21:13:52.296Z"
   },
   {
    "duration": 37,
    "start_time": "2022-12-13T21:13:52.337Z"
   },
   {
    "duration": 42,
    "start_time": "2022-12-13T21:13:52.377Z"
   },
   {
    "duration": 73,
    "start_time": "2022-12-13T21:13:52.420Z"
   },
   {
    "duration": 38,
    "start_time": "2022-12-13T21:13:52.496Z"
   },
   {
    "duration": 4,
    "start_time": "2022-12-13T21:13:52.535Z"
   },
   {
    "duration": 6,
    "start_time": "2022-12-13T21:13:52.555Z"
   },
   {
    "duration": 16,
    "start_time": "2022-12-13T21:13:52.564Z"
   },
   {
    "duration": 9,
    "start_time": "2022-12-13T21:13:52.583Z"
   },
   {
    "duration": 13,
    "start_time": "2022-12-13T21:13:52.595Z"
   },
   {
    "duration": 8,
    "start_time": "2022-12-13T21:13:52.610Z"
   },
   {
    "duration": 299,
    "start_time": "2022-12-13T21:13:52.620Z"
   },
   {
    "duration": 10,
    "start_time": "2022-12-13T21:13:52.921Z"
   },
   {
    "duration": 746,
    "start_time": "2022-12-13T21:31:12.060Z"
   },
   {
    "duration": 261,
    "start_time": "2022-12-13T21:31:12.808Z"
   },
   {
    "duration": 49,
    "start_time": "2022-12-13T21:31:13.071Z"
   },
   {
    "duration": 37,
    "start_time": "2022-12-13T21:31:13.123Z"
   },
   {
    "duration": 20,
    "start_time": "2022-12-13T21:31:13.162Z"
   },
   {
    "duration": 12,
    "start_time": "2022-12-13T21:31:13.184Z"
   },
   {
    "duration": 10,
    "start_time": "2022-12-13T21:31:13.199Z"
   },
   {
    "duration": 36,
    "start_time": "2022-12-13T21:31:13.211Z"
   },
   {
    "duration": 25,
    "start_time": "2022-12-13T21:31:13.249Z"
   },
   {
    "duration": 11,
    "start_time": "2022-12-13T21:31:13.278Z"
   },
   {
    "duration": 40,
    "start_time": "2022-12-13T21:31:13.291Z"
   },
   {
    "duration": 23,
    "start_time": "2022-12-13T21:31:13.333Z"
   },
   {
    "duration": 38,
    "start_time": "2022-12-13T21:31:13.359Z"
   },
   {
    "duration": 13,
    "start_time": "2022-12-13T21:31:13.398Z"
   },
   {
    "duration": 11,
    "start_time": "2022-12-13T21:31:13.413Z"
   },
   {
    "duration": 93,
    "start_time": "2022-12-13T21:31:13.426Z"
   },
   {
    "duration": 7,
    "start_time": "2022-12-13T21:31:13.520Z"
   },
   {
    "duration": 27,
    "start_time": "2022-12-13T21:31:13.528Z"
   },
   {
    "duration": 78,
    "start_time": "2022-12-13T21:31:13.560Z"
   },
   {
    "duration": 131,
    "start_time": "2022-12-13T21:31:13.639Z"
   },
   {
    "duration": 10,
    "start_time": "2022-12-13T21:31:13.773Z"
   },
   {
    "duration": 21,
    "start_time": "2022-12-13T21:31:13.785Z"
   },
   {
    "duration": 6,
    "start_time": "2022-12-13T21:31:13.808Z"
   },
   {
    "duration": 42,
    "start_time": "2022-12-13T21:31:13.816Z"
   },
   {
    "duration": 16,
    "start_time": "2022-12-13T21:31:13.861Z"
   },
   {
    "duration": 13,
    "start_time": "2022-12-13T21:31:13.880Z"
   },
   {
    "duration": 12,
    "start_time": "2022-12-13T21:31:13.895Z"
   },
   {
    "duration": 63,
    "start_time": "2022-12-13T21:31:13.911Z"
   },
   {
    "duration": 44,
    "start_time": "2022-12-13T21:31:13.975Z"
   },
   {
    "duration": 5,
    "start_time": "2022-12-13T21:31:14.021Z"
   },
   {
    "duration": 238,
    "start_time": "2022-12-13T21:31:14.028Z"
   },
   {
    "duration": 16,
    "start_time": "2022-12-13T21:31:14.269Z"
   },
   {
    "duration": 249,
    "start_time": "2022-12-13T21:31:14.288Z"
   },
   {
    "duration": 374,
    "start_time": "2022-12-13T21:31:14.539Z"
   },
   {
    "duration": 14,
    "start_time": "2022-12-13T21:31:14.915Z"
   },
   {
    "duration": 44,
    "start_time": "2022-12-13T21:31:14.932Z"
   },
   {
    "duration": 9,
    "start_time": "2022-12-13T21:31:14.979Z"
   },
   {
    "duration": 9,
    "start_time": "2022-12-13T21:31:14.991Z"
   },
   {
    "duration": 32,
    "start_time": "2022-12-13T21:31:15.004Z"
   },
   {
    "duration": 210,
    "start_time": "2022-12-13T21:31:15.038Z"
   },
   {
    "duration": 61,
    "start_time": "2022-12-13T21:31:15.249Z"
   },
   {
    "duration": 12,
    "start_time": "2022-12-13T21:31:15.311Z"
   },
   {
    "duration": 79,
    "start_time": "2022-12-13T21:31:15.325Z"
   },
   {
    "duration": 64,
    "start_time": "2022-12-13T21:31:15.406Z"
   },
   {
    "duration": 39,
    "start_time": "2022-12-13T21:31:15.473Z"
   },
   {
    "duration": 4,
    "start_time": "2022-12-13T21:31:15.514Z"
   },
   {
    "duration": 7,
    "start_time": "2022-12-13T21:31:15.520Z"
   },
   {
    "duration": 26,
    "start_time": "2022-12-13T21:31:15.529Z"
   },
   {
    "duration": 9,
    "start_time": "2022-12-13T21:31:15.559Z"
   },
   {
    "duration": 26,
    "start_time": "2022-12-13T21:31:15.572Z"
   },
   {
    "duration": 7,
    "start_time": "2022-12-13T21:31:15.601Z"
   },
   {
    "duration": 288,
    "start_time": "2022-12-13T21:31:15.610Z"
   },
   {
    "duration": 14,
    "start_time": "2022-12-13T21:31:34.686Z"
   },
   {
    "duration": 64,
    "start_time": "2022-12-13T21:35:32.880Z"
   },
   {
    "duration": 95,
    "start_time": "2022-12-13T21:36:25.537Z"
   },
   {
    "duration": 64,
    "start_time": "2022-12-13T21:37:00.697Z"
   },
   {
    "duration": 11,
    "start_time": "2022-12-13T21:37:42.436Z"
   },
   {
    "duration": 16,
    "start_time": "2022-12-13T21:38:14.412Z"
   },
   {
    "duration": 58,
    "start_time": "2022-12-13T21:39:59.438Z"
   },
   {
    "duration": 612,
    "start_time": "2022-12-13T21:40:46.106Z"
   },
   {
    "duration": 255,
    "start_time": "2022-12-13T21:40:46.720Z"
   },
   {
    "duration": 43,
    "start_time": "2022-12-13T21:40:46.977Z"
   },
   {
    "duration": 12,
    "start_time": "2022-12-13T21:40:47.022Z"
   },
   {
    "duration": 16,
    "start_time": "2022-12-13T21:40:47.055Z"
   },
   {
    "duration": 12,
    "start_time": "2022-12-13T21:40:47.073Z"
   },
   {
    "duration": 11,
    "start_time": "2022-12-13T21:40:47.087Z"
   },
   {
    "duration": 33,
    "start_time": "2022-12-13T21:40:47.099Z"
   },
   {
    "duration": 13,
    "start_time": "2022-12-13T21:40:47.134Z"
   },
   {
    "duration": 9,
    "start_time": "2022-12-13T21:40:47.156Z"
   },
   {
    "duration": 38,
    "start_time": "2022-12-13T21:40:47.167Z"
   },
   {
    "duration": 5,
    "start_time": "2022-12-13T21:40:47.207Z"
   },
   {
    "duration": 46,
    "start_time": "2022-12-13T21:40:47.214Z"
   },
   {
    "duration": 13,
    "start_time": "2022-12-13T21:40:47.263Z"
   },
   {
    "duration": 10,
    "start_time": "2022-12-13T21:40:47.278Z"
   },
   {
    "duration": 67,
    "start_time": "2022-12-13T21:40:47.290Z"
   },
   {
    "duration": 6,
    "start_time": "2022-12-13T21:40:47.359Z"
   },
   {
    "duration": 9,
    "start_time": "2022-12-13T21:40:47.367Z"
   },
   {
    "duration": 61,
    "start_time": "2022-12-13T21:40:47.377Z"
   },
   {
    "duration": 79,
    "start_time": "2022-12-13T21:40:47.455Z"
   },
   {
    "duration": 20,
    "start_time": "2022-12-13T21:40:47.535Z"
   },
   {
    "duration": 10,
    "start_time": "2022-12-13T21:40:47.556Z"
   },
   {
    "duration": 7,
    "start_time": "2022-12-13T21:40:47.568Z"
   },
   {
    "duration": 16,
    "start_time": "2022-12-13T21:40:47.577Z"
   },
   {
    "duration": 9,
    "start_time": "2022-12-13T21:40:47.595Z"
   },
   {
    "duration": 16,
    "start_time": "2022-12-13T21:40:47.605Z"
   },
   {
    "duration": 34,
    "start_time": "2022-12-13T21:40:47.623Z"
   },
   {
    "duration": 39,
    "start_time": "2022-12-13T21:40:47.659Z"
   },
   {
    "duration": 34,
    "start_time": "2022-12-13T21:40:47.700Z"
   },
   {
    "duration": 20,
    "start_time": "2022-12-13T21:40:47.736Z"
   },
   {
    "duration": 183,
    "start_time": "2022-12-13T21:40:47.758Z"
   },
   {
    "duration": 14,
    "start_time": "2022-12-13T21:40:47.942Z"
   },
   {
    "duration": 199,
    "start_time": "2022-12-13T21:40:47.959Z"
   },
   {
    "duration": 259,
    "start_time": "2022-12-13T21:40:48.160Z"
   },
   {
    "duration": 10,
    "start_time": "2022-12-13T21:40:48.421Z"
   },
   {
    "duration": 29,
    "start_time": "2022-12-13T21:40:48.433Z"
   },
   {
    "duration": 6,
    "start_time": "2022-12-13T21:40:48.464Z"
   },
   {
    "duration": 8,
    "start_time": "2022-12-13T21:40:48.471Z"
   },
   {
    "duration": 12,
    "start_time": "2022-12-13T21:40:48.480Z"
   },
   {
    "duration": 195,
    "start_time": "2022-12-13T21:40:48.494Z"
   },
   {
    "duration": 40,
    "start_time": "2022-12-13T21:40:48.693Z"
   },
   {
    "duration": 29,
    "start_time": "2022-12-13T21:40:48.735Z"
   },
   {
    "duration": 45,
    "start_time": "2022-12-13T21:40:48.766Z"
   },
   {
    "duration": 61,
    "start_time": "2022-12-13T21:40:48.813Z"
   },
   {
    "duration": 36,
    "start_time": "2022-12-13T21:40:48.876Z"
   },
   {
    "duration": 4,
    "start_time": "2022-12-13T21:40:48.914Z"
   },
   {
    "duration": 9,
    "start_time": "2022-12-13T21:40:48.919Z"
   },
   {
    "duration": 29,
    "start_time": "2022-12-13T21:40:48.931Z"
   },
   {
    "duration": 13,
    "start_time": "2022-12-13T21:40:48.962Z"
   },
   {
    "duration": 12,
    "start_time": "2022-12-13T21:40:48.977Z"
   },
   {
    "duration": 7,
    "start_time": "2022-12-13T21:40:48.991Z"
   },
   {
    "duration": 282,
    "start_time": "2022-12-13T21:40:49.000Z"
   },
   {
    "duration": 52,
    "start_time": "2022-12-13T21:40:49.284Z"
   },
   {
    "duration": 24,
    "start_time": "2022-12-13T21:40:49.338Z"
   },
   {
    "duration": 48,
    "start_time": "2022-12-13T21:40:49.363Z"
   },
   {
    "duration": 47,
    "start_time": "2022-12-13T23:44:20.606Z"
   },
   {
    "duration": 822,
    "start_time": "2022-12-13T23:44:25.898Z"
   },
   {
    "duration": 322,
    "start_time": "2022-12-13T23:44:26.722Z"
   },
   {
    "duration": 36,
    "start_time": "2022-12-13T23:44:27.046Z"
   },
   {
    "duration": 11,
    "start_time": "2022-12-13T23:44:27.084Z"
   },
   {
    "duration": 61,
    "start_time": "2022-12-13T23:44:27.096Z"
   },
   {
    "duration": 10,
    "start_time": "2022-12-13T23:44:27.158Z"
   },
   {
    "duration": 22,
    "start_time": "2022-12-13T23:44:27.170Z"
   },
   {
    "duration": 85,
    "start_time": "2022-12-13T23:44:27.194Z"
   },
   {
    "duration": 10,
    "start_time": "2022-12-13T23:44:27.281Z"
   },
   {
    "duration": 10,
    "start_time": "2022-12-13T23:44:27.294Z"
   },
   {
    "duration": 33,
    "start_time": "2022-12-13T23:44:27.306Z"
   },
   {
    "duration": 4,
    "start_time": "2022-12-13T23:44:27.341Z"
   },
   {
    "duration": 27,
    "start_time": "2022-12-13T23:44:27.347Z"
   },
   {
    "duration": 11,
    "start_time": "2022-12-13T23:44:27.376Z"
   },
   {
    "duration": 9,
    "start_time": "2022-12-13T23:44:27.388Z"
   },
   {
    "duration": 52,
    "start_time": "2022-12-13T23:44:27.399Z"
   },
   {
    "duration": 6,
    "start_time": "2022-12-13T23:44:27.453Z"
   },
   {
    "duration": 8,
    "start_time": "2022-12-13T23:44:27.460Z"
   },
   {
    "duration": 78,
    "start_time": "2022-12-13T23:44:27.469Z"
   },
   {
    "duration": 77,
    "start_time": "2022-12-13T23:44:27.549Z"
   },
   {
    "duration": 5,
    "start_time": "2022-12-13T23:44:27.628Z"
   },
   {
    "duration": 13,
    "start_time": "2022-12-13T23:44:27.634Z"
   },
   {
    "duration": 4,
    "start_time": "2022-12-13T23:44:27.648Z"
   },
   {
    "duration": 15,
    "start_time": "2022-12-13T23:44:27.653Z"
   },
   {
    "duration": 13,
    "start_time": "2022-12-13T23:44:27.669Z"
   },
   {
    "duration": 33,
    "start_time": "2022-12-13T23:44:27.683Z"
   },
   {
    "duration": 7,
    "start_time": "2022-12-13T23:44:27.718Z"
   },
   {
    "duration": 32,
    "start_time": "2022-12-13T23:44:27.729Z"
   },
   {
    "duration": 32,
    "start_time": "2022-12-13T23:44:27.763Z"
   },
   {
    "duration": 4,
    "start_time": "2022-12-13T23:44:27.816Z"
   },
   {
    "duration": 157,
    "start_time": "2022-12-13T23:44:27.822Z"
   },
   {
    "duration": 8,
    "start_time": "2022-12-13T23:44:27.981Z"
   },
   {
    "duration": 197,
    "start_time": "2022-12-13T23:44:27.990Z"
   },
   {
    "duration": 238,
    "start_time": "2022-12-13T23:44:28.189Z"
   },
   {
    "duration": 9,
    "start_time": "2022-12-13T23:44:28.429Z"
   },
   {
    "duration": 10,
    "start_time": "2022-12-13T23:44:28.440Z"
   },
   {
    "duration": 5,
    "start_time": "2022-12-13T23:44:28.452Z"
   },
   {
    "duration": 7,
    "start_time": "2022-12-13T23:44:28.458Z"
   },
   {
    "duration": 11,
    "start_time": "2022-12-13T23:44:28.466Z"
   },
   {
    "duration": 195,
    "start_time": "2022-12-13T23:44:28.478Z"
   },
   {
    "duration": 40,
    "start_time": "2022-12-13T23:44:28.675Z"
   },
   {
    "duration": 10,
    "start_time": "2022-12-13T23:44:28.717Z"
   },
   {
    "duration": 40,
    "start_time": "2022-12-13T23:44:28.728Z"
   },
   {
    "duration": 58,
    "start_time": "2022-12-13T23:44:28.770Z"
   },
   {
    "duration": 32,
    "start_time": "2022-12-13T23:44:28.830Z"
   },
   {
    "duration": 3,
    "start_time": "2022-12-13T23:44:28.864Z"
   },
   {
    "duration": 6,
    "start_time": "2022-12-13T23:44:28.868Z"
   },
   {
    "duration": 8,
    "start_time": "2022-12-13T23:44:28.876Z"
   },
   {
    "duration": 10,
    "start_time": "2022-12-13T23:44:28.886Z"
   },
   {
    "duration": 22,
    "start_time": "2022-12-13T23:44:28.897Z"
   },
   {
    "duration": 6,
    "start_time": "2022-12-13T23:44:28.921Z"
   },
   {
    "duration": 223,
    "start_time": "2022-12-13T23:44:28.928Z"
   },
   {
    "duration": 48,
    "start_time": "2022-12-13T23:44:29.153Z"
   },
   {
    "duration": 19,
    "start_time": "2022-12-13T23:44:29.203Z"
   },
   {
    "duration": 47,
    "start_time": "2022-12-13T23:44:29.224Z"
   },
   {
    "duration": 61,
    "start_time": "2022-12-13T23:44:29.273Z"
   },
   {
    "duration": 36,
    "start_time": "2022-12-13T23:45:30.776Z"
   },
   {
    "duration": 62,
    "start_time": "2022-12-13T23:45:58.739Z"
   },
   {
    "duration": 31,
    "start_time": "2022-12-13T23:46:09.713Z"
   },
   {
    "duration": 613,
    "start_time": "2022-12-13T23:47:17.521Z"
   },
   {
    "duration": 226,
    "start_time": "2022-12-13T23:47:18.136Z"
   },
   {
    "duration": 34,
    "start_time": "2022-12-13T23:47:18.363Z"
   },
   {
    "duration": 20,
    "start_time": "2022-12-13T23:47:18.399Z"
   },
   {
    "duration": 16,
    "start_time": "2022-12-13T23:47:18.420Z"
   },
   {
    "duration": 9,
    "start_time": "2022-12-13T23:47:18.438Z"
   },
   {
    "duration": 10,
    "start_time": "2022-12-13T23:47:18.448Z"
   },
   {
    "duration": 30,
    "start_time": "2022-12-13T23:47:18.460Z"
   },
   {
    "duration": 10,
    "start_time": "2022-12-13T23:47:18.492Z"
   },
   {
    "duration": 12,
    "start_time": "2022-12-13T23:47:18.504Z"
   },
   {
    "duration": 32,
    "start_time": "2022-12-13T23:47:18.518Z"
   },
   {
    "duration": 4,
    "start_time": "2022-12-13T23:47:18.551Z"
   },
   {
    "duration": 29,
    "start_time": "2022-12-13T23:47:18.556Z"
   },
   {
    "duration": 11,
    "start_time": "2022-12-13T23:47:18.586Z"
   },
   {
    "duration": 9,
    "start_time": "2022-12-13T23:47:18.615Z"
   },
   {
    "duration": 48,
    "start_time": "2022-12-13T23:47:18.626Z"
   },
   {
    "duration": 5,
    "start_time": "2022-12-13T23:47:18.676Z"
   },
   {
    "duration": 8,
    "start_time": "2022-12-13T23:47:18.683Z"
   },
   {
    "duration": 74,
    "start_time": "2022-12-13T23:47:18.693Z"
   },
   {
    "duration": 74,
    "start_time": "2022-12-13T23:47:18.769Z"
   },
   {
    "duration": 6,
    "start_time": "2022-12-13T23:47:18.845Z"
   },
   {
    "duration": 13,
    "start_time": "2022-12-13T23:47:18.852Z"
   },
   {
    "duration": 4,
    "start_time": "2022-12-13T23:47:18.867Z"
   },
   {
    "duration": 14,
    "start_time": "2022-12-13T23:47:18.873Z"
   },
   {
    "duration": 30,
    "start_time": "2022-12-13T23:47:18.888Z"
   },
   {
    "duration": 11,
    "start_time": "2022-12-13T23:47:18.919Z"
   },
   {
    "duration": 9,
    "start_time": "2022-12-13T23:47:18.931Z"
   },
   {
    "duration": 31,
    "start_time": "2022-12-13T23:47:18.944Z"
   },
   {
    "duration": 54,
    "start_time": "2022-12-13T23:47:18.976Z"
   },
   {
    "duration": 5,
    "start_time": "2022-12-13T23:47:19.031Z"
   },
   {
    "duration": 164,
    "start_time": "2022-12-13T23:47:19.037Z"
   },
   {
    "duration": 16,
    "start_time": "2022-12-13T23:47:19.203Z"
   },
   {
    "duration": 175,
    "start_time": "2022-12-13T23:47:19.220Z"
   },
   {
    "duration": 231,
    "start_time": "2022-12-13T23:47:19.396Z"
   },
   {
    "duration": 8,
    "start_time": "2022-12-13T23:47:19.628Z"
   },
   {
    "duration": 10,
    "start_time": "2022-12-13T23:47:19.638Z"
   },
   {
    "duration": 5,
    "start_time": "2022-12-13T23:47:19.649Z"
   },
   {
    "duration": 9,
    "start_time": "2022-12-13T23:47:19.655Z"
   },
   {
    "duration": 11,
    "start_time": "2022-12-13T23:47:19.666Z"
   },
   {
    "duration": 178,
    "start_time": "2022-12-13T23:47:19.679Z"
   },
   {
    "duration": 38,
    "start_time": "2022-12-13T23:47:19.858Z"
   },
   {
    "duration": 25,
    "start_time": "2022-12-13T23:47:19.897Z"
   },
   {
    "duration": 41,
    "start_time": "2022-12-13T23:47:19.924Z"
   },
   {
    "duration": 51,
    "start_time": "2022-12-13T23:47:19.967Z"
   },
   {
    "duration": 35,
    "start_time": "2022-12-13T23:47:20.020Z"
   },
   {
    "duration": 4,
    "start_time": "2022-12-13T23:47:20.057Z"
   },
   {
    "duration": 9,
    "start_time": "2022-12-13T23:47:20.062Z"
   },
   {
    "duration": 8,
    "start_time": "2022-12-13T23:47:20.072Z"
   },
   {
    "duration": 7,
    "start_time": "2022-12-13T23:47:20.082Z"
   },
   {
    "duration": 24,
    "start_time": "2022-12-13T23:47:20.091Z"
   },
   {
    "duration": 3,
    "start_time": "2022-12-13T23:47:20.117Z"
   },
   {
    "duration": 208,
    "start_time": "2022-12-13T23:47:20.122Z"
   },
   {
    "duration": 51,
    "start_time": "2022-12-13T23:47:20.332Z"
   },
   {
    "duration": 8,
    "start_time": "2022-12-13T23:47:20.385Z"
   },
   {
    "duration": 64,
    "start_time": "2022-12-13T23:47:20.395Z"
   },
   {
    "duration": 39,
    "start_time": "2022-12-13T23:47:20.461Z"
   },
   {
    "duration": 45,
    "start_time": "2022-12-13T23:47:20.501Z"
   },
   {
    "duration": 69,
    "start_time": "2022-12-13T23:47:20.547Z"
   },
   {
    "duration": 31,
    "start_time": "2022-12-13T23:47:20.618Z"
   },
   {
    "duration": 49,
    "start_time": "2022-12-13T23:47:57.064Z"
   },
   {
    "duration": 45,
    "start_time": "2022-12-13T23:48:16.560Z"
   },
   {
    "duration": 102,
    "start_time": "2022-12-13T23:48:37.783Z"
   },
   {
    "duration": 61,
    "start_time": "2022-12-13T23:48:51.038Z"
   },
   {
    "duration": 34,
    "start_time": "2022-12-13T23:49:07.899Z"
   },
   {
    "duration": 24,
    "start_time": "2022-12-13T23:54:22.464Z"
   },
   {
    "duration": 20,
    "start_time": "2022-12-13T23:54:42.288Z"
   },
   {
    "duration": 73,
    "start_time": "2022-12-13T23:56:42.045Z"
   },
   {
    "duration": 74,
    "start_time": "2022-12-13T23:56:56.603Z"
   },
   {
    "duration": 65,
    "start_time": "2022-12-13T23:57:06.076Z"
   },
   {
    "duration": 48,
    "start_time": "2022-12-13T23:57:30.090Z"
   },
   {
    "duration": 74,
    "start_time": "2022-12-13T23:58:38.789Z"
   },
   {
    "duration": 48,
    "start_time": "2022-12-13T23:59:03.224Z"
   },
   {
    "duration": 68,
    "start_time": "2022-12-14T00:00:30.997Z"
   },
   {
    "duration": 20,
    "start_time": "2022-12-14T00:02:18.343Z"
   },
   {
    "duration": 64,
    "start_time": "2022-12-14T00:03:00.079Z"
   },
   {
    "duration": 18,
    "start_time": "2022-12-14T00:04:09.119Z"
   },
   {
    "duration": 7,
    "start_time": "2022-12-14T00:04:14.674Z"
   },
   {
    "duration": 47,
    "start_time": "2022-12-14T00:05:15.365Z"
   },
   {
    "duration": 7,
    "start_time": "2022-12-14T00:05:19.687Z"
   },
   {
    "duration": 153,
    "start_time": "2022-12-14T00:06:16.464Z"
   },
   {
    "duration": 46,
    "start_time": "2022-12-14T00:06:55.204Z"
   },
   {
    "duration": 7,
    "start_time": "2022-12-14T00:07:01.623Z"
   },
   {
    "duration": 43,
    "start_time": "2022-12-14T16:02:55.401Z"
   },
   {
    "duration": 785,
    "start_time": "2022-12-14T16:03:00.934Z"
   },
   {
    "duration": 2600,
    "start_time": "2022-12-14T16:03:01.721Z"
   },
   {
    "duration": 32,
    "start_time": "2022-12-14T16:03:04.323Z"
   },
   {
    "duration": 33,
    "start_time": "2022-12-14T16:03:04.356Z"
   },
   {
    "duration": 173,
    "start_time": "2022-12-14T16:03:04.391Z"
   },
   {
    "duration": 9,
    "start_time": "2022-12-14T16:03:04.565Z"
   },
   {
    "duration": 29,
    "start_time": "2022-12-14T16:03:04.576Z"
   },
   {
    "duration": 224,
    "start_time": "2022-12-14T16:03:04.606Z"
   },
   {
    "duration": 10,
    "start_time": "2022-12-14T16:03:04.832Z"
   },
   {
    "duration": 34,
    "start_time": "2022-12-14T16:03:04.844Z"
   },
   {
    "duration": 68,
    "start_time": "2022-12-14T16:03:04.879Z"
   },
   {
    "duration": 25,
    "start_time": "2022-12-14T16:03:04.949Z"
   },
   {
    "duration": 50,
    "start_time": "2022-12-14T16:03:04.976Z"
   },
   {
    "duration": 44,
    "start_time": "2022-12-14T16:03:05.030Z"
   },
   {
    "duration": 54,
    "start_time": "2022-12-14T16:03:05.076Z"
   },
   {
    "duration": 67,
    "start_time": "2022-12-14T16:03:05.132Z"
   },
   {
    "duration": 9,
    "start_time": "2022-12-14T16:03:05.201Z"
   },
   {
    "duration": 52,
    "start_time": "2022-12-14T16:03:05.211Z"
   },
   {
    "duration": 91,
    "start_time": "2022-12-14T16:03:05.264Z"
   },
   {
    "duration": 63,
    "start_time": "2022-12-14T16:03:05.356Z"
   },
   {
    "duration": 6,
    "start_time": "2022-12-14T16:03:05.426Z"
   },
   {
    "duration": 38,
    "start_time": "2022-12-14T16:03:05.434Z"
   },
   {
    "duration": 56,
    "start_time": "2022-12-14T16:03:05.474Z"
   },
   {
    "duration": 40,
    "start_time": "2022-12-14T16:03:05.533Z"
   },
   {
    "duration": 76,
    "start_time": "2022-12-14T16:03:05.575Z"
   },
   {
    "duration": 48,
    "start_time": "2022-12-14T16:03:05.653Z"
   },
   {
    "duration": 47,
    "start_time": "2022-12-14T16:03:05.702Z"
   },
   {
    "duration": 66,
    "start_time": "2022-12-14T16:03:05.750Z"
   },
   {
    "duration": 41,
    "start_time": "2022-12-14T16:03:05.819Z"
   },
   {
    "duration": 43,
    "start_time": "2022-12-14T16:03:05.861Z"
   },
   {
    "duration": 165,
    "start_time": "2022-12-14T16:03:05.906Z"
   },
   {
    "duration": 8,
    "start_time": "2022-12-14T16:03:06.072Z"
   },
   {
    "duration": 195,
    "start_time": "2022-12-14T16:03:06.082Z"
   },
   {
    "duration": 221,
    "start_time": "2022-12-14T16:03:06.279Z"
   },
   {
    "duration": 8,
    "start_time": "2022-12-14T16:03:06.502Z"
   },
   {
    "duration": 41,
    "start_time": "2022-12-14T16:03:06.511Z"
   },
   {
    "duration": 43,
    "start_time": "2022-12-14T16:03:06.554Z"
   },
   {
    "duration": 47,
    "start_time": "2022-12-14T16:03:06.599Z"
   },
   {
    "duration": 30,
    "start_time": "2022-12-14T16:03:06.647Z"
   },
   {
    "duration": 179,
    "start_time": "2022-12-14T16:03:06.678Z"
   },
   {
    "duration": 35,
    "start_time": "2022-12-14T16:03:06.861Z"
   },
   {
    "duration": 16,
    "start_time": "2022-12-14T16:03:06.898Z"
   },
   {
    "duration": 65,
    "start_time": "2022-12-14T16:03:06.916Z"
   },
   {
    "duration": 39,
    "start_time": "2022-12-14T16:03:06.983Z"
   },
   {
    "duration": 41,
    "start_time": "2022-12-14T16:03:07.024Z"
   },
   {
    "duration": 17,
    "start_time": "2022-12-14T16:03:07.066Z"
   },
   {
    "duration": 39,
    "start_time": "2022-12-14T16:03:07.085Z"
   },
   {
    "duration": 43,
    "start_time": "2022-12-14T16:03:07.126Z"
   },
   {
    "duration": 48,
    "start_time": "2022-12-14T16:03:07.170Z"
   },
   {
    "duration": 25,
    "start_time": "2022-12-14T16:03:07.220Z"
   },
   {
    "duration": 47,
    "start_time": "2022-12-14T16:03:07.247Z"
   },
   {
    "duration": 235,
    "start_time": "2022-12-14T16:03:07.296Z"
   },
   {
    "duration": 17,
    "start_time": "2022-12-14T16:03:07.532Z"
   },
   {
    "duration": 77,
    "start_time": "2022-12-14T16:03:07.551Z"
   },
   {
    "duration": 7,
    "start_time": "2022-12-14T16:03:07.629Z"
   },
   {
    "duration": 156,
    "start_time": "2022-12-14T16:03:07.637Z"
   },
   {
    "duration": 11,
    "start_time": "2022-12-14T16:03:07.794Z"
   },
   {
    "duration": 9,
    "start_time": "2022-12-14T16:03:20.178Z"
   },
   {
    "duration": 11,
    "start_time": "2022-12-14T16:03:45.069Z"
   },
   {
    "duration": 13,
    "start_time": "2022-12-14T16:03:45.555Z"
   },
   {
    "duration": 24,
    "start_time": "2022-12-14T16:05:22.896Z"
   },
   {
    "duration": 72,
    "start_time": "2022-12-14T16:08:19.103Z"
   },
   {
    "duration": 106,
    "start_time": "2022-12-14T16:09:00.924Z"
   },
   {
    "duration": 18,
    "start_time": "2022-12-14T16:09:23.998Z"
   },
   {
    "duration": 103,
    "start_time": "2022-12-14T16:12:52.978Z"
   },
   {
    "duration": 97,
    "start_time": "2022-12-14T16:21:00.185Z"
   },
   {
    "duration": 7,
    "start_time": "2022-12-14T16:21:10.158Z"
   },
   {
    "duration": 107,
    "start_time": "2022-12-14T16:25:20.125Z"
   },
   {
    "duration": 10,
    "start_time": "2022-12-14T16:25:26.481Z"
   },
   {
    "duration": 9,
    "start_time": "2022-12-14T16:26:00.624Z"
   },
   {
    "duration": 21,
    "start_time": "2022-12-14T16:26:55.290Z"
   },
   {
    "duration": 11,
    "start_time": "2022-12-14T16:27:16.190Z"
   },
   {
    "duration": 4,
    "start_time": "2022-12-14T17:00:33.916Z"
   },
   {
    "duration": 13,
    "start_time": "2022-12-14T17:00:38.722Z"
   },
   {
    "duration": 12,
    "start_time": "2022-12-14T17:01:01.402Z"
   },
   {
    "duration": 5,
    "start_time": "2022-12-14T17:01:56.141Z"
   },
   {
    "duration": 13,
    "start_time": "2022-12-14T17:01:59.904Z"
   },
   {
    "duration": 13,
    "start_time": "2022-12-14T17:02:06.250Z"
   },
   {
    "duration": 29,
    "start_time": "2022-12-14T17:03:09.666Z"
   },
   {
    "duration": 11,
    "start_time": "2022-12-14T17:03:10.331Z"
   },
   {
    "duration": 4,
    "start_time": "2022-12-14T17:05:36.996Z"
   },
   {
    "duration": 13,
    "start_time": "2022-12-14T17:08:10.079Z"
   },
   {
    "duration": 23,
    "start_time": "2022-12-14T17:10:00.231Z"
   },
   {
    "duration": 11,
    "start_time": "2022-12-14T17:10:25.977Z"
   },
   {
    "duration": 9,
    "start_time": "2022-12-14T17:10:35.711Z"
   },
   {
    "duration": 9,
    "start_time": "2022-12-14T17:10:42.649Z"
   },
   {
    "duration": 13,
    "start_time": "2022-12-14T17:11:00.384Z"
   },
   {
    "duration": 11,
    "start_time": "2022-12-14T17:11:12.726Z"
   },
   {
    "duration": 83,
    "start_time": "2022-12-14T17:13:45.730Z"
   },
   {
    "duration": 392,
    "start_time": "2022-12-14T17:14:12.921Z"
   },
   {
    "duration": 12,
    "start_time": "2022-12-14T17:14:18.084Z"
   },
   {
    "duration": 9,
    "start_time": "2022-12-14T17:15:44.736Z"
   },
   {
    "duration": 1120,
    "start_time": "2022-12-14T17:38:29.965Z"
   },
   {
    "duration": 254,
    "start_time": "2022-12-14T17:38:31.086Z"
   },
   {
    "duration": 32,
    "start_time": "2022-12-14T17:38:31.343Z"
   },
   {
    "duration": 21,
    "start_time": "2022-12-14T17:38:31.377Z"
   },
   {
    "duration": 58,
    "start_time": "2022-12-14T17:38:31.400Z"
   },
   {
    "duration": 17,
    "start_time": "2022-12-14T17:38:31.460Z"
   },
   {
    "duration": 27,
    "start_time": "2022-12-14T17:38:31.479Z"
   },
   {
    "duration": 76,
    "start_time": "2022-12-14T17:38:31.508Z"
   },
   {
    "duration": 14,
    "start_time": "2022-12-14T17:38:31.586Z"
   },
   {
    "duration": 52,
    "start_time": "2022-12-14T17:38:31.603Z"
   },
   {
    "duration": 57,
    "start_time": "2022-12-14T17:38:31.657Z"
   },
   {
    "duration": 34,
    "start_time": "2022-12-14T17:38:31.716Z"
   },
   {
    "duration": 42,
    "start_time": "2022-12-14T17:38:31.752Z"
   },
   {
    "duration": 30,
    "start_time": "2022-12-14T17:38:31.796Z"
   },
   {
    "duration": 33,
    "start_time": "2022-12-14T17:38:31.828Z"
   },
   {
    "duration": 45,
    "start_time": "2022-12-14T17:38:31.863Z"
   },
   {
    "duration": 6,
    "start_time": "2022-12-14T17:38:31.909Z"
   },
   {
    "duration": 49,
    "start_time": "2022-12-14T17:38:31.917Z"
   },
   {
    "duration": 73,
    "start_time": "2022-12-14T17:38:31.968Z"
   },
   {
    "duration": 84,
    "start_time": "2022-12-14T17:38:32.043Z"
   },
   {
    "duration": 6,
    "start_time": "2022-12-14T17:38:32.129Z"
   },
   {
    "duration": 55,
    "start_time": "2022-12-14T17:38:32.136Z"
   },
   {
    "duration": 29,
    "start_time": "2022-12-14T17:38:32.193Z"
   },
   {
    "duration": 43,
    "start_time": "2022-12-14T17:38:32.223Z"
   },
   {
    "duration": 14,
    "start_time": "2022-12-14T17:38:32.268Z"
   },
   {
    "duration": 39,
    "start_time": "2022-12-14T17:38:32.284Z"
   },
   {
    "duration": 25,
    "start_time": "2022-12-14T17:38:32.325Z"
   },
   {
    "duration": 52,
    "start_time": "2022-12-14T17:38:32.354Z"
   },
   {
    "duration": 39,
    "start_time": "2022-12-14T17:38:32.408Z"
   },
   {
    "duration": 4,
    "start_time": "2022-12-14T17:38:32.449Z"
   },
   {
    "duration": 179,
    "start_time": "2022-12-14T17:38:32.455Z"
   },
   {
    "duration": 10,
    "start_time": "2022-12-14T17:38:32.636Z"
   },
   {
    "duration": 214,
    "start_time": "2022-12-14T17:38:32.648Z"
   },
   {
    "duration": 245,
    "start_time": "2022-12-14T17:38:32.864Z"
   },
   {
    "duration": 15,
    "start_time": "2022-12-14T17:38:33.111Z"
   },
   {
    "duration": 44,
    "start_time": "2022-12-14T17:38:33.128Z"
   },
   {
    "duration": 13,
    "start_time": "2022-12-14T17:38:33.174Z"
   },
   {
    "duration": 26,
    "start_time": "2022-12-14T17:38:33.189Z"
   },
   {
    "duration": 41,
    "start_time": "2022-12-14T17:38:33.217Z"
   },
   {
    "duration": 169,
    "start_time": "2022-12-14T17:38:33.260Z"
   },
   {
    "duration": 42,
    "start_time": "2022-12-14T17:38:33.431Z"
   },
   {
    "duration": 20,
    "start_time": "2022-12-14T17:38:33.475Z"
   },
   {
    "duration": 63,
    "start_time": "2022-12-14T17:38:33.497Z"
   },
   {
    "duration": 39,
    "start_time": "2022-12-14T17:38:33.562Z"
   },
   {
    "duration": 49,
    "start_time": "2022-12-14T17:38:33.602Z"
   },
   {
    "duration": 3,
    "start_time": "2022-12-14T17:38:33.653Z"
   },
   {
    "duration": 7,
    "start_time": "2022-12-14T17:38:33.657Z"
   },
   {
    "duration": 11,
    "start_time": "2022-12-14T17:38:33.665Z"
   },
   {
    "duration": 8,
    "start_time": "2022-12-14T17:38:33.677Z"
   },
   {
    "duration": 11,
    "start_time": "2022-12-14T17:38:33.686Z"
   },
   {
    "duration": 4,
    "start_time": "2022-12-14T17:38:33.699Z"
   },
   {
    "duration": 192,
    "start_time": "2022-12-14T17:38:33.705Z"
   },
   {
    "duration": 29,
    "start_time": "2022-12-14T17:38:33.899Z"
   },
   {
    "duration": 55,
    "start_time": "2022-12-14T17:38:33.930Z"
   },
   {
    "duration": 7,
    "start_time": "2022-12-14T17:38:33.986Z"
   },
   {
    "duration": 185,
    "start_time": "2022-12-14T17:38:33.994Z"
   },
   {
    "duration": 16,
    "start_time": "2022-12-14T17:38:34.181Z"
   },
   {
    "duration": 11,
    "start_time": "2022-12-14T17:38:34.199Z"
   },
   {
    "duration": 129,
    "start_time": "2022-12-14T17:38:34.211Z"
   },
   {
    "duration": 124,
    "start_time": "2022-12-14T17:38:34.342Z"
   },
   {
    "duration": 11,
    "start_time": "2022-12-14T17:38:34.467Z"
   },
   {
    "duration": 7,
    "start_time": "2022-12-14T17:38:34.480Z"
   },
   {
    "duration": 10,
    "start_time": "2022-12-14T17:38:34.488Z"
   },
   {
    "duration": 29,
    "start_time": "2022-12-14T17:38:34.499Z"
   },
   {
    "duration": 15,
    "start_time": "2022-12-14T17:38:34.531Z"
   },
   {
    "duration": 18,
    "start_time": "2022-12-14T17:38:34.548Z"
   },
   {
    "duration": 11,
    "start_time": "2022-12-14T17:38:34.567Z"
   },
   {
    "duration": 1186,
    "start_time": "2022-12-14T18:11:10.997Z"
   },
   {
    "duration": 217,
    "start_time": "2022-12-14T18:11:12.185Z"
   },
   {
    "duration": 34,
    "start_time": "2022-12-14T18:11:12.404Z"
   },
   {
    "duration": 28,
    "start_time": "2022-12-14T18:11:12.440Z"
   },
   {
    "duration": 45,
    "start_time": "2022-12-14T18:11:12.470Z"
   },
   {
    "duration": 23,
    "start_time": "2022-12-14T18:11:12.517Z"
   },
   {
    "duration": 35,
    "start_time": "2022-12-14T18:11:12.541Z"
   },
   {
    "duration": 54,
    "start_time": "2022-12-14T18:11:12.578Z"
   },
   {
    "duration": 10,
    "start_time": "2022-12-14T18:11:12.634Z"
   },
   {
    "duration": 15,
    "start_time": "2022-12-14T18:11:12.647Z"
   },
   {
    "duration": 44,
    "start_time": "2022-12-14T18:11:12.663Z"
   },
   {
    "duration": 19,
    "start_time": "2022-12-14T18:11:12.709Z"
   },
   {
    "duration": 40,
    "start_time": "2022-12-14T18:11:12.730Z"
   },
   {
    "duration": 22,
    "start_time": "2022-12-14T18:11:12.772Z"
   },
   {
    "duration": 27,
    "start_time": "2022-12-14T18:11:12.796Z"
   },
   {
    "duration": 68,
    "start_time": "2022-12-14T18:11:12.825Z"
   },
   {
    "duration": 5,
    "start_time": "2022-12-14T18:11:12.895Z"
   },
   {
    "duration": 18,
    "start_time": "2022-12-14T18:11:12.902Z"
   },
   {
    "duration": 73,
    "start_time": "2022-12-14T18:11:12.922Z"
   },
   {
    "duration": 68,
    "start_time": "2022-12-14T18:11:12.997Z"
   },
   {
    "duration": 6,
    "start_time": "2022-12-14T18:11:13.067Z"
   },
   {
    "duration": 37,
    "start_time": "2022-12-14T18:11:13.074Z"
   },
   {
    "duration": 12,
    "start_time": "2022-12-14T18:11:13.113Z"
   },
   {
    "duration": 36,
    "start_time": "2022-12-14T18:11:13.126Z"
   },
   {
    "duration": 20,
    "start_time": "2022-12-14T18:11:13.163Z"
   },
   {
    "duration": 29,
    "start_time": "2022-12-14T18:11:13.185Z"
   },
   {
    "duration": 27,
    "start_time": "2022-12-14T18:11:13.216Z"
   },
   {
    "duration": 43,
    "start_time": "2022-12-14T18:11:13.247Z"
   },
   {
    "duration": 31,
    "start_time": "2022-12-14T18:11:13.292Z"
   },
   {
    "duration": 4,
    "start_time": "2022-12-14T18:11:13.324Z"
   },
   {
    "duration": 165,
    "start_time": "2022-12-14T18:11:13.330Z"
   },
   {
    "duration": 8,
    "start_time": "2022-12-14T18:11:13.497Z"
   },
   {
    "duration": 216,
    "start_time": "2022-12-14T18:11:13.506Z"
   },
   {
    "duration": 260,
    "start_time": "2022-12-14T18:11:13.724Z"
   },
   {
    "duration": 9,
    "start_time": "2022-12-14T18:11:13.986Z"
   },
   {
    "duration": 24,
    "start_time": "2022-12-14T18:11:13.997Z"
   },
   {
    "duration": 28,
    "start_time": "2022-12-14T18:11:14.022Z"
   },
   {
    "duration": 15,
    "start_time": "2022-12-14T18:11:14.051Z"
   },
   {
    "duration": 28,
    "start_time": "2022-12-14T18:11:14.067Z"
   },
   {
    "duration": 181,
    "start_time": "2022-12-14T18:11:14.097Z"
   },
   {
    "duration": 48,
    "start_time": "2022-12-14T18:11:14.280Z"
   },
   {
    "duration": 10,
    "start_time": "2022-12-14T18:11:14.329Z"
   },
   {
    "duration": 50,
    "start_time": "2022-12-14T18:11:14.341Z"
   },
   {
    "duration": 58,
    "start_time": "2022-12-14T18:11:14.393Z"
   },
   {
    "duration": 36,
    "start_time": "2022-12-14T18:11:14.452Z"
   },
   {
    "duration": 4,
    "start_time": "2022-12-14T18:11:14.489Z"
   },
   {
    "duration": 34,
    "start_time": "2022-12-14T18:11:14.495Z"
   },
   {
    "duration": 19,
    "start_time": "2022-12-14T18:11:14.531Z"
   },
   {
    "duration": 22,
    "start_time": "2022-12-14T18:11:14.552Z"
   },
   {
    "duration": 18,
    "start_time": "2022-12-14T18:11:14.576Z"
   },
   {
    "duration": 32,
    "start_time": "2022-12-14T18:11:14.596Z"
   },
   {
    "duration": 164,
    "start_time": "2022-12-14T18:11:14.629Z"
   },
   {
    "duration": 17,
    "start_time": "2022-12-14T18:11:14.795Z"
   },
   {
    "duration": 66,
    "start_time": "2022-12-14T18:11:14.814Z"
   },
   {
    "duration": 8,
    "start_time": "2022-12-14T18:11:14.882Z"
   },
   {
    "duration": 181,
    "start_time": "2022-12-14T18:11:14.891Z"
   },
   {
    "duration": 12,
    "start_time": "2022-12-14T18:11:15.074Z"
   },
   {
    "duration": 28,
    "start_time": "2022-12-14T18:11:15.088Z"
   },
   {
    "duration": 127,
    "start_time": "2022-12-14T18:11:15.117Z"
   },
   {
    "duration": 129,
    "start_time": "2022-12-14T18:11:15.246Z"
   },
   {
    "duration": 14,
    "start_time": "2022-12-14T18:11:15.378Z"
   },
   {
    "duration": 10,
    "start_time": "2022-12-14T18:11:15.394Z"
   },
   {
    "duration": 25,
    "start_time": "2022-12-14T18:11:15.406Z"
   },
   {
    "duration": 25,
    "start_time": "2022-12-14T18:11:15.433Z"
   },
   {
    "duration": 39,
    "start_time": "2022-12-14T18:11:15.460Z"
   },
   {
    "duration": 46,
    "start_time": "2022-12-14T18:11:15.500Z"
   },
   {
    "duration": 30,
    "start_time": "2022-12-14T18:11:15.548Z"
   },
   {
    "duration": 38,
    "start_time": "2022-12-14T18:11:15.581Z"
   },
   {
    "duration": 11,
    "start_time": "2022-12-14T18:12:15.412Z"
   },
   {
    "duration": 11,
    "start_time": "2022-12-14T18:14:37.687Z"
   },
   {
    "duration": 10,
    "start_time": "2022-12-14T18:15:19.849Z"
   },
   {
    "duration": 10,
    "start_time": "2022-12-14T18:16:23.992Z"
   },
   {
    "duration": 15,
    "start_time": "2022-12-14T18:16:27.621Z"
   },
   {
    "duration": 13,
    "start_time": "2022-12-14T18:17:16.626Z"
   },
   {
    "duration": 14,
    "start_time": "2022-12-14T18:18:27.816Z"
   },
   {
    "duration": 11,
    "start_time": "2022-12-14T18:18:52.298Z"
   },
   {
    "duration": 13,
    "start_time": "2022-12-14T18:19:42.101Z"
   },
   {
    "duration": 10,
    "start_time": "2022-12-14T18:21:59.008Z"
   },
   {
    "duration": 11,
    "start_time": "2022-12-14T18:23:29.703Z"
   },
   {
    "duration": 13,
    "start_time": "2022-12-14T18:23:54.653Z"
   },
   {
    "duration": 232,
    "start_time": "2022-12-14T19:39:40.413Z"
   },
   {
    "duration": 1112,
    "start_time": "2022-12-14T19:50:00.971Z"
   },
   {
    "duration": 224,
    "start_time": "2022-12-14T19:50:02.085Z"
   },
   {
    "duration": 33,
    "start_time": "2022-12-14T19:50:02.311Z"
   },
   {
    "duration": 38,
    "start_time": "2022-12-14T19:50:02.345Z"
   },
   {
    "duration": 32,
    "start_time": "2022-12-14T19:50:02.386Z"
   },
   {
    "duration": 11,
    "start_time": "2022-12-14T19:50:02.420Z"
   },
   {
    "duration": 29,
    "start_time": "2022-12-14T19:50:02.432Z"
   },
   {
    "duration": 37,
    "start_time": "2022-12-14T19:50:02.462Z"
   },
   {
    "duration": 10,
    "start_time": "2022-12-14T19:50:02.501Z"
   },
   {
    "duration": 27,
    "start_time": "2022-12-14T19:50:02.513Z"
   },
   {
    "duration": 49,
    "start_time": "2022-12-14T19:50:02.541Z"
   },
   {
    "duration": 17,
    "start_time": "2022-12-14T19:50:02.592Z"
   },
   {
    "duration": 37,
    "start_time": "2022-12-14T19:50:02.611Z"
   },
   {
    "duration": 38,
    "start_time": "2022-12-14T19:50:02.651Z"
   },
   {
    "duration": 25,
    "start_time": "2022-12-14T19:50:02.690Z"
   },
   {
    "duration": 59,
    "start_time": "2022-12-14T19:50:02.717Z"
   },
   {
    "duration": 6,
    "start_time": "2022-12-14T19:50:02.777Z"
   },
   {
    "duration": 29,
    "start_time": "2022-12-14T19:50:02.784Z"
   },
   {
    "duration": 65,
    "start_time": "2022-12-14T19:50:02.815Z"
   },
   {
    "duration": 76,
    "start_time": "2022-12-14T19:50:02.882Z"
   },
   {
    "duration": 5,
    "start_time": "2022-12-14T19:50:02.960Z"
   },
   {
    "duration": 38,
    "start_time": "2022-12-14T19:50:02.966Z"
   },
   {
    "duration": 17,
    "start_time": "2022-12-14T19:50:03.006Z"
   },
   {
    "duration": 31,
    "start_time": "2022-12-14T19:50:03.025Z"
   },
   {
    "duration": 28,
    "start_time": "2022-12-14T19:50:03.058Z"
   },
   {
    "duration": 31,
    "start_time": "2022-12-14T19:50:03.088Z"
   },
   {
    "duration": 43,
    "start_time": "2022-12-14T19:50:03.121Z"
   },
   {
    "duration": 55,
    "start_time": "2022-12-14T19:50:03.166Z"
   },
   {
    "duration": 30,
    "start_time": "2022-12-14T19:50:03.223Z"
   },
   {
    "duration": 4,
    "start_time": "2022-12-14T19:50:03.255Z"
   },
   {
    "duration": 157,
    "start_time": "2022-12-14T19:50:03.261Z"
   },
   {
    "duration": 14,
    "start_time": "2022-12-14T19:50:03.419Z"
   },
   {
    "duration": 180,
    "start_time": "2022-12-14T19:50:03.434Z"
   },
   {
    "duration": 250,
    "start_time": "2022-12-14T19:50:03.616Z"
   },
   {
    "duration": 11,
    "start_time": "2022-12-14T19:50:03.868Z"
   },
   {
    "duration": 23,
    "start_time": "2022-12-14T19:50:03.881Z"
   },
   {
    "duration": 8,
    "start_time": "2022-12-14T19:50:03.906Z"
   },
   {
    "duration": 13,
    "start_time": "2022-12-14T19:50:03.916Z"
   },
   {
    "duration": 27,
    "start_time": "2022-12-14T19:50:03.930Z"
   },
   {
    "duration": 174,
    "start_time": "2022-12-14T19:50:03.958Z"
   },
   {
    "duration": 37,
    "start_time": "2022-12-14T19:50:04.136Z"
   },
   {
    "duration": 11,
    "start_time": "2022-12-14T19:50:04.175Z"
   },
   {
    "duration": 81,
    "start_time": "2022-12-14T19:50:04.188Z"
   },
   {
    "duration": 67,
    "start_time": "2022-12-14T19:50:04.271Z"
   },
   {
    "duration": 32,
    "start_time": "2022-12-14T19:50:04.340Z"
   },
   {
    "duration": 3,
    "start_time": "2022-12-14T19:50:04.374Z"
   },
   {
    "duration": 20,
    "start_time": "2022-12-14T19:50:04.379Z"
   },
   {
    "duration": 14,
    "start_time": "2022-12-14T19:50:04.401Z"
   },
   {
    "duration": 21,
    "start_time": "2022-12-14T19:50:04.417Z"
   },
   {
    "duration": 19,
    "start_time": "2022-12-14T19:50:04.440Z"
   },
   {
    "duration": 20,
    "start_time": "2022-12-14T19:50:04.461Z"
   },
   {
    "duration": 173,
    "start_time": "2022-12-14T19:50:04.483Z"
   },
   {
    "duration": 19,
    "start_time": "2022-12-14T19:50:04.658Z"
   },
   {
    "duration": 61,
    "start_time": "2022-12-14T19:50:04.678Z"
   },
   {
    "duration": 8,
    "start_time": "2022-12-14T19:50:04.741Z"
   },
   {
    "duration": 170,
    "start_time": "2022-12-14T19:50:04.751Z"
   },
   {
    "duration": 13,
    "start_time": "2022-12-14T19:50:04.922Z"
   },
   {
    "duration": 25,
    "start_time": "2022-12-14T19:50:04.936Z"
   },
   {
    "duration": 136,
    "start_time": "2022-12-14T19:50:04.962Z"
   },
   {
    "duration": 112,
    "start_time": "2022-12-14T19:50:05.099Z"
   },
   {
    "duration": 18,
    "start_time": "2022-12-14T19:50:05.213Z"
   },
   {
    "duration": 9,
    "start_time": "2022-12-14T19:50:05.233Z"
   },
   {
    "duration": 13,
    "start_time": "2022-12-14T19:50:05.243Z"
   },
   {
    "duration": 25,
    "start_time": "2022-12-14T19:50:05.258Z"
   },
   {
    "duration": 14,
    "start_time": "2022-12-14T19:50:05.285Z"
   },
   {
    "duration": 25,
    "start_time": "2022-12-14T19:50:05.300Z"
   },
   {
    "duration": 18,
    "start_time": "2022-12-14T19:50:05.327Z"
   },
   {
    "duration": 25,
    "start_time": "2022-12-14T19:50:05.346Z"
   },
   {
    "duration": 17,
    "start_time": "2022-12-14T19:50:05.372Z"
   },
   {
    "duration": 25,
    "start_time": "2022-12-14T19:50:05.391Z"
   },
   {
    "duration": 22,
    "start_time": "2022-12-14T19:50:05.418Z"
   },
   {
    "duration": 24,
    "start_time": "2022-12-14T19:50:05.442Z"
   },
   {
    "duration": 16,
    "start_time": "2022-12-14T19:50:05.470Z"
   },
   {
    "duration": 26,
    "start_time": "2022-12-14T19:50:05.488Z"
   },
   {
    "duration": 16,
    "start_time": "2022-12-14T19:50:05.516Z"
   },
   {
    "duration": 16,
    "start_time": "2022-12-14T19:50:05.535Z"
   },
   {
    "duration": 18,
    "start_time": "2022-12-14T19:50:05.553Z"
   },
   {
    "duration": 20,
    "start_time": "2022-12-14T19:50:05.573Z"
   },
   {
    "duration": 14,
    "start_time": "2022-12-14T19:50:05.595Z"
   },
   {
    "duration": 1325,
    "start_time": "2022-12-15T21:32:34.884Z"
   },
   {
    "duration": 356,
    "start_time": "2022-12-15T21:32:36.211Z"
   },
   {
    "duration": 39,
    "start_time": "2022-12-15T21:32:36.568Z"
   },
   {
    "duration": 12,
    "start_time": "2022-12-15T21:32:36.609Z"
   },
   {
    "duration": 66,
    "start_time": "2022-12-15T21:32:36.623Z"
   },
   {
    "duration": 11,
    "start_time": "2022-12-15T21:32:36.691Z"
   },
   {
    "duration": 13,
    "start_time": "2022-12-15T21:32:36.703Z"
   },
   {
    "duration": 89,
    "start_time": "2022-12-15T21:32:36.718Z"
   },
   {
    "duration": 11,
    "start_time": "2022-12-15T21:32:36.809Z"
   },
   {
    "duration": 11,
    "start_time": "2022-12-15T21:32:36.822Z"
   },
   {
    "duration": 45,
    "start_time": "2022-12-15T21:32:36.834Z"
   },
   {
    "duration": 5,
    "start_time": "2022-12-15T21:32:36.881Z"
   },
   {
    "duration": 28,
    "start_time": "2022-12-15T21:32:36.888Z"
   },
   {
    "duration": 11,
    "start_time": "2022-12-15T21:32:36.919Z"
   },
   {
    "duration": 38,
    "start_time": "2022-12-15T21:32:36.932Z"
   },
   {
    "duration": 47,
    "start_time": "2022-12-15T21:32:36.972Z"
   },
   {
    "duration": 7,
    "start_time": "2022-12-15T21:32:37.021Z"
   },
   {
    "duration": 19,
    "start_time": "2022-12-15T21:32:37.029Z"
   },
   {
    "duration": 72,
    "start_time": "2022-12-15T21:32:37.050Z"
   },
   {
    "duration": 72,
    "start_time": "2022-12-15T21:32:37.124Z"
   },
   {
    "duration": 5,
    "start_time": "2022-12-15T21:32:37.198Z"
   },
   {
    "duration": 14,
    "start_time": "2022-12-15T21:32:37.204Z"
   },
   {
    "duration": 5,
    "start_time": "2022-12-15T21:32:37.219Z"
   },
   {
    "duration": 12,
    "start_time": "2022-12-15T21:32:37.226Z"
   },
   {
    "duration": 38,
    "start_time": "2022-12-15T21:32:37.240Z"
   },
   {
    "duration": 13,
    "start_time": "2022-12-15T21:32:37.280Z"
   },
   {
    "duration": 12,
    "start_time": "2022-12-15T21:32:37.295Z"
   },
   {
    "duration": 40,
    "start_time": "2022-12-15T21:32:37.309Z"
   },
   {
    "duration": 40,
    "start_time": "2022-12-15T21:32:37.350Z"
   },
   {
    "duration": 3,
    "start_time": "2022-12-15T21:32:37.392Z"
   },
   {
    "duration": 176,
    "start_time": "2022-12-15T21:32:37.397Z"
   },
   {
    "duration": 8,
    "start_time": "2022-12-15T21:32:37.575Z"
   },
   {
    "duration": 196,
    "start_time": "2022-12-15T21:32:37.584Z"
   },
   {
    "duration": 262,
    "start_time": "2022-12-15T21:32:37.782Z"
   },
   {
    "duration": 19,
    "start_time": "2022-12-15T21:32:38.046Z"
   },
   {
    "duration": 18,
    "start_time": "2022-12-15T21:32:38.066Z"
   },
   {
    "duration": 5,
    "start_time": "2022-12-15T21:32:38.086Z"
   },
   {
    "duration": 11,
    "start_time": "2022-12-15T21:32:38.092Z"
   },
   {
    "duration": 17,
    "start_time": "2022-12-15T21:32:38.104Z"
   },
   {
    "duration": 169,
    "start_time": "2022-12-15T21:32:38.123Z"
   },
   {
    "duration": 40,
    "start_time": "2022-12-15T21:32:38.297Z"
   },
   {
    "duration": 30,
    "start_time": "2022-12-15T21:32:38.339Z"
   },
   {
    "duration": 51,
    "start_time": "2022-12-15T21:32:38.371Z"
   },
   {
    "duration": 48,
    "start_time": "2022-12-15T21:32:38.424Z"
   },
   {
    "duration": 34,
    "start_time": "2022-12-15T21:32:38.473Z"
   },
   {
    "duration": 14,
    "start_time": "2022-12-15T21:32:38.508Z"
   },
   {
    "duration": 23,
    "start_time": "2022-12-15T21:32:38.524Z"
   },
   {
    "duration": 18,
    "start_time": "2022-12-15T21:32:38.548Z"
   },
   {
    "duration": 9,
    "start_time": "2022-12-15T21:32:38.568Z"
   },
   {
    "duration": 12,
    "start_time": "2022-12-15T21:32:38.579Z"
   },
   {
    "duration": 10,
    "start_time": "2022-12-15T21:32:38.592Z"
   },
   {
    "duration": 171,
    "start_time": "2022-12-15T21:32:38.603Z"
   },
   {
    "duration": 18,
    "start_time": "2022-12-15T21:32:38.776Z"
   },
   {
    "duration": 51,
    "start_time": "2022-12-15T21:32:38.796Z"
   },
   {
    "duration": 20,
    "start_time": "2022-12-15T21:32:38.848Z"
   },
   {
    "duration": 177,
    "start_time": "2022-12-15T21:32:38.870Z"
   },
   {
    "duration": 23,
    "start_time": "2022-12-15T21:32:39.049Z"
   },
   {
    "duration": 16,
    "start_time": "2022-12-15T21:32:39.074Z"
   },
   {
    "duration": 133,
    "start_time": "2022-12-15T21:32:39.092Z"
   },
   {
    "duration": 143,
    "start_time": "2022-12-15T21:32:39.227Z"
   },
   {
    "duration": 12,
    "start_time": "2022-12-15T21:32:39.372Z"
   },
   {
    "duration": 10,
    "start_time": "2022-12-15T21:32:39.386Z"
   },
   {
    "duration": 13,
    "start_time": "2022-12-15T21:32:39.398Z"
   },
   {
    "duration": 21,
    "start_time": "2022-12-15T21:32:39.413Z"
   },
   {
    "duration": 12,
    "start_time": "2022-12-15T21:32:39.436Z"
   },
   {
    "duration": 23,
    "start_time": "2022-12-15T21:32:39.456Z"
   },
   {
    "duration": 13,
    "start_time": "2022-12-15T21:32:39.480Z"
   },
   {
    "duration": 16,
    "start_time": "2022-12-15T21:32:39.494Z"
   },
   {
    "duration": 14,
    "start_time": "2022-12-15T21:32:39.511Z"
   },
   {
    "duration": 11,
    "start_time": "2022-12-15T21:32:39.526Z"
   },
   {
    "duration": 33,
    "start_time": "2022-12-15T21:32:39.538Z"
   },
   {
    "duration": 10,
    "start_time": "2022-12-15T21:32:39.572Z"
   },
   {
    "duration": 9,
    "start_time": "2022-12-15T21:32:39.584Z"
   },
   {
    "duration": 10,
    "start_time": "2022-12-15T21:32:39.595Z"
   },
   {
    "duration": 10,
    "start_time": "2022-12-15T21:32:39.606Z"
   },
   {
    "duration": 11,
    "start_time": "2022-12-15T21:32:39.617Z"
   },
   {
    "duration": 11,
    "start_time": "2022-12-15T21:32:39.665Z"
   },
   {
    "duration": 14,
    "start_time": "2022-12-15T21:32:39.678Z"
   },
   {
    "duration": 16,
    "start_time": "2022-12-15T21:32:39.693Z"
   },
   {
    "duration": 1248,
    "start_time": "2022-12-17T14:03:23.455Z"
   },
   {
    "duration": 318,
    "start_time": "2022-12-17T14:03:24.705Z"
   },
   {
    "duration": 35,
    "start_time": "2022-12-17T14:03:25.024Z"
   },
   {
    "duration": 15,
    "start_time": "2022-12-17T14:03:25.060Z"
   },
   {
    "duration": 63,
    "start_time": "2022-12-17T14:03:25.076Z"
   },
   {
    "duration": 9,
    "start_time": "2022-12-17T14:03:25.141Z"
   },
   {
    "duration": 13,
    "start_time": "2022-12-17T14:03:25.151Z"
   },
   {
    "duration": 86,
    "start_time": "2022-12-17T14:03:25.166Z"
   },
   {
    "duration": 10,
    "start_time": "2022-12-17T14:03:25.254Z"
   },
   {
    "duration": 10,
    "start_time": "2022-12-17T14:03:25.266Z"
   },
   {
    "duration": 33,
    "start_time": "2022-12-17T14:03:25.278Z"
   },
   {
    "duration": 3,
    "start_time": "2022-12-17T14:03:25.313Z"
   },
   {
    "duration": 32,
    "start_time": "2022-12-17T14:03:25.317Z"
   },
   {
    "duration": 13,
    "start_time": "2022-12-17T14:03:25.350Z"
   },
   {
    "duration": 13,
    "start_time": "2022-12-17T14:03:25.364Z"
   },
   {
    "duration": 45,
    "start_time": "2022-12-17T14:03:25.379Z"
   },
   {
    "duration": 12,
    "start_time": "2022-12-17T14:03:25.426Z"
   },
   {
    "duration": 16,
    "start_time": "2022-12-17T14:03:25.440Z"
   },
   {
    "duration": 57,
    "start_time": "2022-12-17T14:03:25.457Z"
   },
   {
    "duration": 80,
    "start_time": "2022-12-17T14:03:25.516Z"
   },
   {
    "duration": 6,
    "start_time": "2022-12-17T14:03:25.597Z"
   },
   {
    "duration": 25,
    "start_time": "2022-12-17T14:03:25.604Z"
   },
   {
    "duration": 10,
    "start_time": "2022-12-17T14:03:25.630Z"
   },
   {
    "duration": 12,
    "start_time": "2022-12-17T14:03:25.641Z"
   },
   {
    "duration": 27,
    "start_time": "2022-12-17T14:03:25.655Z"
   },
   {
    "duration": 24,
    "start_time": "2022-12-17T14:03:25.683Z"
   },
   {
    "duration": 12,
    "start_time": "2022-12-17T14:03:25.708Z"
   },
   {
    "duration": 36,
    "start_time": "2022-12-17T14:03:25.724Z"
   },
   {
    "duration": 24,
    "start_time": "2022-12-17T14:03:25.761Z"
   },
   {
    "duration": 0,
    "start_time": "2022-12-17T14:03:25.786Z"
   },
   {
    "duration": 0,
    "start_time": "2022-12-17T14:03:25.788Z"
   },
   {
    "duration": 0,
    "start_time": "2022-12-17T14:03:25.788Z"
   },
   {
    "duration": 0,
    "start_time": "2022-12-17T14:03:25.789Z"
   },
   {
    "duration": 0,
    "start_time": "2022-12-17T14:03:25.790Z"
   },
   {
    "duration": 0,
    "start_time": "2022-12-17T14:03:25.791Z"
   },
   {
    "duration": 0,
    "start_time": "2022-12-17T14:03:25.793Z"
   },
   {
    "duration": 0,
    "start_time": "2022-12-17T14:03:25.794Z"
   },
   {
    "duration": 0,
    "start_time": "2022-12-17T14:03:25.794Z"
   },
   {
    "duration": 0,
    "start_time": "2022-12-17T14:03:25.795Z"
   },
   {
    "duration": 0,
    "start_time": "2022-12-17T14:03:25.796Z"
   },
   {
    "duration": 0,
    "start_time": "2022-12-17T14:03:25.797Z"
   },
   {
    "duration": 0,
    "start_time": "2022-12-17T14:03:25.798Z"
   },
   {
    "duration": 0,
    "start_time": "2022-12-17T14:03:25.799Z"
   },
   {
    "duration": 0,
    "start_time": "2022-12-17T14:03:25.800Z"
   },
   {
    "duration": 0,
    "start_time": "2022-12-17T14:03:25.801Z"
   },
   {
    "duration": 0,
    "start_time": "2022-12-17T14:03:25.802Z"
   },
   {
    "duration": 0,
    "start_time": "2022-12-17T14:03:25.802Z"
   },
   {
    "duration": 0,
    "start_time": "2022-12-17T14:03:25.803Z"
   },
   {
    "duration": 0,
    "start_time": "2022-12-17T14:03:25.804Z"
   },
   {
    "duration": 0,
    "start_time": "2022-12-17T14:03:25.805Z"
   },
   {
    "duration": 0,
    "start_time": "2022-12-17T14:03:25.807Z"
   },
   {
    "duration": 0,
    "start_time": "2022-12-17T14:03:25.808Z"
   },
   {
    "duration": 0,
    "start_time": "2022-12-17T14:03:25.809Z"
   },
   {
    "duration": 0,
    "start_time": "2022-12-17T14:03:25.835Z"
   },
   {
    "duration": 0,
    "start_time": "2022-12-17T14:03:25.836Z"
   },
   {
    "duration": 0,
    "start_time": "2022-12-17T14:03:25.838Z"
   },
   {
    "duration": 0,
    "start_time": "2022-12-17T14:03:25.839Z"
   },
   {
    "duration": 0,
    "start_time": "2022-12-17T14:03:25.840Z"
   },
   {
    "duration": 0,
    "start_time": "2022-12-17T14:03:25.841Z"
   },
   {
    "duration": 0,
    "start_time": "2022-12-17T14:03:25.842Z"
   },
   {
    "duration": 0,
    "start_time": "2022-12-17T14:03:25.843Z"
   },
   {
    "duration": 0,
    "start_time": "2022-12-17T14:03:25.844Z"
   },
   {
    "duration": 0,
    "start_time": "2022-12-17T14:03:25.845Z"
   },
   {
    "duration": 0,
    "start_time": "2022-12-17T14:03:25.846Z"
   },
   {
    "duration": 0,
    "start_time": "2022-12-17T14:03:25.847Z"
   },
   {
    "duration": 0,
    "start_time": "2022-12-17T14:03:25.848Z"
   },
   {
    "duration": 0,
    "start_time": "2022-12-17T14:03:25.849Z"
   },
   {
    "duration": 0,
    "start_time": "2022-12-17T14:03:25.850Z"
   },
   {
    "duration": 0,
    "start_time": "2022-12-17T14:03:25.851Z"
   },
   {
    "duration": 0,
    "start_time": "2022-12-17T14:03:25.852Z"
   },
   {
    "duration": 0,
    "start_time": "2022-12-17T14:03:25.853Z"
   },
   {
    "duration": 0,
    "start_time": "2022-12-17T14:03:25.854Z"
   },
   {
    "duration": 0,
    "start_time": "2022-12-17T14:03:25.855Z"
   },
   {
    "duration": 0,
    "start_time": "2022-12-17T14:03:25.856Z"
   },
   {
    "duration": 0,
    "start_time": "2022-12-17T14:03:25.857Z"
   },
   {
    "duration": 0,
    "start_time": "2022-12-17T14:03:25.858Z"
   },
   {
    "duration": 0,
    "start_time": "2022-12-17T14:03:25.859Z"
   },
   {
    "duration": 0,
    "start_time": "2022-12-17T14:03:25.860Z"
   },
   {
    "duration": 0,
    "start_time": "2022-12-17T14:03:25.861Z"
   },
   {
    "duration": 29,
    "start_time": "2022-12-17T14:03:45.023Z"
   },
   {
    "duration": 44,
    "start_time": "2022-12-17T15:54:34.030Z"
   },
   {
    "duration": 68,
    "start_time": "2022-12-17T15:54:51.628Z"
   },
   {
    "duration": 34,
    "start_time": "2022-12-17T15:55:30.328Z"
   },
   {
    "duration": 43,
    "start_time": "2022-12-17T15:55:37.137Z"
   },
   {
    "duration": 1158,
    "start_time": "2022-12-17T15:58:19.301Z"
   },
   {
    "duration": 237,
    "start_time": "2022-12-17T15:58:20.461Z"
   },
   {
    "duration": 43,
    "start_time": "2022-12-17T15:58:20.699Z"
   },
   {
    "duration": 14,
    "start_time": "2022-12-17T15:58:20.744Z"
   },
   {
    "duration": 19,
    "start_time": "2022-12-17T15:58:20.759Z"
   },
   {
    "duration": 10,
    "start_time": "2022-12-17T15:58:20.780Z"
   },
   {
    "duration": 13,
    "start_time": "2022-12-17T15:58:20.792Z"
   },
   {
    "duration": 53,
    "start_time": "2022-12-17T15:58:20.807Z"
   },
   {
    "duration": 11,
    "start_time": "2022-12-17T15:58:20.863Z"
   },
   {
    "duration": 13,
    "start_time": "2022-12-17T15:58:20.878Z"
   },
   {
    "duration": 56,
    "start_time": "2022-12-17T15:58:20.893Z"
   },
   {
    "duration": 6,
    "start_time": "2022-12-17T15:58:20.950Z"
   },
   {
    "duration": 36,
    "start_time": "2022-12-17T15:58:20.957Z"
   },
   {
    "duration": 17,
    "start_time": "2022-12-17T15:58:20.995Z"
   },
   {
    "duration": 26,
    "start_time": "2022-12-17T15:58:21.014Z"
   },
   {
    "duration": 51,
    "start_time": "2022-12-17T15:58:21.041Z"
   },
   {
    "duration": 7,
    "start_time": "2022-12-17T15:58:21.094Z"
   },
   {
    "duration": 32,
    "start_time": "2022-12-17T15:58:21.103Z"
   },
   {
    "duration": 60,
    "start_time": "2022-12-17T15:58:21.137Z"
   },
   {
    "duration": 96,
    "start_time": "2022-12-17T15:58:21.199Z"
   },
   {
    "duration": 6,
    "start_time": "2022-12-17T15:58:21.297Z"
   },
   {
    "duration": 28,
    "start_time": "2022-12-17T15:58:21.305Z"
   },
   {
    "duration": 6,
    "start_time": "2022-12-17T15:58:21.335Z"
   },
   {
    "duration": 16,
    "start_time": "2022-12-17T15:58:21.343Z"
   },
   {
    "duration": 12,
    "start_time": "2022-12-17T15:58:21.360Z"
   },
   {
    "duration": 25,
    "start_time": "2022-12-17T15:58:21.374Z"
   },
   {
    "duration": 18,
    "start_time": "2022-12-17T15:58:21.400Z"
   },
   {
    "duration": 38,
    "start_time": "2022-12-17T15:58:21.435Z"
   },
   {
    "duration": 61,
    "start_time": "2022-12-17T15:58:21.475Z"
   },
   {
    "duration": 6,
    "start_time": "2022-12-17T15:58:21.538Z"
   },
   {
    "duration": 195,
    "start_time": "2022-12-17T15:58:21.546Z"
   },
   {
    "duration": 12,
    "start_time": "2022-12-17T15:58:21.744Z"
   },
   {
    "duration": 217,
    "start_time": "2022-12-17T15:58:21.758Z"
   },
   {
    "duration": 294,
    "start_time": "2022-12-17T15:58:21.977Z"
   },
   {
    "duration": 11,
    "start_time": "2022-12-17T15:58:22.273Z"
   },
   {
    "duration": 14,
    "start_time": "2022-12-17T15:58:22.286Z"
   },
   {
    "duration": 13,
    "start_time": "2022-12-17T15:58:22.303Z"
   },
   {
    "duration": 8,
    "start_time": "2022-12-17T15:58:22.335Z"
   },
   {
    "duration": 27,
    "start_time": "2022-12-17T15:58:22.345Z"
   },
   {
    "duration": 237,
    "start_time": "2022-12-17T15:58:22.374Z"
   },
   {
    "duration": 80,
    "start_time": "2022-12-17T15:58:22.613Z"
   },
   {
    "duration": 12,
    "start_time": "2022-12-17T15:58:22.695Z"
   },
   {
    "duration": 60,
    "start_time": "2022-12-17T15:58:22.709Z"
   },
   {
    "duration": 77,
    "start_time": "2022-12-17T15:58:22.771Z"
   },
   {
    "duration": 36,
    "start_time": "2022-12-17T15:58:22.850Z"
   },
   {
    "duration": 4,
    "start_time": "2022-12-17T15:58:22.888Z"
   },
   {
    "duration": 20,
    "start_time": "2022-12-17T15:58:22.894Z"
   },
   {
    "duration": 25,
    "start_time": "2022-12-17T15:58:22.916Z"
   },
   {
    "duration": 13,
    "start_time": "2022-12-17T15:58:22.943Z"
   },
   {
    "duration": 21,
    "start_time": "2022-12-17T15:58:22.958Z"
   },
   {
    "duration": 17,
    "start_time": "2022-12-17T15:58:22.981Z"
   },
   {
    "duration": 181,
    "start_time": "2022-12-17T15:58:22.999Z"
   },
   {
    "duration": 19,
    "start_time": "2022-12-17T15:58:23.181Z"
   },
   {
    "duration": 63,
    "start_time": "2022-12-17T15:58:23.202Z"
   },
   {
    "duration": 8,
    "start_time": "2022-12-17T15:58:23.267Z"
   },
   {
    "duration": 181,
    "start_time": "2022-12-17T15:58:23.277Z"
   },
   {
    "duration": 12,
    "start_time": "2022-12-17T15:58:23.460Z"
   },
   {
    "duration": 22,
    "start_time": "2022-12-17T15:58:23.474Z"
   },
   {
    "duration": 130,
    "start_time": "2022-12-17T15:58:23.497Z"
   },
   {
    "duration": 118,
    "start_time": "2022-12-17T15:58:23.629Z"
   },
   {
    "duration": 12,
    "start_time": "2022-12-17T15:58:23.749Z"
   },
   {
    "duration": 14,
    "start_time": "2022-12-17T15:58:23.763Z"
   },
   {
    "duration": 21,
    "start_time": "2022-12-17T15:58:23.778Z"
   },
   {
    "duration": 22,
    "start_time": "2022-12-17T15:58:23.801Z"
   },
   {
    "duration": 19,
    "start_time": "2022-12-17T15:58:23.824Z"
   },
   {
    "duration": 28,
    "start_time": "2022-12-17T15:58:23.845Z"
   },
   {
    "duration": 12,
    "start_time": "2022-12-17T15:58:23.876Z"
   },
   {
    "duration": 13,
    "start_time": "2022-12-17T15:58:23.890Z"
   },
   {
    "duration": 19,
    "start_time": "2022-12-17T15:58:23.905Z"
   },
   {
    "duration": 14,
    "start_time": "2022-12-17T15:58:23.926Z"
   },
   {
    "duration": 27,
    "start_time": "2022-12-17T15:58:23.942Z"
   },
   {
    "duration": 22,
    "start_time": "2022-12-17T15:58:23.971Z"
   },
   {
    "duration": 23,
    "start_time": "2022-12-17T15:58:23.995Z"
   },
   {
    "duration": 21,
    "start_time": "2022-12-17T15:58:24.020Z"
   },
   {
    "duration": 20,
    "start_time": "2022-12-17T15:58:24.043Z"
   },
   {
    "duration": 17,
    "start_time": "2022-12-17T15:58:24.065Z"
   },
   {
    "duration": 22,
    "start_time": "2022-12-17T15:58:24.083Z"
   },
   {
    "duration": 14,
    "start_time": "2022-12-17T15:58:24.107Z"
   },
   {
    "duration": 14,
    "start_time": "2022-12-17T15:58:24.123Z"
   },
   {
    "duration": 6,
    "start_time": "2022-12-17T16:16:49.931Z"
   },
   {
    "duration": 6,
    "start_time": "2022-12-17T16:17:00.012Z"
   },
   {
    "duration": 5,
    "start_time": "2022-12-17T16:17:44.253Z"
   },
   {
    "duration": 6,
    "start_time": "2022-12-17T16:18:14.201Z"
   },
   {
    "duration": 7,
    "start_time": "2022-12-17T16:18:23.073Z"
   },
   {
    "duration": 5,
    "start_time": "2022-12-17T16:20:19.091Z"
   },
   {
    "duration": 10,
    "start_time": "2022-12-17T16:21:10.878Z"
   },
   {
    "duration": 10,
    "start_time": "2022-12-17T16:21:17.236Z"
   },
   {
    "duration": 10,
    "start_time": "2022-12-17T16:26:00.291Z"
   },
   {
    "duration": 11,
    "start_time": "2022-12-17T16:27:36.978Z"
   },
   {
    "duration": 10,
    "start_time": "2022-12-17T16:28:04.457Z"
   },
   {
    "duration": 10,
    "start_time": "2022-12-17T16:29:27.804Z"
   },
   {
    "duration": 11,
    "start_time": "2022-12-17T16:29:51.238Z"
   },
   {
    "duration": 11,
    "start_time": "2022-12-17T16:30:15.613Z"
   },
   {
    "duration": 12,
    "start_time": "2022-12-17T16:30:36.048Z"
   },
   {
    "duration": 10,
    "start_time": "2022-12-17T16:31:04.116Z"
   },
   {
    "duration": 10,
    "start_time": "2022-12-17T16:31:22.101Z"
   },
   {
    "duration": 10,
    "start_time": "2022-12-17T16:32:29.888Z"
   },
   {
    "duration": 11,
    "start_time": "2022-12-17T16:32:51.286Z"
   },
   {
    "duration": 1106,
    "start_time": "2022-12-17T16:34:13.094Z"
   },
   {
    "duration": 230,
    "start_time": "2022-12-17T16:34:14.202Z"
   },
   {
    "duration": 40,
    "start_time": "2022-12-17T16:34:14.437Z"
   },
   {
    "duration": 13,
    "start_time": "2022-12-17T16:34:14.479Z"
   },
   {
    "duration": 18,
    "start_time": "2022-12-17T16:34:14.494Z"
   },
   {
    "duration": 22,
    "start_time": "2022-12-17T16:34:14.513Z"
   },
   {
    "duration": 9,
    "start_time": "2022-12-17T16:34:14.537Z"
   },
   {
    "duration": 36,
    "start_time": "2022-12-17T16:34:14.548Z"
   },
   {
    "duration": 11,
    "start_time": "2022-12-17T16:34:14.586Z"
   },
   {
    "duration": 11,
    "start_time": "2022-12-17T16:34:14.600Z"
   },
   {
    "duration": 43,
    "start_time": "2022-12-17T16:34:14.613Z"
   },
   {
    "duration": 4,
    "start_time": "2022-12-17T16:34:14.658Z"
   },
   {
    "duration": 44,
    "start_time": "2022-12-17T16:34:14.664Z"
   },
   {
    "duration": 12,
    "start_time": "2022-12-17T16:34:14.710Z"
   },
   {
    "duration": 19,
    "start_time": "2022-12-17T16:34:14.723Z"
   },
   {
    "duration": 45,
    "start_time": "2022-12-17T16:34:14.743Z"
   },
   {
    "duration": 6,
    "start_time": "2022-12-17T16:34:14.790Z"
   },
   {
    "duration": 8,
    "start_time": "2022-12-17T16:34:14.798Z"
   },
   {
    "duration": 86,
    "start_time": "2022-12-17T16:34:14.808Z"
   },
   {
    "duration": 85,
    "start_time": "2022-12-17T16:34:14.895Z"
   },
   {
    "duration": 6,
    "start_time": "2022-12-17T16:34:14.981Z"
   },
   {
    "duration": 18,
    "start_time": "2022-12-17T16:34:14.988Z"
   },
   {
    "duration": 13,
    "start_time": "2022-12-17T16:34:15.008Z"
   },
   {
    "duration": 17,
    "start_time": "2022-12-17T16:34:15.023Z"
   },
   {
    "duration": 11,
    "start_time": "2022-12-17T16:34:15.041Z"
   },
   {
    "duration": 13,
    "start_time": "2022-12-17T16:34:15.053Z"
   },
   {
    "duration": 29,
    "start_time": "2022-12-17T16:34:15.068Z"
   },
   {
    "duration": 48,
    "start_time": "2022-12-17T16:34:15.101Z"
   },
   {
    "duration": 42,
    "start_time": "2022-12-17T16:34:15.151Z"
   },
   {
    "duration": 4,
    "start_time": "2022-12-17T16:34:15.195Z"
   },
   {
    "duration": 186,
    "start_time": "2022-12-17T16:34:15.201Z"
   },
   {
    "duration": 10,
    "start_time": "2022-12-17T16:34:15.389Z"
   },
   {
    "duration": 226,
    "start_time": "2022-12-17T16:34:15.401Z"
   },
   {
    "duration": 258,
    "start_time": "2022-12-17T16:34:15.629Z"
   },
   {
    "duration": 9,
    "start_time": "2022-12-17T16:34:15.889Z"
   },
   {
    "duration": 12,
    "start_time": "2022-12-17T16:34:15.900Z"
   },
   {
    "duration": 23,
    "start_time": "2022-12-17T16:34:15.914Z"
   },
   {
    "duration": 3,
    "start_time": "2022-12-17T16:34:15.939Z"
   },
   {
    "duration": 14,
    "start_time": "2022-12-17T16:34:15.944Z"
   },
   {
    "duration": 186,
    "start_time": "2022-12-17T16:34:15.960Z"
   },
   {
    "duration": 37,
    "start_time": "2022-12-17T16:34:16.148Z"
   },
   {
    "duration": 12,
    "start_time": "2022-12-17T16:34:16.187Z"
   },
   {
    "duration": 55,
    "start_time": "2022-12-17T16:34:16.200Z"
   },
   {
    "duration": 40,
    "start_time": "2022-12-17T16:34:16.257Z"
   },
   {
    "duration": 52,
    "start_time": "2022-12-17T16:34:16.299Z"
   },
   {
    "duration": 4,
    "start_time": "2022-12-17T16:34:16.353Z"
   },
   {
    "duration": 8,
    "start_time": "2022-12-17T16:34:16.359Z"
   },
   {
    "duration": 15,
    "start_time": "2022-12-17T16:34:16.369Z"
   },
   {
    "duration": 18,
    "start_time": "2022-12-17T16:34:16.386Z"
   },
   {
    "duration": 25,
    "start_time": "2022-12-17T16:34:16.406Z"
   },
   {
    "duration": 9,
    "start_time": "2022-12-17T16:34:16.433Z"
   },
   {
    "duration": 175,
    "start_time": "2022-12-17T16:34:16.444Z"
   },
   {
    "duration": 23,
    "start_time": "2022-12-17T16:34:16.620Z"
   },
   {
    "duration": 64,
    "start_time": "2022-12-17T16:34:16.645Z"
   },
   {
    "duration": 10,
    "start_time": "2022-12-17T16:34:16.710Z"
   },
   {
    "duration": 208,
    "start_time": "2022-12-17T16:34:16.722Z"
   },
   {
    "duration": 13,
    "start_time": "2022-12-17T16:34:16.934Z"
   },
   {
    "duration": 18,
    "start_time": "2022-12-17T16:34:16.949Z"
   },
   {
    "duration": 135,
    "start_time": "2022-12-17T16:34:16.969Z"
   },
   {
    "duration": 119,
    "start_time": "2022-12-17T16:34:17.106Z"
   },
   {
    "duration": 110,
    "start_time": "2022-12-17T16:34:17.226Z"
   },
   {
    "duration": 0,
    "start_time": "2022-12-17T16:34:17.338Z"
   },
   {
    "duration": 0,
    "start_time": "2022-12-17T16:34:17.339Z"
   },
   {
    "duration": 0,
    "start_time": "2022-12-17T16:34:17.340Z"
   },
   {
    "duration": 0,
    "start_time": "2022-12-17T16:34:17.341Z"
   },
   {
    "duration": 0,
    "start_time": "2022-12-17T16:34:17.342Z"
   },
   {
    "duration": 0,
    "start_time": "2022-12-17T16:34:17.343Z"
   },
   {
    "duration": 0,
    "start_time": "2022-12-17T16:34:17.344Z"
   },
   {
    "duration": 0,
    "start_time": "2022-12-17T16:34:17.345Z"
   },
   {
    "duration": 0,
    "start_time": "2022-12-17T16:34:17.346Z"
   },
   {
    "duration": 0,
    "start_time": "2022-12-17T16:34:17.347Z"
   },
   {
    "duration": 0,
    "start_time": "2022-12-17T16:34:17.348Z"
   },
   {
    "duration": 0,
    "start_time": "2022-12-17T16:34:17.349Z"
   },
   {
    "duration": 0,
    "start_time": "2022-12-17T16:34:17.350Z"
   },
   {
    "duration": 0,
    "start_time": "2022-12-17T16:34:17.351Z"
   },
   {
    "duration": 0,
    "start_time": "2022-12-17T16:34:17.352Z"
   },
   {
    "duration": 0,
    "start_time": "2022-12-17T16:34:17.353Z"
   },
   {
    "duration": 0,
    "start_time": "2022-12-17T16:34:17.354Z"
   },
   {
    "duration": 0,
    "start_time": "2022-12-17T16:34:17.355Z"
   },
   {
    "duration": 0,
    "start_time": "2022-12-17T16:34:17.357Z"
   },
   {
    "duration": 1174,
    "start_time": "2022-12-17T16:44:01.449Z"
   },
   {
    "duration": 249,
    "start_time": "2022-12-17T16:44:02.626Z"
   },
   {
    "duration": 35,
    "start_time": "2022-12-17T16:44:02.877Z"
   },
   {
    "duration": 27,
    "start_time": "2022-12-17T16:44:02.914Z"
   },
   {
    "duration": 29,
    "start_time": "2022-12-17T16:44:02.943Z"
   },
   {
    "duration": 11,
    "start_time": "2022-12-17T16:44:02.974Z"
   },
   {
    "duration": 31,
    "start_time": "2022-12-17T16:44:02.986Z"
   },
   {
    "duration": 41,
    "start_time": "2022-12-17T16:44:03.019Z"
   },
   {
    "duration": 10,
    "start_time": "2022-12-17T16:44:03.062Z"
   },
   {
    "duration": 30,
    "start_time": "2022-12-17T16:44:03.073Z"
   },
   {
    "duration": 39,
    "start_time": "2022-12-17T16:44:03.105Z"
   },
   {
    "duration": 4,
    "start_time": "2022-12-17T16:44:03.146Z"
   },
   {
    "duration": 41,
    "start_time": "2022-12-17T16:44:03.152Z"
   },
   {
    "duration": 17,
    "start_time": "2022-12-17T16:44:03.197Z"
   },
   {
    "duration": 12,
    "start_time": "2022-12-17T16:44:03.216Z"
   },
   {
    "duration": 56,
    "start_time": "2022-12-17T16:44:03.230Z"
   },
   {
    "duration": 6,
    "start_time": "2022-12-17T16:44:03.288Z"
   },
   {
    "duration": 16,
    "start_time": "2022-12-17T16:44:03.295Z"
   },
   {
    "duration": 69,
    "start_time": "2022-12-17T16:44:03.313Z"
   },
   {
    "duration": 73,
    "start_time": "2022-12-17T16:44:03.383Z"
   },
   {
    "duration": 6,
    "start_time": "2022-12-17T16:44:03.458Z"
   },
   {
    "duration": 31,
    "start_time": "2022-12-17T16:44:03.465Z"
   },
   {
    "duration": 20,
    "start_time": "2022-12-17T16:44:03.498Z"
   },
   {
    "duration": 29,
    "start_time": "2022-12-17T16:44:03.520Z"
   },
   {
    "duration": 14,
    "start_time": "2022-12-17T16:44:03.551Z"
   },
   {
    "duration": 23,
    "start_time": "2022-12-17T16:44:03.567Z"
   },
   {
    "duration": 20,
    "start_time": "2022-12-17T16:44:03.591Z"
   },
   {
    "duration": 63,
    "start_time": "2022-12-17T16:44:03.612Z"
   },
   {
    "duration": 36,
    "start_time": "2022-12-17T16:44:03.677Z"
   },
   {
    "duration": 5,
    "start_time": "2022-12-17T16:44:03.715Z"
   },
   {
    "duration": 165,
    "start_time": "2022-12-17T16:44:03.736Z"
   },
   {
    "duration": 9,
    "start_time": "2022-12-17T16:44:03.903Z"
   },
   {
    "duration": 203,
    "start_time": "2022-12-17T16:44:03.914Z"
   },
   {
    "duration": 279,
    "start_time": "2022-12-17T16:44:04.119Z"
   },
   {
    "duration": 10,
    "start_time": "2022-12-17T16:44:04.400Z"
   },
   {
    "duration": 24,
    "start_time": "2022-12-17T16:44:04.412Z"
   },
   {
    "duration": 14,
    "start_time": "2022-12-17T16:44:04.438Z"
   },
   {
    "duration": 17,
    "start_time": "2022-12-17T16:44:04.454Z"
   },
   {
    "duration": 27,
    "start_time": "2022-12-17T16:44:04.473Z"
   },
   {
    "duration": 183,
    "start_time": "2022-12-17T16:44:04.503Z"
   },
   {
    "duration": 51,
    "start_time": "2022-12-17T16:44:04.691Z"
   },
   {
    "duration": 10,
    "start_time": "2022-12-17T16:44:04.745Z"
   },
   {
    "duration": 49,
    "start_time": "2022-12-17T16:44:04.757Z"
   },
   {
    "duration": 63,
    "start_time": "2022-12-17T16:44:04.809Z"
   },
   {
    "duration": 39,
    "start_time": "2022-12-17T16:44:04.873Z"
   },
   {
    "duration": 4,
    "start_time": "2022-12-17T16:44:04.914Z"
   },
   {
    "duration": 16,
    "start_time": "2022-12-17T16:44:04.919Z"
   },
   {
    "duration": 12,
    "start_time": "2022-12-17T16:44:04.938Z"
   },
   {
    "duration": 11,
    "start_time": "2022-12-17T16:44:04.952Z"
   },
   {
    "duration": 35,
    "start_time": "2022-12-17T16:44:04.965Z"
   },
   {
    "duration": 17,
    "start_time": "2022-12-17T16:44:05.001Z"
   },
   {
    "duration": 177,
    "start_time": "2022-12-17T16:44:05.020Z"
   },
   {
    "duration": 18,
    "start_time": "2022-12-17T16:44:05.199Z"
   },
   {
    "duration": 63,
    "start_time": "2022-12-17T16:44:05.219Z"
   },
   {
    "duration": 7,
    "start_time": "2022-12-17T16:44:05.284Z"
   },
   {
    "duration": 174,
    "start_time": "2022-12-17T16:44:05.293Z"
   },
   {
    "duration": 12,
    "start_time": "2022-12-17T16:44:05.469Z"
   },
   {
    "duration": 30,
    "start_time": "2022-12-17T16:44:05.483Z"
   },
   {
    "duration": 151,
    "start_time": "2022-12-17T16:44:05.515Z"
   },
   {
    "duration": 135,
    "start_time": "2022-12-17T16:44:05.668Z"
   },
   {
    "duration": 12,
    "start_time": "2022-12-17T16:44:05.805Z"
   },
   {
    "duration": 17,
    "start_time": "2022-12-17T16:44:05.818Z"
   },
   {
    "duration": 16,
    "start_time": "2022-12-17T16:44:05.837Z"
   },
   {
    "duration": 37,
    "start_time": "2022-12-17T16:44:05.855Z"
   },
   {
    "duration": 11,
    "start_time": "2022-12-17T16:44:05.894Z"
   },
   {
    "duration": 21,
    "start_time": "2022-12-17T16:44:05.906Z"
   },
   {
    "duration": 9,
    "start_time": "2022-12-17T16:44:05.929Z"
   },
   {
    "duration": 13,
    "start_time": "2022-12-17T16:44:05.940Z"
   },
   {
    "duration": 15,
    "start_time": "2022-12-17T16:44:05.955Z"
   },
   {
    "duration": 12,
    "start_time": "2022-12-17T16:44:05.972Z"
   },
   {
    "duration": 26,
    "start_time": "2022-12-17T16:44:05.986Z"
   },
   {
    "duration": 12,
    "start_time": "2022-12-17T16:44:06.014Z"
   },
   {
    "duration": 10,
    "start_time": "2022-12-17T16:44:06.028Z"
   },
   {
    "duration": 17,
    "start_time": "2022-12-17T16:44:06.040Z"
   },
   {
    "duration": 15,
    "start_time": "2022-12-17T16:44:06.059Z"
   },
   {
    "duration": 21,
    "start_time": "2022-12-17T16:44:06.076Z"
   },
   {
    "duration": 11,
    "start_time": "2022-12-17T16:44:06.098Z"
   },
   {
    "duration": 17,
    "start_time": "2022-12-17T16:44:06.111Z"
   },
   {
    "duration": 13,
    "start_time": "2022-12-17T16:44:06.130Z"
   },
   {
    "duration": 41,
    "start_time": "2022-12-17T16:44:06.144Z"
   },
   {
    "duration": 11,
    "start_time": "2022-12-17T16:45:31.548Z"
   },
   {
    "duration": 11,
    "start_time": "2022-12-17T16:46:59.092Z"
   },
   {
    "duration": 10,
    "start_time": "2022-12-17T16:47:13.457Z"
   },
   {
    "duration": 10,
    "start_time": "2022-12-17T16:47:28.278Z"
   },
   {
    "duration": 12,
    "start_time": "2022-12-17T16:47:47.091Z"
   },
   {
    "duration": 10,
    "start_time": "2022-12-17T16:47:58.808Z"
   },
   {
    "duration": 47,
    "start_time": "2022-12-17T16:49:17.731Z"
   },
   {
    "duration": 1213,
    "start_time": "2022-12-17T16:55:01.752Z"
   },
   {
    "duration": 237,
    "start_time": "2022-12-17T16:55:02.966Z"
   },
   {
    "duration": 40,
    "start_time": "2022-12-17T16:55:03.205Z"
   },
   {
    "duration": 27,
    "start_time": "2022-12-17T16:55:03.247Z"
   },
   {
    "duration": 30,
    "start_time": "2022-12-17T16:55:03.276Z"
   },
   {
    "duration": 15,
    "start_time": "2022-12-17T16:55:03.308Z"
   },
   {
    "duration": 15,
    "start_time": "2022-12-17T16:55:03.325Z"
   },
   {
    "duration": 39,
    "start_time": "2022-12-17T16:55:03.342Z"
   },
   {
    "duration": 11,
    "start_time": "2022-12-17T16:55:03.382Z"
   },
   {
    "duration": 16,
    "start_time": "2022-12-17T16:55:03.397Z"
   },
   {
    "duration": 44,
    "start_time": "2022-12-17T16:55:03.415Z"
   },
   {
    "duration": 13,
    "start_time": "2022-12-17T16:55:03.461Z"
   },
   {
    "duration": 42,
    "start_time": "2022-12-17T16:55:03.475Z"
   },
   {
    "duration": 24,
    "start_time": "2022-12-17T16:55:03.518Z"
   },
   {
    "duration": 25,
    "start_time": "2022-12-17T16:55:03.544Z"
   },
   {
    "duration": 59,
    "start_time": "2022-12-17T16:55:03.570Z"
   },
   {
    "duration": 6,
    "start_time": "2022-12-17T16:55:03.630Z"
   },
   {
    "duration": 19,
    "start_time": "2022-12-17T16:55:03.637Z"
   },
   {
    "duration": 98,
    "start_time": "2022-12-17T16:55:03.657Z"
   },
   {
    "duration": 81,
    "start_time": "2022-12-17T16:55:03.757Z"
   },
   {
    "duration": 6,
    "start_time": "2022-12-17T16:55:03.840Z"
   },
   {
    "duration": 16,
    "start_time": "2022-12-17T16:55:03.848Z"
   },
   {
    "duration": 17,
    "start_time": "2022-12-17T16:55:03.866Z"
   },
   {
    "duration": 20,
    "start_time": "2022-12-17T16:55:03.885Z"
   },
   {
    "duration": 15,
    "start_time": "2022-12-17T16:55:03.907Z"
   },
   {
    "duration": 18,
    "start_time": "2022-12-17T16:55:03.923Z"
   },
   {
    "duration": 21,
    "start_time": "2022-12-17T16:55:03.943Z"
   },
   {
    "duration": 37,
    "start_time": "2022-12-17T16:55:03.968Z"
   },
   {
    "duration": 40,
    "start_time": "2022-12-17T16:55:04.007Z"
   },
   {
    "duration": 5,
    "start_time": "2022-12-17T16:55:04.048Z"
   },
   {
    "duration": 174,
    "start_time": "2022-12-17T16:55:04.055Z"
   },
   {
    "duration": 9,
    "start_time": "2022-12-17T16:55:04.231Z"
   },
   {
    "duration": 203,
    "start_time": "2022-12-17T16:55:04.242Z"
   },
   {
    "duration": 259,
    "start_time": "2022-12-17T16:55:04.447Z"
   },
   {
    "duration": 10,
    "start_time": "2022-12-17T16:55:04.709Z"
   },
   {
    "duration": 40,
    "start_time": "2022-12-17T16:55:04.721Z"
   },
   {
    "duration": 14,
    "start_time": "2022-12-17T16:55:04.763Z"
   },
   {
    "duration": 23,
    "start_time": "2022-12-17T16:55:04.779Z"
   },
   {
    "duration": 13,
    "start_time": "2022-12-17T16:55:04.804Z"
   },
   {
    "duration": 184,
    "start_time": "2022-12-17T16:55:04.819Z"
   },
   {
    "duration": 47,
    "start_time": "2022-12-17T16:55:05.005Z"
   },
   {
    "duration": 10,
    "start_time": "2022-12-17T16:55:05.054Z"
   },
   {
    "duration": 59,
    "start_time": "2022-12-17T16:55:05.066Z"
   },
   {
    "duration": 47,
    "start_time": "2022-12-17T16:55:05.127Z"
   },
   {
    "duration": 37,
    "start_time": "2022-12-17T16:55:05.176Z"
   },
   {
    "duration": 22,
    "start_time": "2022-12-17T16:55:05.214Z"
   },
   {
    "duration": 14,
    "start_time": "2022-12-17T16:55:05.238Z"
   },
   {
    "duration": 11,
    "start_time": "2022-12-17T16:55:05.254Z"
   },
   {
    "duration": 10,
    "start_time": "2022-12-17T16:55:05.266Z"
   },
   {
    "duration": 22,
    "start_time": "2022-12-17T16:55:05.278Z"
   },
   {
    "duration": 25,
    "start_time": "2022-12-17T16:55:05.302Z"
   },
   {
    "duration": 184,
    "start_time": "2022-12-17T16:55:05.329Z"
   },
   {
    "duration": 9,
    "start_time": "2022-12-17T16:55:05.515Z"
   },
   {
    "duration": 25,
    "start_time": "2022-12-17T16:55:05.536Z"
   },
   {
    "duration": 58,
    "start_time": "2022-12-17T16:55:05.563Z"
   },
   {
    "duration": 7,
    "start_time": "2022-12-17T16:55:05.623Z"
   },
   {
    "duration": 177,
    "start_time": "2022-12-17T16:55:05.632Z"
   },
   {
    "duration": 12,
    "start_time": "2022-12-17T16:55:05.811Z"
   },
   {
    "duration": 21,
    "start_time": "2022-12-17T16:55:05.824Z"
   },
   {
    "duration": 128,
    "start_time": "2022-12-17T16:55:05.847Z"
   },
   {
    "duration": 138,
    "start_time": "2022-12-17T16:55:05.977Z"
   },
   {
    "duration": 24,
    "start_time": "2022-12-17T16:55:06.117Z"
   },
   {
    "duration": 17,
    "start_time": "2022-12-17T16:55:06.143Z"
   },
   {
    "duration": 17,
    "start_time": "2022-12-17T16:55:06.162Z"
   },
   {
    "duration": 20,
    "start_time": "2022-12-17T16:55:06.181Z"
   },
   {
    "duration": 14,
    "start_time": "2022-12-17T16:55:06.203Z"
   },
   {
    "duration": 16,
    "start_time": "2022-12-17T16:55:06.219Z"
   },
   {
    "duration": 11,
    "start_time": "2022-12-17T16:55:06.237Z"
   },
   {
    "duration": 4,
    "start_time": "2022-12-17T16:55:06.249Z"
   },
   {
    "duration": 13,
    "start_time": "2022-12-17T16:55:06.254Z"
   },
   {
    "duration": 9,
    "start_time": "2022-12-17T16:55:06.269Z"
   },
   {
    "duration": 9,
    "start_time": "2022-12-17T16:55:06.280Z"
   },
   {
    "duration": 13,
    "start_time": "2022-12-17T16:55:06.290Z"
   },
   {
    "duration": 40,
    "start_time": "2022-12-17T16:55:06.305Z"
   },
   {
    "duration": 23,
    "start_time": "2022-12-17T16:55:06.346Z"
   },
   {
    "duration": 13,
    "start_time": "2022-12-17T16:55:06.370Z"
   },
   {
    "duration": 10,
    "start_time": "2022-12-17T16:55:06.385Z"
   },
   {
    "duration": 20,
    "start_time": "2022-12-17T16:55:06.396Z"
   },
   {
    "duration": 17,
    "start_time": "2022-12-17T16:55:06.418Z"
   },
   {
    "duration": 9,
    "start_time": "2022-12-17T16:55:06.437Z"
   },
   {
    "duration": 9,
    "start_time": "2022-12-17T16:55:06.448Z"
   },
   {
    "duration": 13,
    "start_time": "2022-12-17T16:55:06.462Z"
   },
   {
    "duration": 9,
    "start_time": "2022-12-17T16:55:06.477Z"
   },
   {
    "duration": 12,
    "start_time": "2022-12-17T16:55:06.488Z"
   },
   {
    "duration": 40,
    "start_time": "2022-12-17T16:55:06.502Z"
   },
   {
    "duration": 22,
    "start_time": "2022-12-17T16:55:06.544Z"
   },
   {
    "duration": 12,
    "start_time": "2022-12-17T16:55:06.568Z"
   },
   {
    "duration": 285,
    "start_time": "2022-12-17T17:25:55.481Z"
   },
   {
    "duration": 19,
    "start_time": "2022-12-17T17:26:11.556Z"
   },
   {
    "duration": 23,
    "start_time": "2022-12-17T17:27:22.825Z"
   },
   {
    "duration": 16,
    "start_time": "2022-12-17T17:27:50.092Z"
   },
   {
    "duration": 7,
    "start_time": "2022-12-17T17:27:57.386Z"
   },
   {
    "duration": 57,
    "start_time": "2022-12-17T17:28:45.226Z"
   },
   {
    "duration": 8,
    "start_time": "2022-12-17T17:28:50.982Z"
   },
   {
    "duration": 14,
    "start_time": "2022-12-17T17:29:31.752Z"
   },
   {
    "duration": 1120,
    "start_time": "2022-12-17T17:30:33.282Z"
   },
   {
    "duration": 227,
    "start_time": "2022-12-17T17:30:34.404Z"
   },
   {
    "duration": 37,
    "start_time": "2022-12-17T17:30:34.634Z"
   },
   {
    "duration": 21,
    "start_time": "2022-12-17T17:30:34.673Z"
   },
   {
    "duration": 20,
    "start_time": "2022-12-17T17:30:34.695Z"
   },
   {
    "duration": 11,
    "start_time": "2022-12-17T17:30:34.717Z"
   },
   {
    "duration": 16,
    "start_time": "2022-12-17T17:30:34.730Z"
   },
   {
    "duration": 36,
    "start_time": "2022-12-17T17:30:34.748Z"
   },
   {
    "duration": 11,
    "start_time": "2022-12-17T17:30:34.786Z"
   },
   {
    "duration": 16,
    "start_time": "2022-12-17T17:30:34.800Z"
   },
   {
    "duration": 45,
    "start_time": "2022-12-17T17:30:34.818Z"
   },
   {
    "duration": 4,
    "start_time": "2022-12-17T17:30:34.865Z"
   },
   {
    "duration": 34,
    "start_time": "2022-12-17T17:30:34.870Z"
   },
   {
    "duration": 13,
    "start_time": "2022-12-17T17:30:34.906Z"
   },
   {
    "duration": 11,
    "start_time": "2022-12-17T17:30:34.935Z"
   },
   {
    "duration": 47,
    "start_time": "2022-12-17T17:30:34.949Z"
   },
   {
    "duration": 6,
    "start_time": "2022-12-17T17:30:34.998Z"
   },
   {
    "duration": 28,
    "start_time": "2022-12-17T17:30:35.005Z"
   },
   {
    "duration": 67,
    "start_time": "2022-12-17T17:30:35.036Z"
   },
   {
    "duration": 74,
    "start_time": "2022-12-17T17:30:35.105Z"
   },
   {
    "duration": 5,
    "start_time": "2022-12-17T17:30:35.181Z"
   },
   {
    "duration": 19,
    "start_time": "2022-12-17T17:30:35.188Z"
   },
   {
    "duration": 9,
    "start_time": "2022-12-17T17:30:35.209Z"
   },
   {
    "duration": 27,
    "start_time": "2022-12-17T17:30:35.219Z"
   },
   {
    "duration": 17,
    "start_time": "2022-12-17T17:30:35.247Z"
   },
   {
    "duration": 19,
    "start_time": "2022-12-17T17:30:35.265Z"
   },
   {
    "duration": 19,
    "start_time": "2022-12-17T17:30:35.286Z"
   },
   {
    "duration": 41,
    "start_time": "2022-12-17T17:30:35.309Z"
   },
   {
    "duration": 38,
    "start_time": "2022-12-17T17:30:35.352Z"
   },
   {
    "duration": 5,
    "start_time": "2022-12-17T17:30:35.391Z"
   },
   {
    "duration": 187,
    "start_time": "2022-12-17T17:30:35.398Z"
   },
   {
    "duration": 9,
    "start_time": "2022-12-17T17:30:35.587Z"
   },
   {
    "duration": 210,
    "start_time": "2022-12-17T17:30:35.597Z"
   },
   {
    "duration": 263,
    "start_time": "2022-12-17T17:30:35.809Z"
   },
   {
    "duration": 10,
    "start_time": "2022-12-17T17:30:36.074Z"
   },
   {
    "duration": 10,
    "start_time": "2022-12-17T17:30:36.085Z"
   },
   {
    "duration": 5,
    "start_time": "2022-12-17T17:30:36.097Z"
   },
   {
    "duration": 23,
    "start_time": "2022-12-17T17:30:36.104Z"
   },
   {
    "duration": 15,
    "start_time": "2022-12-17T17:30:36.134Z"
   },
   {
    "duration": 168,
    "start_time": "2022-12-17T17:30:36.151Z"
   },
   {
    "duration": 48,
    "start_time": "2022-12-17T17:30:36.321Z"
   },
   {
    "duration": 10,
    "start_time": "2022-12-17T17:30:36.371Z"
   },
   {
    "duration": 62,
    "start_time": "2022-12-17T17:30:36.383Z"
   },
   {
    "duration": 52,
    "start_time": "2022-12-17T17:30:36.447Z"
   },
   {
    "duration": 46,
    "start_time": "2022-12-17T17:30:36.501Z"
   },
   {
    "duration": 3,
    "start_time": "2022-12-17T17:30:36.549Z"
   },
   {
    "duration": 17,
    "start_time": "2022-12-17T17:30:36.554Z"
   },
   {
    "duration": 10,
    "start_time": "2022-12-17T17:30:36.573Z"
   },
   {
    "duration": 12,
    "start_time": "2022-12-17T17:30:36.584Z"
   },
   {
    "duration": 17,
    "start_time": "2022-12-17T17:30:36.597Z"
   },
   {
    "duration": 18,
    "start_time": "2022-12-17T17:30:36.616Z"
   },
   {
    "duration": 212,
    "start_time": "2022-12-17T17:30:36.636Z"
   },
   {
    "duration": 18,
    "start_time": "2022-12-17T17:30:36.850Z"
   },
   {
    "duration": 66,
    "start_time": "2022-12-17T17:30:36.870Z"
   },
   {
    "duration": 8,
    "start_time": "2022-12-17T17:30:36.938Z"
   },
   {
    "duration": 178,
    "start_time": "2022-12-17T17:30:36.947Z"
   },
   {
    "duration": 18,
    "start_time": "2022-12-17T17:30:37.135Z"
   },
   {
    "duration": 7,
    "start_time": "2022-12-17T17:30:37.155Z"
   },
   {
    "duration": 73,
    "start_time": "2022-12-17T17:30:37.164Z"
   },
   {
    "duration": 7,
    "start_time": "2022-12-17T17:30:37.239Z"
   },
   {
    "duration": 25,
    "start_time": "2022-12-17T17:30:37.248Z"
   },
   {
    "duration": 7,
    "start_time": "2022-12-17T17:30:37.275Z"
   },
   {
    "duration": 26,
    "start_time": "2022-12-17T17:30:37.284Z"
   },
   {
    "duration": 20,
    "start_time": "2022-12-17T17:30:37.312Z"
   },
   {
    "duration": 128,
    "start_time": "2022-12-17T17:30:37.334Z"
   },
   {
    "duration": 113,
    "start_time": "2022-12-17T17:30:37.464Z"
   },
   {
    "duration": 13,
    "start_time": "2022-12-17T17:30:37.578Z"
   },
   {
    "duration": 17,
    "start_time": "2022-12-17T17:30:37.593Z"
   },
   {
    "duration": 39,
    "start_time": "2022-12-17T17:30:37.612Z"
   },
   {
    "duration": 38,
    "start_time": "2022-12-17T17:30:37.652Z"
   },
   {
    "duration": 38,
    "start_time": "2022-12-17T17:30:37.692Z"
   },
   {
    "duration": 29,
    "start_time": "2022-12-17T17:30:37.732Z"
   },
   {
    "duration": 29,
    "start_time": "2022-12-17T17:30:37.762Z"
   },
   {
    "duration": 13,
    "start_time": "2022-12-17T17:30:37.793Z"
   },
   {
    "duration": 55,
    "start_time": "2022-12-17T17:30:37.807Z"
   },
   {
    "duration": 28,
    "start_time": "2022-12-17T17:30:37.864Z"
   },
   {
    "duration": 23,
    "start_time": "2022-12-17T17:30:37.894Z"
   },
   {
    "duration": 21,
    "start_time": "2022-12-17T17:30:37.918Z"
   },
   {
    "duration": 10,
    "start_time": "2022-12-17T17:30:37.941Z"
   },
   {
    "duration": 16,
    "start_time": "2022-12-17T17:30:37.953Z"
   },
   {
    "duration": 30,
    "start_time": "2022-12-17T17:30:37.970Z"
   },
   {
    "duration": 14,
    "start_time": "2022-12-17T17:30:38.006Z"
   },
   {
    "duration": 31,
    "start_time": "2022-12-17T17:30:38.022Z"
   },
   {
    "duration": 18,
    "start_time": "2022-12-17T17:30:38.055Z"
   },
   {
    "duration": 31,
    "start_time": "2022-12-17T17:30:38.074Z"
   },
   {
    "duration": 24,
    "start_time": "2022-12-17T17:30:38.107Z"
   },
   {
    "duration": 29,
    "start_time": "2022-12-17T17:30:38.133Z"
   },
   {
    "duration": 22,
    "start_time": "2022-12-17T17:30:38.163Z"
   },
   {
    "duration": 21,
    "start_time": "2022-12-17T17:30:38.187Z"
   },
   {
    "duration": 15,
    "start_time": "2022-12-17T17:30:38.210Z"
   },
   {
    "duration": 23,
    "start_time": "2022-12-17T17:30:38.227Z"
   },
   {
    "duration": 17,
    "start_time": "2022-12-17T17:30:38.252Z"
   },
   {
    "duration": 56,
    "start_time": "2022-12-17T17:33:21.861Z"
   },
   {
    "duration": 8,
    "start_time": "2022-12-17T17:33:28.145Z"
   },
   {
    "duration": 5,
    "start_time": "2022-12-17T19:01:03.763Z"
   },
   {
    "duration": 8,
    "start_time": "2022-12-17T19:01:11.507Z"
   },
   {
    "duration": 41,
    "start_time": "2022-12-17T19:02:24.579Z"
   },
   {
    "duration": 39,
    "start_time": "2022-12-17T19:02:38.827Z"
   },
   {
    "duration": 1312,
    "start_time": "2022-12-17T19:07:01.378Z"
   },
   {
    "duration": 232,
    "start_time": "2022-12-17T19:07:02.692Z"
   },
   {
    "duration": 38,
    "start_time": "2022-12-17T19:07:02.926Z"
   },
   {
    "duration": 24,
    "start_time": "2022-12-17T19:07:02.966Z"
   },
   {
    "duration": 22,
    "start_time": "2022-12-17T19:07:02.993Z"
   },
   {
    "duration": 11,
    "start_time": "2022-12-17T19:07:03.017Z"
   },
   {
    "duration": 16,
    "start_time": "2022-12-17T19:07:03.030Z"
   },
   {
    "duration": 40,
    "start_time": "2022-12-17T19:07:03.048Z"
   },
   {
    "duration": 11,
    "start_time": "2022-12-17T19:07:03.090Z"
   },
   {
    "duration": 12,
    "start_time": "2022-12-17T19:07:03.102Z"
   },
   {
    "duration": 41,
    "start_time": "2022-12-17T19:07:03.116Z"
   },
   {
    "duration": 4,
    "start_time": "2022-12-17T19:07:03.159Z"
   },
   {
    "duration": 33,
    "start_time": "2022-12-17T19:07:03.165Z"
   },
   {
    "duration": 19,
    "start_time": "2022-12-17T19:07:03.201Z"
   },
   {
    "duration": 35,
    "start_time": "2022-12-17T19:07:03.221Z"
   },
   {
    "duration": 54,
    "start_time": "2022-12-17T19:07:03.258Z"
   },
   {
    "duration": 6,
    "start_time": "2022-12-17T19:07:03.314Z"
   },
   {
    "duration": 24,
    "start_time": "2022-12-17T19:07:03.321Z"
   },
   {
    "duration": 74,
    "start_time": "2022-12-17T19:07:03.347Z"
   },
   {
    "duration": 73,
    "start_time": "2022-12-17T19:07:03.422Z"
   },
   {
    "duration": 5,
    "start_time": "2022-12-17T19:07:03.497Z"
   },
   {
    "duration": 15,
    "start_time": "2022-12-17T19:07:03.504Z"
   },
   {
    "duration": 18,
    "start_time": "2022-12-17T19:07:03.521Z"
   },
   {
    "duration": 49,
    "start_time": "2022-12-17T19:07:03.541Z"
   },
   {
    "duration": 18,
    "start_time": "2022-12-17T19:07:03.592Z"
   },
   {
    "duration": 17,
    "start_time": "2022-12-17T19:07:03.612Z"
   },
   {
    "duration": 13,
    "start_time": "2022-12-17T19:07:03.631Z"
   },
   {
    "duration": 46,
    "start_time": "2022-12-17T19:07:03.646Z"
   },
   {
    "duration": 42,
    "start_time": "2022-12-17T19:07:03.693Z"
   },
   {
    "duration": 5,
    "start_time": "2022-12-17T19:07:03.737Z"
   },
   {
    "duration": 174,
    "start_time": "2022-12-17T19:07:03.743Z"
   },
   {
    "duration": 9,
    "start_time": "2022-12-17T19:07:03.918Z"
   },
   {
    "duration": 209,
    "start_time": "2022-12-17T19:07:03.928Z"
   },
   {
    "duration": 256,
    "start_time": "2022-12-17T19:07:04.139Z"
   },
   {
    "duration": 9,
    "start_time": "2022-12-17T19:07:04.397Z"
   },
   {
    "duration": 22,
    "start_time": "2022-12-17T19:07:04.407Z"
   },
   {
    "duration": 25,
    "start_time": "2022-12-17T19:07:04.436Z"
   },
   {
    "duration": 13,
    "start_time": "2022-12-17T19:07:04.462Z"
   },
   {
    "duration": 24,
    "start_time": "2022-12-17T19:07:04.477Z"
   },
   {
    "duration": 186,
    "start_time": "2022-12-17T19:07:04.503Z"
   },
   {
    "duration": 47,
    "start_time": "2022-12-17T19:07:04.693Z"
   },
   {
    "duration": 15,
    "start_time": "2022-12-17T19:07:04.742Z"
   },
   {
    "duration": 40,
    "start_time": "2022-12-17T19:07:04.758Z"
   },
   {
    "duration": 56,
    "start_time": "2022-12-17T19:07:04.800Z"
   },
   {
    "duration": 37,
    "start_time": "2022-12-17T19:07:04.857Z"
   },
   {
    "duration": 5,
    "start_time": "2022-12-17T19:07:04.895Z"
   },
   {
    "duration": 11,
    "start_time": "2022-12-17T19:07:04.901Z"
   },
   {
    "duration": 35,
    "start_time": "2022-12-17T19:07:04.913Z"
   },
   {
    "duration": 16,
    "start_time": "2022-12-17T19:07:04.950Z"
   },
   {
    "duration": 11,
    "start_time": "2022-12-17T19:07:04.967Z"
   },
   {
    "duration": 6,
    "start_time": "2022-12-17T19:07:04.980Z"
   },
   {
    "duration": 170,
    "start_time": "2022-12-17T19:07:04.987Z"
   },
   {
    "duration": 19,
    "start_time": "2022-12-17T19:07:05.158Z"
   },
   {
    "duration": 58,
    "start_time": "2022-12-17T19:07:05.179Z"
   },
   {
    "duration": 7,
    "start_time": "2022-12-17T19:07:05.239Z"
   },
   {
    "duration": 162,
    "start_time": "2022-12-17T19:07:05.248Z"
   },
   {
    "duration": 23,
    "start_time": "2022-12-17T19:07:05.413Z"
   },
   {
    "duration": 13,
    "start_time": "2022-12-17T19:07:05.438Z"
   },
   {
    "duration": 6,
    "start_time": "2022-12-17T19:07:05.453Z"
   },
   {
    "duration": 51,
    "start_time": "2022-12-17T19:07:05.461Z"
   },
   {
    "duration": 22,
    "start_time": "2022-12-17T19:07:05.514Z"
   },
   {
    "duration": 3,
    "start_time": "2022-12-17T19:07:05.538Z"
   },
   {
    "duration": 55,
    "start_time": "2022-12-17T19:07:05.543Z"
   },
   {
    "duration": 8,
    "start_time": "2022-12-17T19:07:05.600Z"
   },
   {
    "duration": 35,
    "start_time": "2022-12-17T19:07:05.610Z"
   },
   {
    "duration": 13,
    "start_time": "2022-12-17T19:07:05.647Z"
   },
   {
    "duration": 122,
    "start_time": "2022-12-17T19:07:05.661Z"
   },
   {
    "duration": 111,
    "start_time": "2022-12-17T19:07:05.784Z"
   },
   {
    "duration": 11,
    "start_time": "2022-12-17T19:07:05.897Z"
   },
   {
    "duration": 6,
    "start_time": "2022-12-17T19:07:05.910Z"
   },
   {
    "duration": 22,
    "start_time": "2022-12-17T19:07:05.917Z"
   },
   {
    "duration": 15,
    "start_time": "2022-12-17T19:07:05.940Z"
   },
   {
    "duration": 10,
    "start_time": "2022-12-17T19:07:05.957Z"
   },
   {
    "duration": 16,
    "start_time": "2022-12-17T19:07:05.969Z"
   },
   {
    "duration": 14,
    "start_time": "2022-12-17T19:07:05.987Z"
   },
   {
    "duration": 5,
    "start_time": "2022-12-17T19:07:06.002Z"
   },
   {
    "duration": 34,
    "start_time": "2022-12-17T19:07:06.009Z"
   },
   {
    "duration": 10,
    "start_time": "2022-12-17T19:07:06.045Z"
   },
   {
    "duration": 8,
    "start_time": "2022-12-17T19:07:06.057Z"
   },
   {
    "duration": 9,
    "start_time": "2022-12-17T19:07:06.067Z"
   },
   {
    "duration": 9,
    "start_time": "2022-12-17T19:07:06.078Z"
   },
   {
    "duration": 13,
    "start_time": "2022-12-17T19:07:06.088Z"
   },
   {
    "duration": 40,
    "start_time": "2022-12-17T19:07:06.102Z"
   },
   {
    "duration": 11,
    "start_time": "2022-12-17T19:07:06.143Z"
   },
   {
    "duration": 18,
    "start_time": "2022-12-17T19:07:06.155Z"
   },
   {
    "duration": 16,
    "start_time": "2022-12-17T19:07:06.174Z"
   },
   {
    "duration": 17,
    "start_time": "2022-12-17T19:07:06.191Z"
   },
   {
    "duration": 9,
    "start_time": "2022-12-17T19:07:06.209Z"
   },
   {
    "duration": 28,
    "start_time": "2022-12-17T19:07:06.219Z"
   },
   {
    "duration": 9,
    "start_time": "2022-12-17T19:07:06.249Z"
   },
   {
    "duration": 9,
    "start_time": "2022-12-17T19:07:06.259Z"
   },
   {
    "duration": 8,
    "start_time": "2022-12-17T19:07:06.269Z"
   },
   {
    "duration": 12,
    "start_time": "2022-12-17T19:07:06.279Z"
   },
   {
    "duration": 9,
    "start_time": "2022-12-17T19:07:06.292Z"
   },
   {
    "duration": 1157,
    "start_time": "2022-12-17T19:11:33.244Z"
   },
   {
    "duration": 240,
    "start_time": "2022-12-17T19:11:34.403Z"
   },
   {
    "duration": 37,
    "start_time": "2022-12-17T19:11:34.645Z"
   },
   {
    "duration": 12,
    "start_time": "2022-12-17T19:11:34.684Z"
   },
   {
    "duration": 14,
    "start_time": "2022-12-17T19:11:34.697Z"
   },
   {
    "duration": 22,
    "start_time": "2022-12-17T19:11:34.713Z"
   },
   {
    "duration": 20,
    "start_time": "2022-12-17T19:11:34.738Z"
   },
   {
    "duration": 32,
    "start_time": "2022-12-17T19:11:34.760Z"
   },
   {
    "duration": 11,
    "start_time": "2022-12-17T19:11:34.794Z"
   },
   {
    "duration": 12,
    "start_time": "2022-12-17T19:11:34.807Z"
   },
   {
    "duration": 44,
    "start_time": "2022-12-17T19:11:34.820Z"
   },
   {
    "duration": 6,
    "start_time": "2022-12-17T19:11:34.865Z"
   },
   {
    "duration": 42,
    "start_time": "2022-12-17T19:11:34.872Z"
   },
   {
    "duration": 30,
    "start_time": "2022-12-17T19:11:34.916Z"
   },
   {
    "duration": 13,
    "start_time": "2022-12-17T19:11:34.948Z"
   },
   {
    "duration": 59,
    "start_time": "2022-12-17T19:11:34.963Z"
   },
   {
    "duration": 7,
    "start_time": "2022-12-17T19:11:35.023Z"
   },
   {
    "duration": 6,
    "start_time": "2022-12-17T19:11:35.036Z"
   },
   {
    "duration": 79,
    "start_time": "2022-12-17T19:11:35.044Z"
   },
   {
    "duration": 80,
    "start_time": "2022-12-17T19:11:35.125Z"
   },
   {
    "duration": 6,
    "start_time": "2022-12-17T19:11:35.206Z"
   },
   {
    "duration": 22,
    "start_time": "2022-12-17T19:11:35.214Z"
   },
   {
    "duration": 5,
    "start_time": "2022-12-17T19:11:35.238Z"
   },
   {
    "duration": 18,
    "start_time": "2022-12-17T19:11:35.245Z"
   },
   {
    "duration": 35,
    "start_time": "2022-12-17T19:11:35.265Z"
   },
   {
    "duration": 24,
    "start_time": "2022-12-17T19:11:35.302Z"
   },
   {
    "duration": 25,
    "start_time": "2022-12-17T19:11:35.328Z"
   },
   {
    "duration": 56,
    "start_time": "2022-12-17T19:11:35.358Z"
   },
   {
    "duration": 41,
    "start_time": "2022-12-17T19:11:35.416Z"
   },
   {
    "duration": 5,
    "start_time": "2022-12-17T19:11:35.459Z"
   },
   {
    "duration": 181,
    "start_time": "2022-12-17T19:11:35.466Z"
   },
   {
    "duration": 9,
    "start_time": "2022-12-17T19:11:35.650Z"
   },
   {
    "duration": 209,
    "start_time": "2022-12-17T19:11:35.661Z"
   },
   {
    "duration": 282,
    "start_time": "2022-12-17T19:11:35.872Z"
   },
   {
    "duration": 10,
    "start_time": "2022-12-17T19:11:36.156Z"
   },
   {
    "duration": 11,
    "start_time": "2022-12-17T19:11:36.167Z"
   },
   {
    "duration": 8,
    "start_time": "2022-12-17T19:11:36.180Z"
   },
   {
    "duration": 7,
    "start_time": "2022-12-17T19:11:36.190Z"
   },
   {
    "duration": 30,
    "start_time": "2022-12-17T19:11:36.198Z"
   },
   {
    "duration": 195,
    "start_time": "2022-12-17T19:11:36.236Z"
   },
   {
    "duration": 41,
    "start_time": "2022-12-17T19:11:36.436Z"
   },
   {
    "duration": 11,
    "start_time": "2022-12-17T19:11:36.478Z"
   },
   {
    "duration": 67,
    "start_time": "2022-12-17T19:11:36.490Z"
   },
   {
    "duration": 47,
    "start_time": "2022-12-17T19:11:36.559Z"
   },
   {
    "duration": 57,
    "start_time": "2022-12-17T19:11:36.608Z"
   },
   {
    "duration": 5,
    "start_time": "2022-12-17T19:11:36.667Z"
   },
   {
    "duration": 17,
    "start_time": "2022-12-17T19:11:36.674Z"
   },
   {
    "duration": 19,
    "start_time": "2022-12-17T19:11:36.693Z"
   },
   {
    "duration": 10,
    "start_time": "2022-12-17T19:11:36.714Z"
   },
   {
    "duration": 16,
    "start_time": "2022-12-17T19:11:36.726Z"
   },
   {
    "duration": 10,
    "start_time": "2022-12-17T19:11:36.744Z"
   },
   {
    "duration": 198,
    "start_time": "2022-12-17T19:11:36.756Z"
   },
   {
    "duration": 20,
    "start_time": "2022-12-17T19:11:36.955Z"
   },
   {
    "duration": 66,
    "start_time": "2022-12-17T19:11:36.977Z"
   },
   {
    "duration": 7,
    "start_time": "2022-12-17T19:11:37.045Z"
   },
   {
    "duration": 173,
    "start_time": "2022-12-17T19:11:37.053Z"
   },
   {
    "duration": 16,
    "start_time": "2022-12-17T19:11:37.235Z"
   },
   {
    "duration": 18,
    "start_time": "2022-12-17T19:11:37.253Z"
   },
   {
    "duration": 7,
    "start_time": "2022-12-17T19:11:37.273Z"
   },
   {
    "duration": 67,
    "start_time": "2022-12-17T19:11:37.282Z"
   },
   {
    "duration": 9,
    "start_time": "2022-12-17T19:11:37.350Z"
   },
   {
    "duration": 16,
    "start_time": "2022-12-17T19:11:37.360Z"
   },
   {
    "duration": 61,
    "start_time": "2022-12-17T19:11:37.378Z"
   },
   {
    "duration": 121,
    "start_time": "2022-12-17T19:11:37.441Z"
   },
   {
    "duration": 0,
    "start_time": "2022-12-17T19:11:37.565Z"
   },
   {
    "duration": 0,
    "start_time": "2022-12-17T19:11:37.566Z"
   },
   {
    "duration": 0,
    "start_time": "2022-12-17T19:11:37.568Z"
   },
   {
    "duration": 0,
    "start_time": "2022-12-17T19:11:37.569Z"
   },
   {
    "duration": 0,
    "start_time": "2022-12-17T19:11:37.570Z"
   },
   {
    "duration": 0,
    "start_time": "2022-12-17T19:11:37.572Z"
   },
   {
    "duration": 0,
    "start_time": "2022-12-17T19:11:37.573Z"
   },
   {
    "duration": 0,
    "start_time": "2022-12-17T19:11:37.575Z"
   },
   {
    "duration": 0,
    "start_time": "2022-12-17T19:11:37.576Z"
   },
   {
    "duration": 0,
    "start_time": "2022-12-17T19:11:37.578Z"
   },
   {
    "duration": 0,
    "start_time": "2022-12-17T19:11:37.579Z"
   },
   {
    "duration": 0,
    "start_time": "2022-12-17T19:11:37.581Z"
   },
   {
    "duration": 0,
    "start_time": "2022-12-17T19:11:37.582Z"
   },
   {
    "duration": 0,
    "start_time": "2022-12-17T19:11:37.583Z"
   },
   {
    "duration": 0,
    "start_time": "2022-12-17T19:11:37.585Z"
   },
   {
    "duration": 0,
    "start_time": "2022-12-17T19:11:37.586Z"
   },
   {
    "duration": 0,
    "start_time": "2022-12-17T19:11:37.587Z"
   },
   {
    "duration": 0,
    "start_time": "2022-12-17T19:11:37.589Z"
   },
   {
    "duration": 0,
    "start_time": "2022-12-17T19:11:37.590Z"
   },
   {
    "duration": 0,
    "start_time": "2022-12-17T19:11:37.592Z"
   },
   {
    "duration": 0,
    "start_time": "2022-12-17T19:11:37.636Z"
   },
   {
    "duration": 0,
    "start_time": "2022-12-17T19:11:37.636Z"
   },
   {
    "duration": 0,
    "start_time": "2022-12-17T19:11:37.638Z"
   },
   {
    "duration": 0,
    "start_time": "2022-12-17T19:11:37.639Z"
   },
   {
    "duration": 0,
    "start_time": "2022-12-17T19:11:37.640Z"
   },
   {
    "duration": 0,
    "start_time": "2022-12-17T19:11:37.641Z"
   },
   {
    "duration": 0,
    "start_time": "2022-12-17T19:11:37.643Z"
   },
   {
    "duration": 0,
    "start_time": "2022-12-17T19:11:37.644Z"
   },
   {
    "duration": 0,
    "start_time": "2022-12-17T19:11:37.646Z"
   },
   {
    "duration": 0,
    "start_time": "2022-12-17T19:11:37.647Z"
   },
   {
    "duration": 7,
    "start_time": "2022-12-17T19:20:11.248Z"
   },
   {
    "duration": 7,
    "start_time": "2022-12-17T19:20:45.450Z"
   },
   {
    "duration": 742,
    "start_time": "2022-12-17T19:22:41.458Z"
   },
   {
    "duration": 1188,
    "start_time": "2022-12-17T19:22:47.509Z"
   },
   {
    "duration": 240,
    "start_time": "2022-12-17T19:22:48.699Z"
   },
   {
    "duration": 39,
    "start_time": "2022-12-17T19:22:48.941Z"
   },
   {
    "duration": 17,
    "start_time": "2022-12-17T19:22:48.982Z"
   },
   {
    "duration": 24,
    "start_time": "2022-12-17T19:22:49.000Z"
   },
   {
    "duration": 11,
    "start_time": "2022-12-17T19:22:49.025Z"
   },
   {
    "duration": 12,
    "start_time": "2022-12-17T19:22:49.038Z"
   },
   {
    "duration": 44,
    "start_time": "2022-12-17T19:22:49.053Z"
   },
   {
    "duration": 11,
    "start_time": "2022-12-17T19:22:49.099Z"
   },
   {
    "duration": 13,
    "start_time": "2022-12-17T19:22:49.114Z"
   },
   {
    "duration": 45,
    "start_time": "2022-12-17T19:22:49.128Z"
   },
   {
    "duration": 6,
    "start_time": "2022-12-17T19:22:49.176Z"
   },
   {
    "duration": 40,
    "start_time": "2022-12-17T19:22:49.184Z"
   },
   {
    "duration": 17,
    "start_time": "2022-12-17T19:22:49.227Z"
   },
   {
    "duration": 17,
    "start_time": "2022-12-17T19:22:49.246Z"
   },
   {
    "duration": 82,
    "start_time": "2022-12-17T19:22:49.265Z"
   },
   {
    "duration": 7,
    "start_time": "2022-12-17T19:22:49.349Z"
   },
   {
    "duration": 17,
    "start_time": "2022-12-17T19:22:49.357Z"
   },
   {
    "duration": 70,
    "start_time": "2022-12-17T19:22:49.376Z"
   },
   {
    "duration": 71,
    "start_time": "2022-12-17T19:22:49.448Z"
   },
   {
    "duration": 14,
    "start_time": "2022-12-17T19:22:49.521Z"
   },
   {
    "duration": 9,
    "start_time": "2022-12-17T19:22:49.537Z"
   },
   {
    "duration": 10,
    "start_time": "2022-12-17T19:22:49.548Z"
   },
   {
    "duration": 17,
    "start_time": "2022-12-17T19:22:49.559Z"
   },
   {
    "duration": 11,
    "start_time": "2022-12-17T19:22:49.578Z"
   },
   {
    "duration": 19,
    "start_time": "2022-12-17T19:22:49.591Z"
   },
   {
    "duration": 28,
    "start_time": "2022-12-17T19:22:49.612Z"
   },
   {
    "duration": 42,
    "start_time": "2022-12-17T19:22:49.644Z"
   },
   {
    "duration": 58,
    "start_time": "2022-12-17T19:22:49.688Z"
   },
   {
    "duration": 5,
    "start_time": "2022-12-17T19:22:49.748Z"
   },
   {
    "duration": 185,
    "start_time": "2022-12-17T19:22:49.755Z"
   },
   {
    "duration": 9,
    "start_time": "2022-12-17T19:22:49.941Z"
   },
   {
    "duration": 221,
    "start_time": "2022-12-17T19:22:49.951Z"
   },
   {
    "duration": 268,
    "start_time": "2022-12-17T19:22:50.174Z"
   },
   {
    "duration": 10,
    "start_time": "2022-12-17T19:22:50.444Z"
   },
   {
    "duration": 14,
    "start_time": "2022-12-17T19:22:50.456Z"
   },
   {
    "duration": 6,
    "start_time": "2022-12-17T19:22:50.472Z"
   },
   {
    "duration": 15,
    "start_time": "2022-12-17T19:22:50.480Z"
   },
   {
    "duration": 29,
    "start_time": "2022-12-17T19:22:50.497Z"
   },
   {
    "duration": 184,
    "start_time": "2022-12-17T19:22:50.528Z"
   },
   {
    "duration": 57,
    "start_time": "2022-12-17T19:22:50.714Z"
   },
   {
    "duration": 13,
    "start_time": "2022-12-17T19:22:50.773Z"
   },
   {
    "duration": 76,
    "start_time": "2022-12-17T19:22:50.788Z"
   },
   {
    "duration": 44,
    "start_time": "2022-12-17T19:22:50.866Z"
   },
   {
    "duration": 47,
    "start_time": "2022-12-17T19:22:50.912Z"
   },
   {
    "duration": 4,
    "start_time": "2022-12-17T19:22:50.961Z"
   },
   {
    "duration": 40,
    "start_time": "2022-12-17T19:22:50.966Z"
   },
   {
    "duration": 28,
    "start_time": "2022-12-17T19:22:51.008Z"
   },
   {
    "duration": 20,
    "start_time": "2022-12-17T19:22:51.038Z"
   },
   {
    "duration": 32,
    "start_time": "2022-12-17T19:22:51.060Z"
   },
   {
    "duration": 23,
    "start_time": "2022-12-17T19:22:51.094Z"
   },
   {
    "duration": 218,
    "start_time": "2022-12-17T19:22:51.120Z"
   },
   {
    "duration": 20,
    "start_time": "2022-12-17T19:22:51.340Z"
   },
   {
    "duration": 53,
    "start_time": "2022-12-17T19:22:51.362Z"
   },
   {
    "duration": 24,
    "start_time": "2022-12-17T19:22:51.418Z"
   },
   {
    "duration": 177,
    "start_time": "2022-12-17T19:22:51.444Z"
   },
   {
    "duration": 23,
    "start_time": "2022-12-17T19:22:51.624Z"
   },
   {
    "duration": 15,
    "start_time": "2022-12-17T19:22:51.649Z"
   },
   {
    "duration": 15,
    "start_time": "2022-12-17T19:22:51.666Z"
   },
   {
    "duration": 72,
    "start_time": "2022-12-17T19:22:51.682Z"
   },
   {
    "duration": 3,
    "start_time": "2022-12-17T19:22:51.756Z"
   },
   {
    "duration": 823,
    "start_time": "2022-12-17T19:22:51.761Z"
   },
   {
    "duration": 0,
    "start_time": "2022-12-17T19:22:52.585Z"
   },
   {
    "duration": 0,
    "start_time": "2022-12-17T19:22:52.587Z"
   },
   {
    "duration": 0,
    "start_time": "2022-12-17T19:22:52.589Z"
   },
   {
    "duration": 0,
    "start_time": "2022-12-17T19:22:52.591Z"
   },
   {
    "duration": 0,
    "start_time": "2022-12-17T19:22:52.592Z"
   },
   {
    "duration": 0,
    "start_time": "2022-12-17T19:22:52.593Z"
   },
   {
    "duration": 0,
    "start_time": "2022-12-17T19:22:52.595Z"
   },
   {
    "duration": 0,
    "start_time": "2022-12-17T19:22:52.596Z"
   },
   {
    "duration": 0,
    "start_time": "2022-12-17T19:22:52.597Z"
   },
   {
    "duration": 0,
    "start_time": "2022-12-17T19:22:52.599Z"
   },
   {
    "duration": 0,
    "start_time": "2022-12-17T19:22:52.600Z"
   },
   {
    "duration": 0,
    "start_time": "2022-12-17T19:22:52.601Z"
   },
   {
    "duration": 0,
    "start_time": "2022-12-17T19:22:52.603Z"
   },
   {
    "duration": 0,
    "start_time": "2022-12-17T19:22:52.604Z"
   },
   {
    "duration": 0,
    "start_time": "2022-12-17T19:22:52.605Z"
   },
   {
    "duration": 0,
    "start_time": "2022-12-17T19:22:52.607Z"
   },
   {
    "duration": 0,
    "start_time": "2022-12-17T19:22:52.608Z"
   },
   {
    "duration": 0,
    "start_time": "2022-12-17T19:22:52.609Z"
   },
   {
    "duration": 0,
    "start_time": "2022-12-17T19:22:52.611Z"
   },
   {
    "duration": 0,
    "start_time": "2022-12-17T19:22:52.612Z"
   },
   {
    "duration": 0,
    "start_time": "2022-12-17T19:22:52.614Z"
   },
   {
    "duration": 0,
    "start_time": "2022-12-17T19:22:52.615Z"
   },
   {
    "duration": 0,
    "start_time": "2022-12-17T19:22:52.616Z"
   },
   {
    "duration": 0,
    "start_time": "2022-12-17T19:22:52.618Z"
   },
   {
    "duration": 0,
    "start_time": "2022-12-17T19:22:52.620Z"
   },
   {
    "duration": 0,
    "start_time": "2022-12-17T19:22:52.621Z"
   },
   {
    "duration": 0,
    "start_time": "2022-12-17T19:22:52.622Z"
   },
   {
    "duration": 0,
    "start_time": "2022-12-17T19:22:52.635Z"
   },
   {
    "duration": 0,
    "start_time": "2022-12-17T19:22:52.636Z"
   },
   {
    "duration": 0,
    "start_time": "2022-12-17T19:22:52.638Z"
   },
   {
    "duration": 0,
    "start_time": "2022-12-17T19:22:52.639Z"
   },
   {
    "duration": 0,
    "start_time": "2022-12-17T19:22:52.640Z"
   },
   {
    "duration": 0,
    "start_time": "2022-12-17T19:22:52.641Z"
   },
   {
    "duration": 5,
    "start_time": "2022-12-17T19:26:49.231Z"
   },
   {
    "duration": 52,
    "start_time": "2022-12-17T19:26:50.758Z"
   },
   {
    "duration": 6,
    "start_time": "2022-12-17T19:26:52.795Z"
   },
   {
    "duration": 231,
    "start_time": "2022-12-17T19:26:53.970Z"
   },
   {
    "duration": 177,
    "start_time": "2022-12-17T19:31:08.880Z"
   },
   {
    "duration": 10,
    "start_time": "2022-12-17T19:32:07.818Z"
   },
   {
    "duration": 316,
    "start_time": "2022-12-17T19:32:22.438Z"
   },
   {
    "duration": 13,
    "start_time": "2022-12-17T19:37:19.470Z"
   },
   {
    "duration": 16,
    "start_time": "2022-12-17T19:50:20.638Z"
   },
   {
    "duration": 48,
    "start_time": "2022-12-17T19:52:11.505Z"
   },
   {
    "duration": 183,
    "start_time": "2022-12-17T19:57:52.869Z"
   },
   {
    "duration": 212,
    "start_time": "2022-12-17T19:58:30.744Z"
   },
   {
    "duration": 241,
    "start_time": "2022-12-17T19:58:36.985Z"
   },
   {
    "duration": 207,
    "start_time": "2022-12-17T19:59:03.689Z"
   },
   {
    "duration": 46,
    "start_time": "2022-12-17T19:59:52.149Z"
   },
   {
    "duration": 203,
    "start_time": "2022-12-17T20:01:26.903Z"
   },
   {
    "duration": 253,
    "start_time": "2022-12-17T20:05:58.632Z"
   },
   {
    "duration": 261,
    "start_time": "2022-12-17T20:06:13.383Z"
   },
   {
    "duration": 470,
    "start_time": "2022-12-17T20:06:24.525Z"
   },
   {
    "duration": 296,
    "start_time": "2022-12-17T20:06:28.690Z"
   },
   {
    "duration": 1138,
    "start_time": "2022-12-17T20:52:40.658Z"
   },
   {
    "duration": 250,
    "start_time": "2022-12-17T20:52:41.799Z"
   },
   {
    "duration": 45,
    "start_time": "2022-12-17T20:52:42.051Z"
   },
   {
    "duration": 23,
    "start_time": "2022-12-17T20:52:42.098Z"
   },
   {
    "duration": 25,
    "start_time": "2022-12-17T20:52:42.123Z"
   },
   {
    "duration": 11,
    "start_time": "2022-12-17T20:52:42.150Z"
   },
   {
    "duration": 21,
    "start_time": "2022-12-17T20:52:42.163Z"
   },
   {
    "duration": 32,
    "start_time": "2022-12-17T20:52:42.186Z"
   },
   {
    "duration": 14,
    "start_time": "2022-12-17T20:52:42.220Z"
   },
   {
    "duration": 10,
    "start_time": "2022-12-17T20:52:42.238Z"
   },
   {
    "duration": 54,
    "start_time": "2022-12-17T20:52:42.250Z"
   },
   {
    "duration": 9,
    "start_time": "2022-12-17T20:52:42.307Z"
   },
   {
    "duration": 37,
    "start_time": "2022-12-17T20:52:42.336Z"
   },
   {
    "duration": 18,
    "start_time": "2022-12-17T20:52:42.376Z"
   },
   {
    "duration": 19,
    "start_time": "2022-12-17T20:52:42.396Z"
   },
   {
    "duration": 78,
    "start_time": "2022-12-17T20:52:42.417Z"
   },
   {
    "duration": 8,
    "start_time": "2022-12-17T20:52:42.497Z"
   },
   {
    "duration": 22,
    "start_time": "2022-12-17T20:52:42.507Z"
   },
   {
    "duration": 106,
    "start_time": "2022-12-17T20:52:42.536Z"
   },
   {
    "duration": 104,
    "start_time": "2022-12-17T20:52:42.644Z"
   },
   {
    "duration": 9,
    "start_time": "2022-12-17T20:52:42.756Z"
   },
   {
    "duration": 31,
    "start_time": "2022-12-17T20:52:42.769Z"
   },
   {
    "duration": 34,
    "start_time": "2022-12-17T20:52:42.802Z"
   },
   {
    "duration": 35,
    "start_time": "2022-12-17T20:52:42.840Z"
   },
   {
    "duration": 51,
    "start_time": "2022-12-17T20:52:42.877Z"
   },
   {
    "duration": 21,
    "start_time": "2022-12-17T20:52:42.930Z"
   },
   {
    "duration": 11,
    "start_time": "2022-12-17T20:52:42.953Z"
   },
   {
    "duration": 48,
    "start_time": "2022-12-17T20:52:42.969Z"
   },
   {
    "duration": 50,
    "start_time": "2022-12-17T20:52:43.019Z"
   },
   {
    "duration": 5,
    "start_time": "2022-12-17T20:52:43.071Z"
   },
   {
    "duration": 205,
    "start_time": "2022-12-17T20:52:43.078Z"
   },
   {
    "duration": 12,
    "start_time": "2022-12-17T20:52:43.285Z"
   },
   {
    "duration": 309,
    "start_time": "2022-12-17T20:52:43.300Z"
   },
   {
    "duration": 408,
    "start_time": "2022-12-17T20:52:43.611Z"
   },
   {
    "duration": 23,
    "start_time": "2022-12-17T20:52:44.022Z"
   },
   {
    "duration": 48,
    "start_time": "2022-12-17T20:52:44.048Z"
   },
   {
    "duration": 72,
    "start_time": "2022-12-17T20:52:44.098Z"
   },
   {
    "duration": 40,
    "start_time": "2022-12-17T20:52:44.173Z"
   },
   {
    "duration": 32,
    "start_time": "2022-12-17T20:52:44.215Z"
   },
   {
    "duration": 195,
    "start_time": "2022-12-17T20:52:44.249Z"
   },
   {
    "duration": 43,
    "start_time": "2022-12-17T20:52:44.446Z"
   },
   {
    "duration": 12,
    "start_time": "2022-12-17T20:52:44.491Z"
   },
   {
    "duration": 98,
    "start_time": "2022-12-17T20:52:44.505Z"
   },
   {
    "duration": 78,
    "start_time": "2022-12-17T20:52:44.606Z"
   },
   {
    "duration": 76,
    "start_time": "2022-12-17T20:52:44.687Z"
   },
   {
    "duration": 75,
    "start_time": "2022-12-17T20:52:44.766Z"
   },
   {
    "duration": 4,
    "start_time": "2022-12-17T20:52:44.844Z"
   },
   {
    "duration": 13,
    "start_time": "2022-12-17T20:52:44.850Z"
   },
   {
    "duration": 16,
    "start_time": "2022-12-17T20:52:44.866Z"
   },
   {
    "duration": 19,
    "start_time": "2022-12-17T20:52:44.885Z"
   },
   {
    "duration": 21,
    "start_time": "2022-12-17T20:52:44.907Z"
   },
   {
    "duration": 33,
    "start_time": "2022-12-17T20:52:44.930Z"
   },
   {
    "duration": 22,
    "start_time": "2022-12-17T20:52:44.966Z"
   },
   {
    "duration": 235,
    "start_time": "2022-12-17T20:52:44.990Z"
   },
   {
    "duration": 296,
    "start_time": "2022-12-17T20:52:45.227Z"
   },
   {
    "duration": 30,
    "start_time": "2022-12-17T20:52:45.525Z"
   },
   {
    "duration": 68,
    "start_time": "2022-12-17T20:52:45.557Z"
   },
   {
    "duration": 9,
    "start_time": "2022-12-17T20:52:45.627Z"
   },
   {
    "duration": 193,
    "start_time": "2022-12-17T20:52:45.637Z"
   },
   {
    "duration": 18,
    "start_time": "2022-12-17T20:52:45.836Z"
   },
   {
    "duration": 16,
    "start_time": "2022-12-17T20:52:45.856Z"
   },
   {
    "duration": 18,
    "start_time": "2022-12-17T20:52:45.874Z"
   },
   {
    "duration": 81,
    "start_time": "2022-12-17T20:52:45.895Z"
   },
   {
    "duration": 5,
    "start_time": "2022-12-17T20:52:45.979Z"
   },
   {
    "duration": 24,
    "start_time": "2022-12-17T20:52:45.986Z"
   },
   {
    "duration": 89,
    "start_time": "2022-12-17T20:52:46.013Z"
   },
   {
    "duration": 199,
    "start_time": "2022-12-17T20:52:46.104Z"
   },
   {
    "duration": 213,
    "start_time": "2022-12-17T20:52:46.306Z"
   },
   {
    "duration": 17,
    "start_time": "2022-12-17T20:52:46.521Z"
   },
   {
    "duration": 14,
    "start_time": "2022-12-17T20:52:46.540Z"
   },
   {
    "duration": 147,
    "start_time": "2022-12-17T20:52:46.556Z"
   },
   {
    "duration": 149,
    "start_time": "2022-12-17T20:52:46.705Z"
   },
   {
    "duration": 12,
    "start_time": "2022-12-17T20:52:46.856Z"
   },
   {
    "duration": 16,
    "start_time": "2022-12-17T20:52:46.870Z"
   },
   {
    "duration": 16,
    "start_time": "2022-12-17T20:52:46.889Z"
   },
   {
    "duration": 23,
    "start_time": "2022-12-17T20:52:46.906Z"
   },
   {
    "duration": 17,
    "start_time": "2022-12-17T20:52:46.930Z"
   },
   {
    "duration": 97,
    "start_time": "2022-12-17T20:52:46.948Z"
   },
   {
    "duration": 16,
    "start_time": "2022-12-17T20:52:47.048Z"
   },
   {
    "duration": 4,
    "start_time": "2022-12-17T20:52:47.067Z"
   },
   {
    "duration": 26,
    "start_time": "2022-12-17T20:52:47.073Z"
   },
   {
    "duration": 29,
    "start_time": "2022-12-17T20:52:47.107Z"
   },
   {
    "duration": 12,
    "start_time": "2022-12-17T20:52:47.139Z"
   },
   {
    "duration": 18,
    "start_time": "2022-12-17T20:52:47.154Z"
   },
   {
    "duration": 20,
    "start_time": "2022-12-17T20:52:47.174Z"
   },
   {
    "duration": 24,
    "start_time": "2022-12-17T20:52:47.196Z"
   },
   {
    "duration": 30,
    "start_time": "2022-12-17T20:52:47.221Z"
   },
   {
    "duration": 15,
    "start_time": "2022-12-17T20:52:47.252Z"
   },
   {
    "duration": 16,
    "start_time": "2022-12-17T20:52:47.269Z"
   },
   {
    "duration": 31,
    "start_time": "2022-12-17T20:52:47.287Z"
   },
   {
    "duration": 18,
    "start_time": "2022-12-17T20:52:47.319Z"
   },
   {
    "duration": 17,
    "start_time": "2022-12-17T20:52:47.339Z"
   },
   {
    "duration": 22,
    "start_time": "2022-12-17T20:52:47.358Z"
   },
   {
    "duration": 24,
    "start_time": "2022-12-17T20:52:47.382Z"
   },
   {
    "duration": 36,
    "start_time": "2022-12-17T20:52:47.408Z"
   },
   {
    "duration": 22,
    "start_time": "2022-12-17T20:52:47.446Z"
   },
   {
    "duration": 16,
    "start_time": "2022-12-17T20:52:47.471Z"
   },
   {
    "duration": 20,
    "start_time": "2022-12-17T20:52:47.489Z"
   }
  ],
  "kernelspec": {
   "display_name": "Python 3 (ipykernel)",
   "language": "python",
   "name": "python3"
  },
  "language_info": {
   "codemirror_mode": {
    "name": "ipython",
    "version": 3
   },
   "file_extension": ".py",
   "mimetype": "text/x-python",
   "name": "python",
   "nbconvert_exporter": "python",
   "pygments_lexer": "ipython3",
   "version": "3.9.12"
  },
  "toc": {
   "base_numbering": 1,
   "nav_menu": {},
   "number_sections": true,
   "sideBar": true,
   "skip_h1_title": true,
   "title_cell": "Table of Contents",
   "title_sidebar": "Contents",
   "toc_cell": false,
   "toc_position": {},
   "toc_section_display": true,
   "toc_window_display": true
  }
 },
 "nbformat": 4,
 "nbformat_minor": 2
}
